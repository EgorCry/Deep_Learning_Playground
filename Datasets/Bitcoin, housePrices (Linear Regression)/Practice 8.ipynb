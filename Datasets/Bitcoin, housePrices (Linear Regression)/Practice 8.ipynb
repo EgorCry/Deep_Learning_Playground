{
 "cells": [
  {
   "cell_type": "code",
   "execution_count": 2,
   "id": "949f04a0",
   "metadata": {},
   "outputs": [],
   "source": [
    "import numpy as np\n",
    "import matplotlib.pyplot as plt\n",
    "import os\n",
    "import pandas as pd"
   ]
  },
  {
   "cell_type": "code",
   "execution_count": 12,
   "id": "ea5e47e8",
   "metadata": {},
   "outputs": [
    {
     "data": {
      "text/html": [
       "<div>\n",
       "<style scoped>\n",
       "    .dataframe tbody tr th:only-of-type {\n",
       "        vertical-align: middle;\n",
       "    }\n",
       "\n",
       "    .dataframe tbody tr th {\n",
       "        vertical-align: top;\n",
       "    }\n",
       "\n",
       "    .dataframe thead th {\n",
       "        text-align: right;\n",
       "    }\n",
       "</style>\n",
       "<table border=\"1\" class=\"dataframe\">\n",
       "  <thead>\n",
       "    <tr style=\"text-align: right;\">\n",
       "      <th></th>\n",
       "      <th>area</th>\n",
       "      <th>room</th>\n",
       "      <th>parking</th>\n",
       "      <th>warehouse</th>\n",
       "      <th>elevator</th>\n",
       "      <th>address</th>\n",
       "      <th>price</th>\n",
       "      <th>price_dollars</th>\n",
       "    </tr>\n",
       "  </thead>\n",
       "  <tbody>\n",
       "    <tr>\n",
       "      <th>0</th>\n",
       "      <td>63</td>\n",
       "      <td>1</td>\n",
       "      <td>True</td>\n",
       "      <td>True</td>\n",
       "      <td>True</td>\n",
       "      <td>Shahran</td>\n",
       "      <td>1.850000e+09</td>\n",
       "      <td>61666.67</td>\n",
       "    </tr>\n",
       "    <tr>\n",
       "      <th>1</th>\n",
       "      <td>60</td>\n",
       "      <td>1</td>\n",
       "      <td>True</td>\n",
       "      <td>True</td>\n",
       "      <td>True</td>\n",
       "      <td>Shahran</td>\n",
       "      <td>1.850000e+09</td>\n",
       "      <td>61666.67</td>\n",
       "    </tr>\n",
       "    <tr>\n",
       "      <th>2</th>\n",
       "      <td>79</td>\n",
       "      <td>2</td>\n",
       "      <td>True</td>\n",
       "      <td>True</td>\n",
       "      <td>True</td>\n",
       "      <td>Pardis</td>\n",
       "      <td>5.500000e+08</td>\n",
       "      <td>18333.33</td>\n",
       "    </tr>\n",
       "    <tr>\n",
       "      <th>3</th>\n",
       "      <td>95</td>\n",
       "      <td>2</td>\n",
       "      <td>True</td>\n",
       "      <td>True</td>\n",
       "      <td>True</td>\n",
       "      <td>Shahrake Qods</td>\n",
       "      <td>9.025000e+08</td>\n",
       "      <td>30083.33</td>\n",
       "    </tr>\n",
       "    <tr>\n",
       "      <th>4</th>\n",
       "      <td>123</td>\n",
       "      <td>2</td>\n",
       "      <td>True</td>\n",
       "      <td>True</td>\n",
       "      <td>True</td>\n",
       "      <td>Shahrake Gharb</td>\n",
       "      <td>7.000000e+09</td>\n",
       "      <td>233333.33</td>\n",
       "    </tr>\n",
       "  </tbody>\n",
       "</table>\n",
       "</div>"
      ],
      "text/plain": [
       "  area  room  parking  warehouse  elevator         address         price  \\\n",
       "0   63     1     True       True      True         Shahran  1.850000e+09   \n",
       "1   60     1     True       True      True         Shahran  1.850000e+09   \n",
       "2   79     2     True       True      True          Pardis  5.500000e+08   \n",
       "3   95     2     True       True      True   Shahrake Qods  9.025000e+08   \n",
       "4  123     2     True       True      True  Shahrake Gharb  7.000000e+09   \n",
       "\n",
       "   price_dollars  \n",
       "0       61666.67  \n",
       "1       61666.67  \n",
       "2       18333.33  \n",
       "3       30083.33  \n",
       "4      233333.33  "
      ]
     },
     "execution_count": 12,
     "metadata": {},
     "output_type": "execute_result"
    }
   ],
   "source": [
    "data = pd.read_csv('housePrice.csv')\n",
    "data = data.rename(str.lower, axis='columns')\n",
    "data = data.rename(columns={'price(usd)': 'price_dollars'})\n",
    "data.head()"
   ]
  },
  {
   "cell_type": "code",
   "execution_count": 13,
   "id": "f1135fe0",
   "metadata": {},
   "outputs": [
    {
     "data": {
      "text/html": [
       "<div>\n",
       "<style scoped>\n",
       "    .dataframe tbody tr th:only-of-type {\n",
       "        vertical-align: middle;\n",
       "    }\n",
       "\n",
       "    .dataframe tbody tr th {\n",
       "        vertical-align: top;\n",
       "    }\n",
       "\n",
       "    .dataframe thead th {\n",
       "        text-align: right;\n",
       "    }\n",
       "</style>\n",
       "<table border=\"1\" class=\"dataframe\">\n",
       "  <thead>\n",
       "    <tr style=\"text-align: right;\">\n",
       "      <th></th>\n",
       "      <th>area</th>\n",
       "      <th>room</th>\n",
       "      <th>parking</th>\n",
       "      <th>warehouse</th>\n",
       "      <th>elevator</th>\n",
       "      <th>address</th>\n",
       "      <th>price</th>\n",
       "      <th>price_dollars</th>\n",
       "    </tr>\n",
       "  </thead>\n",
       "  <tbody>\n",
       "    <tr>\n",
       "      <th>0</th>\n",
       "      <td>63.0</td>\n",
       "      <td>1</td>\n",
       "      <td>True</td>\n",
       "      <td>True</td>\n",
       "      <td>True</td>\n",
       "      <td>Shahran</td>\n",
       "      <td>1.850000e+09</td>\n",
       "      <td>61666.67</td>\n",
       "    </tr>\n",
       "    <tr>\n",
       "      <th>1</th>\n",
       "      <td>60.0</td>\n",
       "      <td>1</td>\n",
       "      <td>True</td>\n",
       "      <td>True</td>\n",
       "      <td>True</td>\n",
       "      <td>Shahran</td>\n",
       "      <td>1.850000e+09</td>\n",
       "      <td>61666.67</td>\n",
       "    </tr>\n",
       "    <tr>\n",
       "      <th>2</th>\n",
       "      <td>79.0</td>\n",
       "      <td>2</td>\n",
       "      <td>True</td>\n",
       "      <td>True</td>\n",
       "      <td>True</td>\n",
       "      <td>Pardis</td>\n",
       "      <td>5.500000e+08</td>\n",
       "      <td>18333.33</td>\n",
       "    </tr>\n",
       "    <tr>\n",
       "      <th>3</th>\n",
       "      <td>95.0</td>\n",
       "      <td>2</td>\n",
       "      <td>True</td>\n",
       "      <td>True</td>\n",
       "      <td>True</td>\n",
       "      <td>Shahrake Qods</td>\n",
       "      <td>9.025000e+08</td>\n",
       "      <td>30083.33</td>\n",
       "    </tr>\n",
       "    <tr>\n",
       "      <th>4</th>\n",
       "      <td>123.0</td>\n",
       "      <td>2</td>\n",
       "      <td>True</td>\n",
       "      <td>True</td>\n",
       "      <td>True</td>\n",
       "      <td>Shahrake Gharb</td>\n",
       "      <td>7.000000e+09</td>\n",
       "      <td>233333.33</td>\n",
       "    </tr>\n",
       "  </tbody>\n",
       "</table>\n",
       "</div>"
      ],
      "text/plain": [
       "    area  room  parking  warehouse  elevator         address         price  \\\n",
       "0   63.0     1     True       True      True         Shahran  1.850000e+09   \n",
       "1   60.0     1     True       True      True         Shahran  1.850000e+09   \n",
       "2   79.0     2     True       True      True          Pardis  5.500000e+08   \n",
       "3   95.0     2     True       True      True   Shahrake Qods  9.025000e+08   \n",
       "4  123.0     2     True       True      True  Shahrake Gharb  7.000000e+09   \n",
       "\n",
       "   price_dollars  \n",
       "0       61666.67  \n",
       "1       61666.67  \n",
       "2       18333.33  \n",
       "3       30083.33  \n",
       "4      233333.33  "
      ]
     },
     "execution_count": 13,
     "metadata": {},
     "output_type": "execute_result"
    }
   ],
   "source": [
    "data.area = pd.to_numeric(data.area, errors='coerce')\n",
    "data.head()"
   ]
  },
  {
   "cell_type": "code",
   "execution_count": 14,
   "id": "4eb10a84",
   "metadata": {},
   "outputs": [
    {
     "data": {
      "text/plain": [
       "0.7226470263552709"
      ]
     },
     "execution_count": 14,
     "metadata": {},
     "output_type": "execute_result"
    }
   ],
   "source": [
    "data.area.corr(data['price_dollars'])"
   ]
  },
  {
   "cell_type": "code",
   "execution_count": 19,
   "id": "1b109cc6",
   "metadata": {},
   "outputs": [
    {
     "data": {
      "image/png": "[encoded data removed]",
      "text/plain": [
       "<Figure size 576x504 with 1 Axes>"
      ]
     },
     "metadata": {
      "needs_background": "light"
     },
     "output_type": "display_data"
    }
   ],
   "source": [
    "plt.figure(figsize=(8, 7))\n",
    "\n",
    "x = data.head(300).area\n",
    "y = data.head(300)['price_dollars']\n",
    "\n",
    "plt.grid(True)\n",
    "plt.scatter(x, y, color='crimson', alpha=.3)\n",
    "plt.show()"
   ]
  },
  {
   "cell_type": "code",
   "execution_count": 22,
   "id": "3938496b",
   "metadata": {},
   "outputs": [
    {
     "data": {
      "text/html": [
       "<style type=\"text/css\">\n",
       "#T_57207_row0_col0, #T_57207_row1_col1, #T_57207_row2_col2, #T_57207_row3_col3, #T_57207_row4_col4, #T_57207_row5_col5, #T_57207_row5_col6, #T_57207_row6_col5, #T_57207_row6_col6 {\n",
       "  background-color: #b40426;\n",
       "  color: #f1f1f1;\n",
       "}\n",
       "#T_57207_row0_col1 {\n",
       "  background-color: #f4c5ad;\n",
       "  color: #000000;\n",
       "}\n",
       "#T_57207_row0_col2 {\n",
       "  background-color: #3d50c3;\n",
       "  color: #f1f1f1;\n",
       "}\n",
       "#T_57207_row0_col3, #T_57207_row0_col4, #T_57207_row3_col1, #T_57207_row3_col5, #T_57207_row3_col6, #T_57207_row4_col0, #T_57207_row4_col5, #T_57207_row4_col6, #T_57207_row5_col2, #T_57207_row6_col2 {\n",
       "  background-color: #3b4cc0;\n",
       "  color: #f1f1f1;\n",
       "}\n",
       "#T_57207_row0_col5, #T_57207_row0_col6 {\n",
       "  background-color: #f7b093;\n",
       "  color: #000000;\n",
       "}\n",
       "#T_57207_row1_col0 {\n",
       "  background-color: #f7bca1;\n",
       "  color: #000000;\n",
       "}\n",
       "#T_57207_row1_col2 {\n",
       "  background-color: #5a78e4;\n",
       "  color: #f1f1f1;\n",
       "}\n",
       "#T_57207_row1_col3 {\n",
       "  background-color: #4b64d5;\n",
       "  color: #f1f1f1;\n",
       "}\n",
       "#T_57207_row1_col4 {\n",
       "  background-color: #6687ed;\n",
       "  color: #f1f1f1;\n",
       "}\n",
       "#T_57207_row1_col5, #T_57207_row1_col6 {\n",
       "  background-color: #e0dbd8;\n",
       "  color: #000000;\n",
       "}\n",
       "#T_57207_row2_col0 {\n",
       "  background-color: #6b8df0;\n",
       "  color: #f1f1f1;\n",
       "}\n",
       "#T_57207_row2_col1 {\n",
       "  background-color: #6f92f3;\n",
       "  color: #f1f1f1;\n",
       "}\n",
       "#T_57207_row2_col3 {\n",
       "  background-color: #bbd1f8;\n",
       "  color: #000000;\n",
       "}\n",
       "#T_57207_row2_col4 {\n",
       "  background-color: #c0d4f5;\n",
       "  color: #000000;\n",
       "}\n",
       "#T_57207_row2_col5, #T_57207_row2_col6 {\n",
       "  background-color: #5673e0;\n",
       "  color: #f1f1f1;\n",
       "}\n",
       "#T_57207_row3_col0 {\n",
       "  background-color: #4257c9;\n",
       "  color: #f1f1f1;\n",
       "}\n",
       "#T_57207_row3_col2, #T_57207_row4_col2 {\n",
       "  background-color: #9ebeff;\n",
       "  color: #000000;\n",
       "}\n",
       "#T_57207_row3_col4 {\n",
       "  background-color: #6c8ff1;\n",
       "  color: #f1f1f1;\n",
       "}\n",
       "#T_57207_row4_col1, #T_57207_row5_col4, #T_57207_row6_col4 {\n",
       "  background-color: #4c66d6;\n",
       "  color: #f1f1f1;\n",
       "}\n",
       "#T_57207_row4_col3 {\n",
       "  background-color: #6485ec;\n",
       "  color: #f1f1f1;\n",
       "}\n",
       "#T_57207_row5_col0, #T_57207_row6_col0 {\n",
       "  background-color: #f7a98b;\n",
       "  color: #000000;\n",
       "}\n",
       "#T_57207_row5_col1, #T_57207_row6_col1 {\n",
       "  background-color: #dddcdc;\n",
       "  color: #000000;\n",
       "}\n",
       "#T_57207_row5_col3, #T_57207_row6_col3 {\n",
       "  background-color: #445acc;\n",
       "  color: #f1f1f1;\n",
       "}\n",
       "</style>\n",
       "<table id=\"T_57207\">\n",
       "  <thead>\n",
       "    <tr>\n",
       "      <th class=\"blank level0\" >&nbsp;</th>\n",
       "      <th id=\"T_57207_level0_col0\" class=\"col_heading level0 col0\" >area</th>\n",
       "      <th id=\"T_57207_level0_col1\" class=\"col_heading level0 col1\" >room</th>\n",
       "      <th id=\"T_57207_level0_col2\" class=\"col_heading level0 col2\" >parking</th>\n",
       "      <th id=\"T_57207_level0_col3\" class=\"col_heading level0 col3\" >warehouse</th>\n",
       "      <th id=\"T_57207_level0_col4\" class=\"col_heading level0 col4\" >elevator</th>\n",
       "      <th id=\"T_57207_level0_col5\" class=\"col_heading level0 col5\" >price</th>\n",
       "      <th id=\"T_57207_level0_col6\" class=\"col_heading level0 col6\" >price_dollars</th>\n",
       "    </tr>\n",
       "  </thead>\n",
       "  <tbody>\n",
       "    <tr>\n",
       "      <th id=\"T_57207_level0_row0\" class=\"row_heading level0 row0\" >area</th>\n",
       "      <td id=\"T_57207_row0_col0\" class=\"data row0 col0\" >1.000000</td>\n",
       "      <td id=\"T_57207_row0_col1\" class=\"data row0 col1\" >0.673000</td>\n",
       "      <td id=\"T_57207_row0_col2\" class=\"data row0 col2\" >0.198000</td>\n",
       "      <td id=\"T_57207_row0_col3\" class=\"data row0 col3\" >0.077000</td>\n",
       "      <td id=\"T_57207_row0_col4\" class=\"data row0 col4\" >0.052000</td>\n",
       "      <td id=\"T_57207_row0_col5\" class=\"data row0 col5\" >0.723000</td>\n",
       "      <td id=\"T_57207_row0_col6\" class=\"data row0 col6\" >0.723000</td>\n",
       "    </tr>\n",
       "    <tr>\n",
       "      <th id=\"T_57207_level0_row1\" class=\"row_heading level0 row1\" >room</th>\n",
       "      <td id=\"T_57207_row1_col0\" class=\"data row1 col0\" >0.673000</td>\n",
       "      <td id=\"T_57207_row1_col1\" class=\"data row1 col1\" >1.000000</td>\n",
       "      <td id=\"T_57207_row1_col2\" class=\"data row1 col2\" >0.275000</td>\n",
       "      <td id=\"T_57207_row1_col3\" class=\"data row1 col3\" >0.130000</td>\n",
       "      <td id=\"T_57207_row1_col4\" class=\"data row1 col4\" >0.182000</td>\n",
       "      <td id=\"T_57207_row1_col5\" class=\"data row1 col5\" >0.568000</td>\n",
       "      <td id=\"T_57207_row1_col6\" class=\"data row1 col6\" >0.568000</td>\n",
       "    </tr>\n",
       "    <tr>\n",
       "      <th id=\"T_57207_level0_row2\" class=\"row_heading level0 row2\" >parking</th>\n",
       "      <td id=\"T_57207_row2_col0\" class=\"data row2 col0\" >0.198000</td>\n",
       "      <td id=\"T_57207_row2_col1\" class=\"data row2 col1\" >0.275000</td>\n",
       "      <td id=\"T_57207_row2_col2\" class=\"data row2 col2\" >1.000000</td>\n",
       "      <td id=\"T_57207_row2_col3\" class=\"data row2 col3\" >0.432000</td>\n",
       "      <td id=\"T_57207_row2_col4\" class=\"data row2 col4\" >0.431000</td>\n",
       "      <td id=\"T_57207_row2_col5\" class=\"data row2 col5\" >0.190000</td>\n",
       "      <td id=\"T_57207_row2_col6\" class=\"data row2 col6\" >0.190000</td>\n",
       "    </tr>\n",
       "    <tr>\n",
       "      <th id=\"T_57207_level0_row3\" class=\"row_heading level0 row3\" >warehouse</th>\n",
       "      <td id=\"T_57207_row3_col0\" class=\"data row3 col0\" >0.077000</td>\n",
       "      <td id=\"T_57207_row3_col1\" class=\"data row3 col1\" >0.130000</td>\n",
       "      <td id=\"T_57207_row3_col2\" class=\"data row3 col2\" >0.432000</td>\n",
       "      <td id=\"T_57207_row3_col3\" class=\"data row3 col3\" >1.000000</td>\n",
       "      <td id=\"T_57207_row3_col4\" class=\"data row3 col4\" >0.203000</td>\n",
       "      <td id=\"T_57207_row3_col5\" class=\"data row3 col5\" >0.109000</td>\n",
       "      <td id=\"T_57207_row3_col6\" class=\"data row3 col6\" >0.109000</td>\n",
       "    </tr>\n",
       "    <tr>\n",
       "      <th id=\"T_57207_level0_row4\" class=\"row_heading level0 row4\" >elevator</th>\n",
       "      <td id=\"T_57207_row4_col0\" class=\"data row4 col0\" >0.052000</td>\n",
       "      <td id=\"T_57207_row4_col1\" class=\"data row4 col1\" >0.182000</td>\n",
       "      <td id=\"T_57207_row4_col2\" class=\"data row4 col2\" >0.431000</td>\n",
       "      <td id=\"T_57207_row4_col3\" class=\"data row4 col3\" >0.203000</td>\n",
       "      <td id=\"T_57207_row4_col4\" class=\"data row4 col4\" >1.000000</td>\n",
       "      <td id=\"T_57207_row4_col5\" class=\"data row4 col5\" >0.111000</td>\n",
       "      <td id=\"T_57207_row4_col6\" class=\"data row4 col6\" >0.111000</td>\n",
       "    </tr>\n",
       "    <tr>\n",
       "      <th id=\"T_57207_level0_row5\" class=\"row_heading level0 row5\" >price</th>\n",
       "      <td id=\"T_57207_row5_col0\" class=\"data row5 col0\" >0.723000</td>\n",
       "      <td id=\"T_57207_row5_col1\" class=\"data row5 col1\" >0.568000</td>\n",
       "      <td id=\"T_57207_row5_col2\" class=\"data row5 col2\" >0.190000</td>\n",
       "      <td id=\"T_57207_row5_col3\" class=\"data row5 col3\" >0.109000</td>\n",
       "      <td id=\"T_57207_row5_col4\" class=\"data row5 col4\" >0.111000</td>\n",
       "      <td id=\"T_57207_row5_col5\" class=\"data row5 col5\" >1.000000</td>\n",
       "      <td id=\"T_57207_row5_col6\" class=\"data row5 col6\" >1.000000</td>\n",
       "    </tr>\n",
       "    <tr>\n",
       "      <th id=\"T_57207_level0_row6\" class=\"row_heading level0 row6\" >price_dollars</th>\n",
       "      <td id=\"T_57207_row6_col0\" class=\"data row6 col0\" >0.723000</td>\n",
       "      <td id=\"T_57207_row6_col1\" class=\"data row6 col1\" >0.568000</td>\n",
       "      <td id=\"T_57207_row6_col2\" class=\"data row6 col2\" >0.190000</td>\n",
       "      <td id=\"T_57207_row6_col3\" class=\"data row6 col3\" >0.109000</td>\n",
       "      <td id=\"T_57207_row6_col4\" class=\"data row6 col4\" >0.111000</td>\n",
       "      <td id=\"T_57207_row6_col5\" class=\"data row6 col5\" >1.000000</td>\n",
       "      <td id=\"T_57207_row6_col6\" class=\"data row6 col6\" >1.000000</td>\n",
       "    </tr>\n",
       "  </tbody>\n",
       "</table>\n"
      ],
      "text/plain": [
       "<pandas.io.formats.style.Styler at 0x257c4a3d000>"
      ]
     },
     "execution_count": 22,
     "metadata": {},
     "output_type": "execute_result"
    }
   ],
   "source": [
    "data.corr().round(3).style.background_gradient(cmap='coolwarm')"
   ]
  },
  {
   "cell_type": "code",
   "execution_count": 30,
   "id": "a0034e22",
   "metadata": {},
   "outputs": [
    {
     "name": "stdout",
     "output_type": "stream",
     "text": [
      "Coeffs: b_1=1.1696969696969695, b_0=1.2363636363636363\n"
     ]
    }
   ],
   "source": [
    "x = np.array([int(i) for i in range(10)])\n",
    "y = np.array([1, 3, 2, 5, 7, 8, 8, 9, 10, 12])\n",
    "\n",
    "n = np.size(x)\n",
    "\n",
    "m_x = np.mean(x)\n",
    "m_y = np.mean(y)\n",
    "\n",
    "SS_xy = np.sum(y*x) - n * m_y * x\n",
    "SS_xx = np.sum(x*x) - n * m_x * m_x\n",
    "\n",
    "b_1 = SS_xy / SS_xx\n",
    "b_0 = m_y - b_1 * m_x\n",
    "\n",
    "print(f'Coeffs: b_1={np.mean(b_1)}, b_0={np.mean(b_0)}')"
   ]
  },
  {
   "cell_type": "code",
   "execution_count": 28,
   "id": "0930f60d",
   "metadata": {},
   "outputs": [
    {
     "data": {
      "text/plain": [
       "0.9759805523748861"
      ]
     },
     "execution_count": 28,
     "metadata": {},
     "output_type": "execute_result"
    }
   ],
   "source": [
    "np.corrcoef(x, y)[0, 1]"
   ]
  },
  {
   "cell_type": "code",
   "execution_count": 35,
   "id": "ce6fd05a",
   "metadata": {},
   "outputs": [
    {
     "data": {
      "image/png": "[encoded data removed]",
      "text/plain": [
       "<Figure size 576x504 with 1 Axes>"
      ]
     },
     "metadata": {
      "needs_background": "light"
     },
     "output_type": "display_data"
    }
   ],
   "source": [
    "plt.figure(figsize=(8, 7))\n",
    "\n",
    "plt.scatter(x, y, color='m', marker='o', s=30)\n",
    "\n",
    "y_pred = np.mean(b_0) + np.mean(b_1) * x\n",
    "\n",
    "plt.plot(x, y_pred, color='g')\n",
    "\n",
    "plt.xlabel('x')\n",
    "plt.ylabel('y')\n",
    "\n",
    "plt.show()"
   ]
  },
  {
   "cell_type": "markdown",
   "id": "cc0231cb",
   "metadata": {},
   "source": [
    "# Homework"
   ]
  },
  {
   "cell_type": "markdown",
   "id": "0fd65bed",
   "metadata": {},
   "source": [
    "## 1 and 2 Tasks"
   ]
  },
  {
   "cell_type": "code",
   "execution_count": 47,
   "id": "04689b1f",
   "metadata": {},
   "outputs": [
    {
     "data": {
      "text/html": [
       "<div>\n",
       "<style scoped>\n",
       "    .dataframe tbody tr th:only-of-type {\n",
       "        vertical-align: middle;\n",
       "    }\n",
       "\n",
       "    .dataframe tbody tr th {\n",
       "        vertical-align: top;\n",
       "    }\n",
       "\n",
       "    .dataframe thead th {\n",
       "        text-align: right;\n",
       "    }\n",
       "</style>\n",
       "<table border=\"1\" class=\"dataframe\">\n",
       "  <thead>\n",
       "    <tr style=\"text-align: right;\">\n",
       "      <th></th>\n",
       "      <th>Улица</th>\n",
       "      <th>Гараж</th>\n",
       "    </tr>\n",
       "    <tr>\n",
       "      <th>День</th>\n",
       "      <th></th>\n",
       "      <th></th>\n",
       "    </tr>\n",
       "  </thead>\n",
       "  <tbody>\n",
       "    <tr>\n",
       "      <th>Понедельник</th>\n",
       "      <td>80</td>\n",
       "      <td>100</td>\n",
       "    </tr>\n",
       "    <tr>\n",
       "      <th>Вторник</th>\n",
       "      <td>98</td>\n",
       "      <td>82</td>\n",
       "    </tr>\n",
       "    <tr>\n",
       "      <th>Среда</th>\n",
       "      <td>105</td>\n",
       "      <td>75</td>\n",
       "    </tr>\n",
       "    <tr>\n",
       "      <th>Четверг</th>\n",
       "      <td>89</td>\n",
       "      <td>91</td>\n",
       "    </tr>\n",
       "    <tr>\n",
       "      <th>Пятница</th>\n",
       "      <td>102</td>\n",
       "      <td>78</td>\n",
       "    </tr>\n",
       "  </tbody>\n",
       "</table>\n",
       "</div>"
      ],
      "text/plain": [
       "             Улица  Гараж\n",
       "День                     \n",
       "Понедельник     80    100\n",
       "Вторник         98     82\n",
       "Среда          105     75\n",
       "Четверг         89     91\n",
       "Пятница        102     78"
      ]
     },
     "execution_count": 47,
     "metadata": {},
     "output_type": "execute_result"
    }
   ],
   "source": [
    "data = pd.DataFrame(columns=['Улица', 'Гараж'], \n",
    "             index=['Понедельник', 'Вторник', 'Среда', 'Четверг', 'Пятница'],\n",
    "            data = np.array([[80, 100], [98, 82], [105, 75], \n",
    "                             [89, 91], [102, 78]])).rename_axis('День')\n",
    "data"
   ]
  },
  {
   "cell_type": "code",
   "execution_count": 51,
   "id": "f5ab3054",
   "metadata": {},
   "outputs": [
    {
     "data": {
      "text/plain": [
       "-1.0"
      ]
     },
     "execution_count": 51,
     "metadata": {},
     "output_type": "execute_result"
    }
   ],
   "source": [
    "x = data['Улица']\n",
    "y = data['Гараж']\n",
    "np.corrcoef(x, y)[0, 1]"
   ]
  },
  {
   "cell_type": "code",
   "execution_count": 53,
   "id": "53ef8eb9",
   "metadata": {},
   "outputs": [
    {
     "data": {
      "text/plain": [
       "-1.0"
      ]
     },
     "execution_count": 53,
     "metadata": {},
     "output_type": "execute_result"
    }
   ],
   "source": [
    "from scipy.stats import pearsonr\n",
    "\n",
    "pearsonr(x, y)[0]"
   ]
  },
  {
   "cell_type": "code",
   "execution_count": 54,
   "id": "a611c34d",
   "metadata": {},
   "outputs": [
    {
     "data": {
      "text/plain": [
       "<matplotlib.collections.PathCollection at 0x257c9b662c0>"
      ]
     },
     "execution_count": 54,
     "metadata": {},
     "output_type": "execute_result"
    },
    {
     "data": {
      "image/png": "[encoded data removed]",
      "text/plain": [
       "<Figure size 432x288 with 1 Axes>"
      ]
     },
     "metadata": {
      "needs_background": "light"
     },
     "output_type": "display_data"
    }
   ],
   "source": [
    "plt.scatter(x, y)"
   ]
  },
  {
   "cell_type": "markdown",
   "id": "94ea4be6",
   "metadata": {},
   "source": [
    "Как мы можем видеть, между данными присутствует полная отрицательная связь"
   ]
  },
  {
   "cell_type": "markdown",
   "id": "168d9683",
   "metadata": {},
   "source": [
    "## 3 Task"
   ]
  },
  {
   "cell_type": "code",
   "execution_count": 239,
   "id": "aafed6d1",
   "metadata": {},
   "outputs": [
    {
     "name": "stdout",
     "output_type": "stream",
     "text": [
      "   Unnamed: 0        time    high     low    open  volumefrom     volumeto  \\\n",
      "0           0  2015-12-20  462.76  431.10  461.20   121531.64  54316484.95   \n",
      "1           1  2015-12-21  445.54  423.99  441.78   121990.88  53270215.60   \n",
      "2           2  2015-12-22  443.22  433.25  437.59    65785.54  28845536.39   \n",
      "3           3  2015-12-23  444.78  434.28  437.03    63247.04  27877349.10   \n",
      "4           4  2015-12-24  460.62  441.76  442.43    79604.01  36096662.15   \n",
      "\n",
      "    close  \n",
      "0  441.78  \n",
      "1  437.59  \n",
      "2  437.03  \n",
      "3  442.43  \n",
      "4  452.98  \n"
     ]
    }
   ],
   "source": [
    "data = pd.read_csv('bitcoin.csv')\n",
    "print(data.head())"
   ]
  },
  {
   "cell_type": "markdown",
   "id": "8a275e78",
   "metadata": {},
   "source": [
    "## 4 Task"
   ]
  },
  {
   "cell_type": "code",
   "execution_count": 240,
   "id": "a57c08ae",
   "metadata": {},
   "outputs": [
    {
     "data": {
      "text/html": [
       "<div>\n",
       "<style scoped>\n",
       "    .dataframe tbody tr th:only-of-type {\n",
       "        vertical-align: middle;\n",
       "    }\n",
       "\n",
       "    .dataframe tbody tr th {\n",
       "        vertical-align: top;\n",
       "    }\n",
       "\n",
       "    .dataframe thead th {\n",
       "        text-align: right;\n",
       "    }\n",
       "</style>\n",
       "<table border=\"1\" class=\"dataframe\">\n",
       "  <thead>\n",
       "    <tr style=\"text-align: right;\">\n",
       "      <th></th>\n",
       "      <th>time</th>\n",
       "      <th>high</th>\n",
       "      <th>low</th>\n",
       "      <th>open</th>\n",
       "      <th>volumefrom</th>\n",
       "      <th>volumeto</th>\n",
       "      <th>close</th>\n",
       "      <th>predict</th>\n",
       "    </tr>\n",
       "    <tr>\n",
       "      <th>index</th>\n",
       "      <th></th>\n",
       "      <th></th>\n",
       "      <th></th>\n",
       "      <th></th>\n",
       "      <th></th>\n",
       "      <th></th>\n",
       "      <th></th>\n",
       "      <th></th>\n",
       "    </tr>\n",
       "  </thead>\n",
       "  <tbody>\n",
       "    <tr>\n",
       "      <th>0</th>\n",
       "      <td>2015-12-20</td>\n",
       "      <td>462.76</td>\n",
       "      <td>431.10</td>\n",
       "      <td>461.20</td>\n",
       "      <td>121531.64</td>\n",
       "      <td>54316484.95</td>\n",
       "      <td>441.78</td>\n",
       "      <td>430.70</td>\n",
       "    </tr>\n",
       "    <tr>\n",
       "      <th>1</th>\n",
       "      <td>2015-12-21</td>\n",
       "      <td>445.54</td>\n",
       "      <td>423.99</td>\n",
       "      <td>441.78</td>\n",
       "      <td>121990.88</td>\n",
       "      <td>53270215.60</td>\n",
       "      <td>437.59</td>\n",
       "      <td>433.32</td>\n",
       "    </tr>\n",
       "    <tr>\n",
       "      <th>2</th>\n",
       "      <td>2015-12-22</td>\n",
       "      <td>443.22</td>\n",
       "      <td>433.25</td>\n",
       "      <td>437.59</td>\n",
       "      <td>65785.54</td>\n",
       "      <td>28845536.39</td>\n",
       "      <td>437.03</td>\n",
       "      <td>431.20</td>\n",
       "    </tr>\n",
       "    <tr>\n",
       "      <th>3</th>\n",
       "      <td>2015-12-23</td>\n",
       "      <td>444.78</td>\n",
       "      <td>434.28</td>\n",
       "      <td>437.03</td>\n",
       "      <td>63247.04</td>\n",
       "      <td>27877349.10</td>\n",
       "      <td>442.43</td>\n",
       "      <td>430.82</td>\n",
       "    </tr>\n",
       "    <tr>\n",
       "      <th>4</th>\n",
       "      <td>2015-12-24</td>\n",
       "      <td>460.62</td>\n",
       "      <td>441.76</td>\n",
       "      <td>442.43</td>\n",
       "      <td>79604.01</td>\n",
       "      <td>36096662.15</td>\n",
       "      <td>452.98</td>\n",
       "      <td>457.05</td>\n",
       "    </tr>\n",
       "    <tr>\n",
       "      <th>5</th>\n",
       "      <td>2015-12-25</td>\n",
       "      <td>457.44</td>\n",
       "      <td>449.52</td>\n",
       "      <td>452.98</td>\n",
       "      <td>42390.82</td>\n",
       "      <td>19251958.85</td>\n",
       "      <td>454.05</td>\n",
       "      <td>452.87</td>\n",
       "    </tr>\n",
       "    <tr>\n",
       "      <th>6</th>\n",
       "      <td>2015-12-26</td>\n",
       "      <td>456.48</td>\n",
       "      <td>400.45</td>\n",
       "      <td>454.05</td>\n",
       "      <td>208582.27</td>\n",
       "      <td>88564770.72</td>\n",
       "      <td>415.37</td>\n",
       "      <td>448.31</td>\n",
       "    </tr>\n",
       "    <tr>\n",
       "      <th>7</th>\n",
       "      <td>2015-12-27</td>\n",
       "      <td>425.51</td>\n",
       "      <td>406.09</td>\n",
       "      <td>415.37</td>\n",
       "      <td>67581.91</td>\n",
       "      <td>28259303.48</td>\n",
       "      <td>422.39</td>\n",
       "      <td>446.19</td>\n",
       "    </tr>\n",
       "    <tr>\n",
       "      <th>8</th>\n",
       "      <td>2015-12-28</td>\n",
       "      <td>429.85</td>\n",
       "      <td>417.14</td>\n",
       "      <td>422.39</td>\n",
       "      <td>68345.44</td>\n",
       "      <td>28978639.73</td>\n",
       "      <td>421.76</td>\n",
       "      <td>447.72</td>\n",
       "    </tr>\n",
       "    <tr>\n",
       "      <th>9</th>\n",
       "      <td>2015-12-29</td>\n",
       "      <td>433.56</td>\n",
       "      <td>419.30</td>\n",
       "      <td>421.76</td>\n",
       "      <td>70645.37</td>\n",
       "      <td>30163445.65</td>\n",
       "      <td>431.92</td>\n",
       "      <td>445.04</td>\n",
       "    </tr>\n",
       "    <tr>\n",
       "      <th>10</th>\n",
       "      <td>2015-12-30</td>\n",
       "      <td>435.04</td>\n",
       "      <td>420.77</td>\n",
       "      <td>431.92</td>\n",
       "      <td>68269.90</td>\n",
       "      <td>29289416.54</td>\n",
       "      <td>427.15</td>\n",
       "      <td>432.18</td>\n",
       "    </tr>\n",
       "    <tr>\n",
       "      <th>11</th>\n",
       "      <td>2015-12-31</td>\n",
       "      <td>433.12</td>\n",
       "      <td>417.14</td>\n",
       "      <td>427.15</td>\n",
       "      <td>65213.47</td>\n",
       "      <td>27758278.73</td>\n",
       "      <td>429.95</td>\n",
       "      <td>429.13</td>\n",
       "    </tr>\n",
       "    <tr>\n",
       "      <th>12</th>\n",
       "      <td>2016-01-01</td>\n",
       "      <td>437.95</td>\n",
       "      <td>425.86</td>\n",
       "      <td>429.95</td>\n",
       "      <td>46973.12</td>\n",
       "      <td>20334286.58</td>\n",
       "      <td>433.99</td>\n",
       "      <td>372.26</td>\n",
       "    </tr>\n",
       "    <tr>\n",
       "      <th>13</th>\n",
       "      <td>2016-01-02</td>\n",
       "      <td>437.43</td>\n",
       "      <td>430.73</td>\n",
       "      <td>433.99</td>\n",
       "      <td>33570.39</td>\n",
       "      <td>14566820.95</td>\n",
       "      <td>433.72</td>\n",
       "      <td>385.04</td>\n",
       "    </tr>\n",
       "    <tr>\n",
       "      <th>14</th>\n",
       "      <td>2016-01-03</td>\n",
       "      <td>434.14</td>\n",
       "      <td>423.09</td>\n",
       "      <td>433.72</td>\n",
       "      <td>54826.26</td>\n",
       "      <td>23490162.61</td>\n",
       "      <td>430.70</td>\n",
       "      <td>382.47</td>\n",
       "    </tr>\n",
       "    <tr>\n",
       "      <th>15</th>\n",
       "      <td>2016-01-04</td>\n",
       "      <td>435.26</td>\n",
       "      <td>428.60</td>\n",
       "      <td>430.70</td>\n",
       "      <td>53007.87</td>\n",
       "      <td>22943968.22</td>\n",
       "      <td>433.32</td>\n",
       "      <td>384.40</td>\n",
       "    </tr>\n",
       "  </tbody>\n",
       "</table>\n",
       "</div>"
      ],
      "text/plain": [
       "             time    high     low    open  volumefrom     volumeto   close  \\\n",
       "index                                                                        \n",
       "0      2015-12-20  462.76  431.10  461.20   121531.64  54316484.95  441.78   \n",
       "1      2015-12-21  445.54  423.99  441.78   121990.88  53270215.60  437.59   \n",
       "2      2015-12-22  443.22  433.25  437.59    65785.54  28845536.39  437.03   \n",
       "3      2015-12-23  444.78  434.28  437.03    63247.04  27877349.10  442.43   \n",
       "4      2015-12-24  460.62  441.76  442.43    79604.01  36096662.15  452.98   \n",
       "5      2015-12-25  457.44  449.52  452.98    42390.82  19251958.85  454.05   \n",
       "6      2015-12-26  456.48  400.45  454.05   208582.27  88564770.72  415.37   \n",
       "7      2015-12-27  425.51  406.09  415.37    67581.91  28259303.48  422.39   \n",
       "8      2015-12-28  429.85  417.14  422.39    68345.44  28978639.73  421.76   \n",
       "9      2015-12-29  433.56  419.30  421.76    70645.37  30163445.65  431.92   \n",
       "10     2015-12-30  435.04  420.77  431.92    68269.90  29289416.54  427.15   \n",
       "11     2015-12-31  433.12  417.14  427.15    65213.47  27758278.73  429.95   \n",
       "12     2016-01-01  437.95  425.86  429.95    46973.12  20334286.58  433.99   \n",
       "13     2016-01-02  437.43  430.73  433.99    33570.39  14566820.95  433.72   \n",
       "14     2016-01-03  434.14  423.09  433.72    54826.26  23490162.61  430.70   \n",
       "15     2016-01-04  435.26  428.60  430.70    53007.87  22943968.22  433.32   \n",
       "\n",
       "       predict  \n",
       "index           \n",
       "0       430.70  \n",
       "1       433.32  \n",
       "2       431.20  \n",
       "3       430.82  \n",
       "4       457.05  \n",
       "5       452.87  \n",
       "6       448.31  \n",
       "7       446.19  \n",
       "8       447.72  \n",
       "9       445.04  \n",
       "10      432.18  \n",
       "11      429.13  \n",
       "12      372.26  \n",
       "13      385.04  \n",
       "14      382.47  \n",
       "15      384.40  "
      ]
     },
     "execution_count": 240,
     "metadata": {},
     "output_type": "execute_result"
    }
   ],
   "source": [
    "data['predict'] = data['close'].shift(-14)\n",
    "data = data.set_index('Unnamed: 0')\n",
    "data = data.rename_axis('index')\n",
    "data.head(16)"
   ]
  },
  {
   "cell_type": "markdown",
   "id": "0b890224",
   "metadata": {},
   "source": [
    "## 5 Task"
   ]
  },
  {
   "cell_type": "code",
   "execution_count": 241,
   "id": "6a9aca11",
   "metadata": {},
   "outputs": [],
   "source": [
    "from sklearn.linear_model import LinearRegression\n",
    "\n",
    "x = np.array(data.predict, type(float)).reshape(-1, 1)[:-14]\n",
    "y = np.array(data.close, type(float))[:-14]"
   ]
  },
  {
   "cell_type": "code",
   "execution_count": 242,
   "id": "3437b94a",
   "metadata": {},
   "outputs": [
    {
     "data": {
      "image/png": "[encoded data removed]",
      "text/plain": [
       "<Figure size 720x432 with 1 Axes>"
      ]
     },
     "metadata": {
      "needs_background": "light"
     },
     "output_type": "display_data"
    }
   ],
   "source": [
    "plt.figure(figsize=(10, 6))\n",
    "plt.scatter(x, y, color='b', alpha=0.3)\n",
    "plt.xlabel('Predicted')\n",
    "plt.ylabel('Close')\n",
    "plt.show()"
   ]
  },
  {
   "cell_type": "code",
   "execution_count": 243,
   "id": "346ad2e9",
   "metadata": {},
   "outputs": [
    {
     "data": {
      "text/plain": [
       "LinearRegression()"
      ]
     },
     "execution_count": 243,
     "metadata": {},
     "output_type": "execute_result"
    }
   ],
   "source": [
    "regression_model = LinearRegression()\n",
    "regression_model.fit(x, y)"
   ]
  },
  {
   "cell_type": "code",
   "execution_count": 244,
   "id": "a7b482f2",
   "metadata": {},
   "outputs": [
    {
     "data": {
      "text/plain": [
       "array([33345.42418777, 34354.05650406, 35916.64437923, 35333.81207665,\n",
       "       36191.25654972, 37777.29898175, 35504.62535719, 34234.87395836,\n",
       "       34484.55366619, 32358.18311831, 32191.69799045, 36013.33204715,\n",
       "       35331.19215275, 35487.1879882 ])"
      ]
     },
     "execution_count": 244,
     "metadata": {},
     "output_type": "execute_result"
    }
   ],
   "source": [
    "regression_model.predict(np.array(data.close).reshape(-1, 1))[-14:]"
   ]
  },
  {
   "cell_type": "code",
   "execution_count": 245,
   "id": "a26178c7",
   "metadata": {},
   "outputs": [
    {
     "data": {
      "text/plain": [
       "array([33345.42418777, 34354.05650406, 35916.64437923, 35333.81207665,\n",
       "       36191.25654972, 37777.29898175, 35504.62535719, 34234.87395836,\n",
       "       34484.55366619, 32358.18311831, 32191.69799045, 36013.33204715,\n",
       "       35331.19215275, 35487.1879882 ])"
      ]
     },
     "execution_count": 245,
     "metadata": {},
     "output_type": "execute_result"
    }
   ],
   "source": [
    "regression_model.predict(x)[-14:]"
   ]
  },
  {
   "cell_type": "markdown",
   "id": "29da499b",
   "metadata": {},
   "source": [
    "## 6 and 7 Tasks"
   ]
  },
  {
   "cell_type": "code",
   "execution_count": 246,
   "id": "b678175f",
   "metadata": {},
   "outputs": [
    {
     "data": {
      "text/plain": [
       "array([0.95967909])"
      ]
     },
     "execution_count": 246,
     "metadata": {},
     "output_type": "execute_result"
    }
   ],
   "source": [
    "regression_model.coef_"
   ]
  },
  {
   "cell_type": "code",
   "execution_count": 247,
   "id": "808ca098",
   "metadata": {},
   "outputs": [
    {
     "data": {
      "text/plain": [
       "129.414724589662"
      ]
     },
     "execution_count": 247,
     "metadata": {},
     "output_type": "execute_result"
    }
   ],
   "source": [
    "regression_model.intercept_"
   ]
  },
  {
   "cell_type": "code",
   "execution_count": 248,
   "id": "09c79387",
   "metadata": {
    "scrolled": false
   },
   "outputs": [
    {
     "data": {
      "image/png": "[encoded data removed]",
      "text/plain": [
       "<Figure size 720x432 with 1 Axes>"
      ]
     },
     "metadata": {
      "needs_background": "light"
     },
     "output_type": "display_data"
    }
   ],
   "source": [
    "plt.figure(figsize=(10, 6))\n",
    "plt.scatter(x, y, alpha=.3, color='purple')\n",
    "\n",
    "plt.plot(x, regression_model.predict(x), color='yellow', linewidth=3)\n",
    "# plt.plot(data.close, \n",
    "#          regression_model.predict(np.array(data.close).reshape(-1, 1)), \n",
    "#          color='green', linewidth=3)\n",
    "\n",
    "plt.xlabel('Predict')\n",
    "plt.ylabel('Close')\n",
    "\n",
    "plt.show()"
   ]
  },
  {
   "cell_type": "markdown",
   "id": "8cf97496",
   "metadata": {},
   "source": [
    "## 8 and 9 Task"
   ]
  },
  {
   "cell_type": "code",
   "execution_count": 249,
   "id": "ac08db4e",
   "metadata": {},
   "outputs": [
    {
     "data": {
      "text/html": [
       "<div>\n",
       "<style scoped>\n",
       "    .dataframe tbody tr th:only-of-type {\n",
       "        vertical-align: middle;\n",
       "    }\n",
       "\n",
       "    .dataframe tbody tr th {\n",
       "        vertical-align: top;\n",
       "    }\n",
       "\n",
       "    .dataframe thead th {\n",
       "        text-align: right;\n",
       "    }\n",
       "</style>\n",
       "<table border=\"1\" class=\"dataframe\">\n",
       "  <thead>\n",
       "    <tr style=\"text-align: right;\">\n",
       "      <th></th>\n",
       "      <th>Area</th>\n",
       "      <th>Room</th>\n",
       "      <th>Parking</th>\n",
       "      <th>Warehouse</th>\n",
       "      <th>Elevator</th>\n",
       "      <th>Address</th>\n",
       "      <th>Price</th>\n",
       "      <th>Price(USD)</th>\n",
       "    </tr>\n",
       "  </thead>\n",
       "  <tbody>\n",
       "    <tr>\n",
       "      <th>0</th>\n",
       "      <td>63</td>\n",
       "      <td>1</td>\n",
       "      <td>True</td>\n",
       "      <td>True</td>\n",
       "      <td>True</td>\n",
       "      <td>Shahran</td>\n",
       "      <td>1.850000e+09</td>\n",
       "      <td>61666.67</td>\n",
       "    </tr>\n",
       "    <tr>\n",
       "      <th>1</th>\n",
       "      <td>60</td>\n",
       "      <td>1</td>\n",
       "      <td>True</td>\n",
       "      <td>True</td>\n",
       "      <td>True</td>\n",
       "      <td>Shahran</td>\n",
       "      <td>1.850000e+09</td>\n",
       "      <td>61666.67</td>\n",
       "    </tr>\n",
       "    <tr>\n",
       "      <th>2</th>\n",
       "      <td>79</td>\n",
       "      <td>2</td>\n",
       "      <td>True</td>\n",
       "      <td>True</td>\n",
       "      <td>True</td>\n",
       "      <td>Pardis</td>\n",
       "      <td>5.500000e+08</td>\n",
       "      <td>18333.33</td>\n",
       "    </tr>\n",
       "    <tr>\n",
       "      <th>3</th>\n",
       "      <td>95</td>\n",
       "      <td>2</td>\n",
       "      <td>True</td>\n",
       "      <td>True</td>\n",
       "      <td>True</td>\n",
       "      <td>Shahrake Qods</td>\n",
       "      <td>9.025000e+08</td>\n",
       "      <td>30083.33</td>\n",
       "    </tr>\n",
       "    <tr>\n",
       "      <th>4</th>\n",
       "      <td>123</td>\n",
       "      <td>2</td>\n",
       "      <td>True</td>\n",
       "      <td>True</td>\n",
       "      <td>True</td>\n",
       "      <td>Shahrake Gharb</td>\n",
       "      <td>7.000000e+09</td>\n",
       "      <td>233333.33</td>\n",
       "    </tr>\n",
       "  </tbody>\n",
       "</table>\n",
       "</div>"
      ],
      "text/plain": [
       "  Area  Room  Parking  Warehouse  Elevator         Address         Price  \\\n",
       "0   63     1     True       True      True         Shahran  1.850000e+09   \n",
       "1   60     1     True       True      True         Shahran  1.850000e+09   \n",
       "2   79     2     True       True      True          Pardis  5.500000e+08   \n",
       "3   95     2     True       True      True   Shahrake Qods  9.025000e+08   \n",
       "4  123     2     True       True      True  Shahrake Gharb  7.000000e+09   \n",
       "\n",
       "   Price(USD)  \n",
       "0    61666.67  \n",
       "1    61666.67  \n",
       "2    18333.33  \n",
       "3    30083.33  \n",
       "4   233333.33  "
      ]
     },
     "execution_count": 249,
     "metadata": {},
     "output_type": "execute_result"
    }
   ],
   "source": [
    "data = pd.read_csv('housePrice.csv')\n",
    "data.head()"
   ]
  },
  {
   "cell_type": "code",
   "execution_count": 250,
   "id": "2a2cdee4",
   "metadata": {},
   "outputs": [
    {
     "data": {
      "text/html": [
       "<div>\n",
       "<style scoped>\n",
       "    .dataframe tbody tr th:only-of-type {\n",
       "        vertical-align: middle;\n",
       "    }\n",
       "\n",
       "    .dataframe tbody tr th {\n",
       "        vertical-align: top;\n",
       "    }\n",
       "\n",
       "    .dataframe thead th {\n",
       "        text-align: right;\n",
       "    }\n",
       "</style>\n",
       "<table border=\"1\" class=\"dataframe\">\n",
       "  <thead>\n",
       "    <tr style=\"text-align: right;\">\n",
       "      <th></th>\n",
       "      <th>area</th>\n",
       "      <th>room</th>\n",
       "      <th>parking</th>\n",
       "      <th>warehouse</th>\n",
       "      <th>elevator</th>\n",
       "      <th>address</th>\n",
       "      <th>price</th>\n",
       "      <th>usd</th>\n",
       "    </tr>\n",
       "  </thead>\n",
       "  <tbody>\n",
       "    <tr>\n",
       "      <th>0</th>\n",
       "      <td>63.0</td>\n",
       "      <td>1</td>\n",
       "      <td>True</td>\n",
       "      <td>True</td>\n",
       "      <td>True</td>\n",
       "      <td>Shahran</td>\n",
       "      <td>1.850000e+09</td>\n",
       "      <td>61666.67</td>\n",
       "    </tr>\n",
       "    <tr>\n",
       "      <th>1</th>\n",
       "      <td>60.0</td>\n",
       "      <td>1</td>\n",
       "      <td>True</td>\n",
       "      <td>True</td>\n",
       "      <td>True</td>\n",
       "      <td>Shahran</td>\n",
       "      <td>1.850000e+09</td>\n",
       "      <td>61666.67</td>\n",
       "    </tr>\n",
       "    <tr>\n",
       "      <th>2</th>\n",
       "      <td>79.0</td>\n",
       "      <td>2</td>\n",
       "      <td>True</td>\n",
       "      <td>True</td>\n",
       "      <td>True</td>\n",
       "      <td>Pardis</td>\n",
       "      <td>5.500000e+08</td>\n",
       "      <td>18333.33</td>\n",
       "    </tr>\n",
       "    <tr>\n",
       "      <th>3</th>\n",
       "      <td>95.0</td>\n",
       "      <td>2</td>\n",
       "      <td>True</td>\n",
       "      <td>True</td>\n",
       "      <td>True</td>\n",
       "      <td>Shahrake Qods</td>\n",
       "      <td>9.025000e+08</td>\n",
       "      <td>30083.33</td>\n",
       "    </tr>\n",
       "    <tr>\n",
       "      <th>4</th>\n",
       "      <td>123.0</td>\n",
       "      <td>2</td>\n",
       "      <td>True</td>\n",
       "      <td>True</td>\n",
       "      <td>True</td>\n",
       "      <td>Shahrake Gharb</td>\n",
       "      <td>7.000000e+09</td>\n",
       "      <td>233333.33</td>\n",
       "    </tr>\n",
       "  </tbody>\n",
       "</table>\n",
       "</div>"
      ],
      "text/plain": [
       "    area  room  parking  warehouse  elevator         address         price  \\\n",
       "0   63.0     1     True       True      True         Shahran  1.850000e+09   \n",
       "1   60.0     1     True       True      True         Shahran  1.850000e+09   \n",
       "2   79.0     2     True       True      True          Pardis  5.500000e+08   \n",
       "3   95.0     2     True       True      True   Shahrake Qods  9.025000e+08   \n",
       "4  123.0     2     True       True      True  Shahrake Gharb  7.000000e+09   \n",
       "\n",
       "         usd  \n",
       "0   61666.67  \n",
       "1   61666.67  \n",
       "2   18333.33  \n",
       "3   30083.33  \n",
       "4  233333.33  "
      ]
     },
     "execution_count": 250,
     "metadata": {},
     "output_type": "execute_result"
    }
   ],
   "source": [
    "data = data.rename(str.lower, axis='columns')\n",
    "data.area = pd.to_numeric(data.area, errors='coerce')\n",
    "data = data.rename(columns={'price(usd)': 'usd'})\n",
    "data.head()"
   ]
  },
  {
   "cell_type": "code",
   "execution_count": 251,
   "id": "7df6ea1f",
   "metadata": {},
   "outputs": [
    {
     "data": {
      "text/html": [
       "<style type=\"text/css\">\n",
       "#T_5cb01_row0_col0, #T_5cb01_row1_col1, #T_5cb01_row2_col2, #T_5cb01_row3_col3, #T_5cb01_row4_col4, #T_5cb01_row5_col5, #T_5cb01_row5_col6, #T_5cb01_row6_col5, #T_5cb01_row6_col6 {\n",
       "  background-color: #b40426;\n",
       "  color: #f1f1f1;\n",
       "}\n",
       "#T_5cb01_row0_col1 {\n",
       "  background-color: #f4c5ad;\n",
       "  color: #000000;\n",
       "}\n",
       "#T_5cb01_row0_col2 {\n",
       "  background-color: #3d50c3;\n",
       "  color: #f1f1f1;\n",
       "}\n",
       "#T_5cb01_row0_col3, #T_5cb01_row0_col4, #T_5cb01_row3_col1, #T_5cb01_row3_col5, #T_5cb01_row3_col6, #T_5cb01_row4_col0, #T_5cb01_row4_col5, #T_5cb01_row4_col6, #T_5cb01_row5_col2, #T_5cb01_row6_col2 {\n",
       "  background-color: #3b4cc0;\n",
       "  color: #f1f1f1;\n",
       "}\n",
       "#T_5cb01_row0_col5, #T_5cb01_row0_col6 {\n",
       "  background-color: #f7b093;\n",
       "  color: #000000;\n",
       "}\n",
       "#T_5cb01_row1_col0 {\n",
       "  background-color: #f7bca1;\n",
       "  color: #000000;\n",
       "}\n",
       "#T_5cb01_row1_col2 {\n",
       "  background-color: #5a78e4;\n",
       "  color: #f1f1f1;\n",
       "}\n",
       "#T_5cb01_row1_col3 {\n",
       "  background-color: #4b64d5;\n",
       "  color: #f1f1f1;\n",
       "}\n",
       "#T_5cb01_row1_col4 {\n",
       "  background-color: #6687ed;\n",
       "  color: #f1f1f1;\n",
       "}\n",
       "#T_5cb01_row1_col5, #T_5cb01_row1_col6 {\n",
       "  background-color: #e0dbd8;\n",
       "  color: #000000;\n",
       "}\n",
       "#T_5cb01_row2_col0 {\n",
       "  background-color: #6b8df0;\n",
       "  color: #f1f1f1;\n",
       "}\n",
       "#T_5cb01_row2_col1 {\n",
       "  background-color: #6f92f3;\n",
       "  color: #f1f1f1;\n",
       "}\n",
       "#T_5cb01_row2_col3 {\n",
       "  background-color: #bbd1f8;\n",
       "  color: #000000;\n",
       "}\n",
       "#T_5cb01_row2_col4 {\n",
       "  background-color: #c0d4f5;\n",
       "  color: #000000;\n",
       "}\n",
       "#T_5cb01_row2_col5, #T_5cb01_row2_col6 {\n",
       "  background-color: #5673e0;\n",
       "  color: #f1f1f1;\n",
       "}\n",
       "#T_5cb01_row3_col0 {\n",
       "  background-color: #4257c9;\n",
       "  color: #f1f1f1;\n",
       "}\n",
       "#T_5cb01_row3_col2, #T_5cb01_row4_col2 {\n",
       "  background-color: #9ebeff;\n",
       "  color: #000000;\n",
       "}\n",
       "#T_5cb01_row3_col4 {\n",
       "  background-color: #6c8ff1;\n",
       "  color: #f1f1f1;\n",
       "}\n",
       "#T_5cb01_row4_col1, #T_5cb01_row5_col4, #T_5cb01_row6_col4 {\n",
       "  background-color: #4c66d6;\n",
       "  color: #f1f1f1;\n",
       "}\n",
       "#T_5cb01_row4_col3 {\n",
       "  background-color: #6485ec;\n",
       "  color: #f1f1f1;\n",
       "}\n",
       "#T_5cb01_row5_col0, #T_5cb01_row6_col0 {\n",
       "  background-color: #f7a98b;\n",
       "  color: #000000;\n",
       "}\n",
       "#T_5cb01_row5_col1, #T_5cb01_row6_col1 {\n",
       "  background-color: #dddcdc;\n",
       "  color: #000000;\n",
       "}\n",
       "#T_5cb01_row5_col3, #T_5cb01_row6_col3 {\n",
       "  background-color: #445acc;\n",
       "  color: #f1f1f1;\n",
       "}\n",
       "</style>\n",
       "<table id=\"T_5cb01\">\n",
       "  <thead>\n",
       "    <tr>\n",
       "      <th class=\"blank level0\" >&nbsp;</th>\n",
       "      <th id=\"T_5cb01_level0_col0\" class=\"col_heading level0 col0\" >area</th>\n",
       "      <th id=\"T_5cb01_level0_col1\" class=\"col_heading level0 col1\" >room</th>\n",
       "      <th id=\"T_5cb01_level0_col2\" class=\"col_heading level0 col2\" >parking</th>\n",
       "      <th id=\"T_5cb01_level0_col3\" class=\"col_heading level0 col3\" >warehouse</th>\n",
       "      <th id=\"T_5cb01_level0_col4\" class=\"col_heading level0 col4\" >elevator</th>\n",
       "      <th id=\"T_5cb01_level0_col5\" class=\"col_heading level0 col5\" >price</th>\n",
       "      <th id=\"T_5cb01_level0_col6\" class=\"col_heading level0 col6\" >usd</th>\n",
       "    </tr>\n",
       "  </thead>\n",
       "  <tbody>\n",
       "    <tr>\n",
       "      <th id=\"T_5cb01_level0_row0\" class=\"row_heading level0 row0\" >area</th>\n",
       "      <td id=\"T_5cb01_row0_col0\" class=\"data row0 col0\" >1.000000</td>\n",
       "      <td id=\"T_5cb01_row0_col1\" class=\"data row0 col1\" >0.673000</td>\n",
       "      <td id=\"T_5cb01_row0_col2\" class=\"data row0 col2\" >0.198000</td>\n",
       "      <td id=\"T_5cb01_row0_col3\" class=\"data row0 col3\" >0.077000</td>\n",
       "      <td id=\"T_5cb01_row0_col4\" class=\"data row0 col4\" >0.052000</td>\n",
       "      <td id=\"T_5cb01_row0_col5\" class=\"data row0 col5\" >0.723000</td>\n",
       "      <td id=\"T_5cb01_row0_col6\" class=\"data row0 col6\" >0.723000</td>\n",
       "    </tr>\n",
       "    <tr>\n",
       "      <th id=\"T_5cb01_level0_row1\" class=\"row_heading level0 row1\" >room</th>\n",
       "      <td id=\"T_5cb01_row1_col0\" class=\"data row1 col0\" >0.673000</td>\n",
       "      <td id=\"T_5cb01_row1_col1\" class=\"data row1 col1\" >1.000000</td>\n",
       "      <td id=\"T_5cb01_row1_col2\" class=\"data row1 col2\" >0.275000</td>\n",
       "      <td id=\"T_5cb01_row1_col3\" class=\"data row1 col3\" >0.130000</td>\n",
       "      <td id=\"T_5cb01_row1_col4\" class=\"data row1 col4\" >0.182000</td>\n",
       "      <td id=\"T_5cb01_row1_col5\" class=\"data row1 col5\" >0.568000</td>\n",
       "      <td id=\"T_5cb01_row1_col6\" class=\"data row1 col6\" >0.568000</td>\n",
       "    </tr>\n",
       "    <tr>\n",
       "      <th id=\"T_5cb01_level0_row2\" class=\"row_heading level0 row2\" >parking</th>\n",
       "      <td id=\"T_5cb01_row2_col0\" class=\"data row2 col0\" >0.198000</td>\n",
       "      <td id=\"T_5cb01_row2_col1\" class=\"data row2 col1\" >0.275000</td>\n",
       "      <td id=\"T_5cb01_row2_col2\" class=\"data row2 col2\" >1.000000</td>\n",
       "      <td id=\"T_5cb01_row2_col3\" class=\"data row2 col3\" >0.432000</td>\n",
       "      <td id=\"T_5cb01_row2_col4\" class=\"data row2 col4\" >0.431000</td>\n",
       "      <td id=\"T_5cb01_row2_col5\" class=\"data row2 col5\" >0.190000</td>\n",
       "      <td id=\"T_5cb01_row2_col6\" class=\"data row2 col6\" >0.190000</td>\n",
       "    </tr>\n",
       "    <tr>\n",
       "      <th id=\"T_5cb01_level0_row3\" class=\"row_heading level0 row3\" >warehouse</th>\n",
       "      <td id=\"T_5cb01_row3_col0\" class=\"data row3 col0\" >0.077000</td>\n",
       "      <td id=\"T_5cb01_row3_col1\" class=\"data row3 col1\" >0.130000</td>\n",
       "      <td id=\"T_5cb01_row3_col2\" class=\"data row3 col2\" >0.432000</td>\n",
       "      <td id=\"T_5cb01_row3_col3\" class=\"data row3 col3\" >1.000000</td>\n",
       "      <td id=\"T_5cb01_row3_col4\" class=\"data row3 col4\" >0.203000</td>\n",
       "      <td id=\"T_5cb01_row3_col5\" class=\"data row3 col5\" >0.109000</td>\n",
       "      <td id=\"T_5cb01_row3_col6\" class=\"data row3 col6\" >0.109000</td>\n",
       "    </tr>\n",
       "    <tr>\n",
       "      <th id=\"T_5cb01_level0_row4\" class=\"row_heading level0 row4\" >elevator</th>\n",
       "      <td id=\"T_5cb01_row4_col0\" class=\"data row4 col0\" >0.052000</td>\n",
       "      <td id=\"T_5cb01_row4_col1\" class=\"data row4 col1\" >0.182000</td>\n",
       "      <td id=\"T_5cb01_row4_col2\" class=\"data row4 col2\" >0.431000</td>\n",
       "      <td id=\"T_5cb01_row4_col3\" class=\"data row4 col3\" >0.203000</td>\n",
       "      <td id=\"T_5cb01_row4_col4\" class=\"data row4 col4\" >1.000000</td>\n",
       "      <td id=\"T_5cb01_row4_col5\" class=\"data row4 col5\" >0.111000</td>\n",
       "      <td id=\"T_5cb01_row4_col6\" class=\"data row4 col6\" >0.111000</td>\n",
       "    </tr>\n",
       "    <tr>\n",
       "      <th id=\"T_5cb01_level0_row5\" class=\"row_heading level0 row5\" >price</th>\n",
       "      <td id=\"T_5cb01_row5_col0\" class=\"data row5 col0\" >0.723000</td>\n",
       "      <td id=\"T_5cb01_row5_col1\" class=\"data row5 col1\" >0.568000</td>\n",
       "      <td id=\"T_5cb01_row5_col2\" class=\"data row5 col2\" >0.190000</td>\n",
       "      <td id=\"T_5cb01_row5_col3\" class=\"data row5 col3\" >0.109000</td>\n",
       "      <td id=\"T_5cb01_row5_col4\" class=\"data row5 col4\" >0.111000</td>\n",
       "      <td id=\"T_5cb01_row5_col5\" class=\"data row5 col5\" >1.000000</td>\n",
       "      <td id=\"T_5cb01_row5_col6\" class=\"data row5 col6\" >1.000000</td>\n",
       "    </tr>\n",
       "    <tr>\n",
       "      <th id=\"T_5cb01_level0_row6\" class=\"row_heading level0 row6\" >usd</th>\n",
       "      <td id=\"T_5cb01_row6_col0\" class=\"data row6 col0\" >0.723000</td>\n",
       "      <td id=\"T_5cb01_row6_col1\" class=\"data row6 col1\" >0.568000</td>\n",
       "      <td id=\"T_5cb01_row6_col2\" class=\"data row6 col2\" >0.190000</td>\n",
       "      <td id=\"T_5cb01_row6_col3\" class=\"data row6 col3\" >0.109000</td>\n",
       "      <td id=\"T_5cb01_row6_col4\" class=\"data row6 col4\" >0.111000</td>\n",
       "      <td id=\"T_5cb01_row6_col5\" class=\"data row6 col5\" >1.000000</td>\n",
       "      <td id=\"T_5cb01_row6_col6\" class=\"data row6 col6\" >1.000000</td>\n",
       "    </tr>\n",
       "  </tbody>\n",
       "</table>\n"
      ],
      "text/plain": [
       "<pandas.io.formats.style.Styler at 0x257ed92ce20>"
      ]
     },
     "execution_count": 251,
     "metadata": {},
     "output_type": "execute_result"
    }
   ],
   "source": [
    "data.corr().round(3).style.background_gradient(cmap='coolwarm')"
   ]
  },
  {
   "cell_type": "code",
   "execution_count": 252,
   "id": "de814415",
   "metadata": {
    "scrolled": true
   },
   "outputs": [
    {
     "name": "stdout",
     "output_type": "stream",
     "text": [
      "<class 'pandas.core.frame.DataFrame'>\n",
      "RangeIndex: 3479 entries, 0 to 3478\n",
      "Data columns (total 8 columns):\n",
      " #   Column     Non-Null Count  Dtype  \n",
      "---  ------     --------------  -----  \n",
      " 0   area       3473 non-null   float64\n",
      " 1   room       3479 non-null   int64  \n",
      " 2   parking    3479 non-null   bool   \n",
      " 3   warehouse  3479 non-null   bool   \n",
      " 4   elevator   3479 non-null   bool   \n",
      " 5   address    3456 non-null   object \n",
      " 6   price      3479 non-null   float64\n",
      " 7   usd        3479 non-null   float64\n",
      "dtypes: bool(3), float64(3), int64(1), object(1)\n",
      "memory usage: 146.2+ KB\n"
     ]
    }
   ],
   "source": [
    "data.info()"
   ]
  },
  {
   "cell_type": "code",
   "execution_count": 253,
   "id": "44143e04",
   "metadata": {},
   "outputs": [
    {
     "data": {
      "text/html": [
       "<div>\n",
       "<style scoped>\n",
       "    .dataframe tbody tr th:only-of-type {\n",
       "        vertical-align: middle;\n",
       "    }\n",
       "\n",
       "    .dataframe tbody tr th {\n",
       "        vertical-align: top;\n",
       "    }\n",
       "\n",
       "    .dataframe thead th {\n",
       "        text-align: right;\n",
       "    }\n",
       "</style>\n",
       "<table border=\"1\" class=\"dataframe\">\n",
       "  <thead>\n",
       "    <tr style=\"text-align: right;\">\n",
       "      <th></th>\n",
       "      <th>area</th>\n",
       "      <th>room</th>\n",
       "      <th>parking</th>\n",
       "      <th>warehouse</th>\n",
       "      <th>elevator</th>\n",
       "      <th>address</th>\n",
       "      <th>price</th>\n",
       "      <th>usd</th>\n",
       "    </tr>\n",
       "  </thead>\n",
       "  <tbody>\n",
       "    <tr>\n",
       "      <th>570</th>\n",
       "      <td>NaN</td>\n",
       "      <td>2</td>\n",
       "      <td>True</td>\n",
       "      <td>True</td>\n",
       "      <td>True</td>\n",
       "      <td>Ostad Moein</td>\n",
       "      <td>3.310000e+09</td>\n",
       "      <td>110333.33</td>\n",
       "    </tr>\n",
       "    <tr>\n",
       "      <th>709</th>\n",
       "      <td>NaN</td>\n",
       "      <td>3</td>\n",
       "      <td>True</td>\n",
       "      <td>True</td>\n",
       "      <td>True</td>\n",
       "      <td>Pasdaran</td>\n",
       "      <td>1.616000e+10</td>\n",
       "      <td>538666.67</td>\n",
       "    </tr>\n",
       "    <tr>\n",
       "      <th>807</th>\n",
       "      <td>NaN</td>\n",
       "      <td>2</td>\n",
       "      <td>True</td>\n",
       "      <td>True</td>\n",
       "      <td>False</td>\n",
       "      <td>Damavand</td>\n",
       "      <td>7.000000e+09</td>\n",
       "      <td>233333.33</td>\n",
       "    </tr>\n",
       "    <tr>\n",
       "      <th>1604</th>\n",
       "      <td>NaN</td>\n",
       "      <td>2</td>\n",
       "      <td>True</td>\n",
       "      <td>True</td>\n",
       "      <td>True</td>\n",
       "      <td>Gheitarieh</td>\n",
       "      <td>8.700000e+09</td>\n",
       "      <td>290000.00</td>\n",
       "    </tr>\n",
       "    <tr>\n",
       "      <th>2171</th>\n",
       "      <td>NaN</td>\n",
       "      <td>2</td>\n",
       "      <td>False</td>\n",
       "      <td>False</td>\n",
       "      <td>False</td>\n",
       "      <td>Shahryar</td>\n",
       "      <td>9.720000e+09</td>\n",
       "      <td>324000.00</td>\n",
       "    </tr>\n",
       "    <tr>\n",
       "      <th>2802</th>\n",
       "      <td>NaN</td>\n",
       "      <td>2</td>\n",
       "      <td>True</td>\n",
       "      <td>True</td>\n",
       "      <td>True</td>\n",
       "      <td>Central Janatabad</td>\n",
       "      <td>2.550000e+09</td>\n",
       "      <td>85000.00</td>\n",
       "    </tr>\n",
       "  </tbody>\n",
       "</table>\n",
       "</div>"
      ],
      "text/plain": [
       "      area  room  parking  warehouse  elevator            address  \\\n",
       "570    NaN     2     True       True      True        Ostad Moein   \n",
       "709    NaN     3     True       True      True           Pasdaran   \n",
       "807    NaN     2     True       True     False           Damavand   \n",
       "1604   NaN     2     True       True      True         Gheitarieh   \n",
       "2171   NaN     2    False      False     False           Shahryar   \n",
       "2802   NaN     2     True       True      True  Central Janatabad   \n",
       "\n",
       "             price        usd  \n",
       "570   3.310000e+09  110333.33  \n",
       "709   1.616000e+10  538666.67  \n",
       "807   7.000000e+09  233333.33  \n",
       "1604  8.700000e+09  290000.00  \n",
       "2171  9.720000e+09  324000.00  \n",
       "2802  2.550000e+09   85000.00  "
      ]
     },
     "execution_count": 253,
     "metadata": {},
     "output_type": "execute_result"
    }
   ],
   "source": [
    "data[data.area.isna()]"
   ]
  },
  {
   "cell_type": "code",
   "execution_count": 254,
   "id": "3d7c0f7f",
   "metadata": {},
   "outputs": [
    {
     "data": {
      "text/plain": [
       "count    3473.000000\n",
       "mean      106.774547\n",
       "std        69.365567\n",
       "min        30.000000\n",
       "25%        69.000000\n",
       "50%        90.000000\n",
       "75%       120.000000\n",
       "max       929.000000\n",
       "Name: area, dtype: float64"
      ]
     },
     "execution_count": 254,
     "metadata": {},
     "output_type": "execute_result"
    }
   ],
   "source": [
    "data.area.describe()"
   ]
  },
  {
   "cell_type": "code",
   "execution_count": 255,
   "id": "bbb7b33f",
   "metadata": {},
   "outputs": [
    {
     "name": "stdout",
     "output_type": "stream",
     "text": [
      "<class 'pandas.core.frame.DataFrame'>\n",
      "RangeIndex: 3479 entries, 0 to 3478\n",
      "Data columns (total 8 columns):\n",
      " #   Column     Non-Null Count  Dtype  \n",
      "---  ------     --------------  -----  \n",
      " 0   area       3479 non-null   float64\n",
      " 1   room       3479 non-null   int64  \n",
      " 2   parking    3479 non-null   bool   \n",
      " 3   warehouse  3479 non-null   bool   \n",
      " 4   elevator   3479 non-null   bool   \n",
      " 5   address    3456 non-null   object \n",
      " 6   price      3479 non-null   float64\n",
      " 7   usd        3479 non-null   float64\n",
      "dtypes: bool(3), float64(3), int64(1), object(1)\n",
      "memory usage: 146.2+ KB\n"
     ]
    }
   ],
   "source": [
    "data.area.fillna(data.area.mean(), inplace=True)\n",
    "\n",
    "data.info()"
   ]
  },
  {
   "cell_type": "code",
   "execution_count": 256,
   "id": "6087b087",
   "metadata": {},
   "outputs": [
    {
     "data": {
      "text/plain": [
       "<matplotlib.collections.PathCollection at 0x257eb30f250>"
      ]
     },
     "execution_count": 256,
     "metadata": {},
     "output_type": "execute_result"
    },
    {
     "data": {
      "image/png": "[encoded data removed]",
      "text/plain": [
       "<Figure size 432x288 with 1 Axes>"
      ]
     },
     "metadata": {
      "needs_background": "light"
     },
     "output_type": "display_data"
    }
   ],
   "source": [
    "x = np.array(data.area)\n",
    "y = np.array(data.usd)\n",
    "\n",
    "plt.scatter(x, y, color='crimson', alpha=.3)"
   ]
  },
  {
   "cell_type": "markdown",
   "id": "239ee604",
   "metadata": {},
   "source": [
    "## 10, 11 and 12 Tasks"
   ]
  },
  {
   "cell_type": "code",
   "execution_count": 257,
   "id": "52002768",
   "metadata": {},
   "outputs": [
    {
     "name": "stdout",
     "output_type": "stream",
     "text": [
      "Coeffs: b_1=2814.2556027896558, b_0=-121856.7753221175\n"
     ]
    }
   ],
   "source": [
    "n = np.size(x)\n",
    "\n",
    "m_x = np.mean(x)\n",
    "m_y = np.mean(y)\n",
    "\n",
    "SS_xy = np.sum(y*x) - n * m_y * x\n",
    "SS_xx = np.sum(x*x) - n * m_x * m_x\n",
    "\n",
    "b_1 = SS_xy / SS_xx\n",
    "b_0 = m_y - b_1 * m_x\n",
    "\n",
    "print(f'Coeffs: b_1={np.mean(b_1)}, b_0={np.mean(b_0)}')"
   ]
  },
  {
   "cell_type": "code",
   "execution_count": 258,
   "id": "c536e4ae",
   "metadata": {},
   "outputs": [
    {
     "data": {
      "image/png": "[encoded data removed]",
      "text/plain": [
       "<Figure size 576x504 with 1 Axes>"
      ]
     },
     "metadata": {
      "needs_background": "light"
     },
     "output_type": "display_data"
    }
   ],
   "source": [
    "plt.figure(figsize=(8, 7))\n",
    "\n",
    "plt.scatter(x, y, color='m', marker='o', s=30)\n",
    "\n",
    "y_pred = np.mean(b_0) + np.mean(b_1) * x\n",
    "\n",
    "plt.plot(x, y_pred, color='g')\n",
    "\n",
    "plt.xlabel('x')\n",
    "plt.ylabel('y')\n",
    "\n",
    "plt.show()"
   ]
  },
  {
   "cell_type": "code",
   "execution_count": null,
   "id": "a582ecd9",
   "metadata": {},
   "outputs": [],
   "source": []
  }
 ],
 "metadata": {
  "kernelspec": {
   "display_name": "Python 3 (ipykernel)",
   "language": "python",
   "name": "python3"
  },
  "language_info": {
   "codemirror_mode": {
    "name": "ipython",
    "version": 3
   },
   "file_extension": ".py",
   "mimetype": "text/x-python",
   "name": "python",
   "nbconvert_exporter": "python",
   "pygments_lexer": "ipython3",
   "version": "3.10.4"
  }
 },
 "nbformat": 4,
 "nbformat_minor": 5
}
