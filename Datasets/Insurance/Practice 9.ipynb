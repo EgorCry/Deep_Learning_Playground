{
 "cells": [
  {
   "cell_type": "code",
   "execution_count": 1,
   "id": "48c6fa75",
   "metadata": {},
   "outputs": [],
   "source": [
    "import pandas as pd\n",
    "import numpy as np\n",
    "import matplotlib.pyplot as plt"
   ]
  },
  {
   "cell_type": "code",
   "execution_count": 2,
   "id": "d61d26e7",
   "metadata": {},
   "outputs": [
    {
     "data": {
      "text/html": [
       "<div>\n",
       "<style scoped>\n",
       "    .dataframe tbody tr th:only-of-type {\n",
       "        vertical-align: middle;\n",
       "    }\n",
       "\n",
       "    .dataframe tbody tr th {\n",
       "        vertical-align: top;\n",
       "    }\n",
       "\n",
       "    .dataframe thead th {\n",
       "        text-align: right;\n",
       "    }\n",
       "</style>\n",
       "<table border=\"1\" class=\"dataframe\">\n",
       "  <thead>\n",
       "    <tr style=\"text-align: right;\">\n",
       "      <th></th>\n",
       "      <th>age</th>\n",
       "      <th>sex</th>\n",
       "      <th>bmi</th>\n",
       "      <th>children</th>\n",
       "      <th>smoker</th>\n",
       "      <th>region</th>\n",
       "      <th>charges</th>\n",
       "    </tr>\n",
       "  </thead>\n",
       "  <tbody>\n",
       "    <tr>\n",
       "      <th>0</th>\n",
       "      <td>19</td>\n",
       "      <td>female</td>\n",
       "      <td>27.900</td>\n",
       "      <td>0</td>\n",
       "      <td>yes</td>\n",
       "      <td>southwest</td>\n",
       "      <td>16884.92400</td>\n",
       "    </tr>\n",
       "    <tr>\n",
       "      <th>1</th>\n",
       "      <td>18</td>\n",
       "      <td>male</td>\n",
       "      <td>33.770</td>\n",
       "      <td>1</td>\n",
       "      <td>no</td>\n",
       "      <td>southeast</td>\n",
       "      <td>1725.55230</td>\n",
       "    </tr>\n",
       "    <tr>\n",
       "      <th>2</th>\n",
       "      <td>28</td>\n",
       "      <td>male</td>\n",
       "      <td>33.000</td>\n",
       "      <td>3</td>\n",
       "      <td>no</td>\n",
       "      <td>southeast</td>\n",
       "      <td>4449.46200</td>\n",
       "    </tr>\n",
       "    <tr>\n",
       "      <th>3</th>\n",
       "      <td>33</td>\n",
       "      <td>male</td>\n",
       "      <td>22.705</td>\n",
       "      <td>0</td>\n",
       "      <td>no</td>\n",
       "      <td>northwest</td>\n",
       "      <td>21984.47061</td>\n",
       "    </tr>\n",
       "    <tr>\n",
       "      <th>4</th>\n",
       "      <td>32</td>\n",
       "      <td>male</td>\n",
       "      <td>28.880</td>\n",
       "      <td>0</td>\n",
       "      <td>no</td>\n",
       "      <td>northwest</td>\n",
       "      <td>3866.85520</td>\n",
       "    </tr>\n",
       "  </tbody>\n",
       "</table>\n",
       "</div>"
      ],
      "text/plain": [
       "   age     sex     bmi  children smoker     region      charges\n",
       "0   19  female  27.900         0    yes  southwest  16884.92400\n",
       "1   18    male  33.770         1     no  southeast   1725.55230\n",
       "2   28    male  33.000         3     no  southeast   4449.46200\n",
       "3   33    male  22.705         0     no  northwest  21984.47061\n",
       "4   32    male  28.880         0     no  northwest   3866.85520"
      ]
     },
     "execution_count": 2,
     "metadata": {},
     "output_type": "execute_result"
    }
   ],
   "source": [
    "data = pd.read_csv('insurance.csv')\n",
    "\n",
    "data.head()"
   ]
  },
  {
   "cell_type": "code",
   "execution_count": 3,
   "id": "b923e10c",
   "metadata": {},
   "outputs": [
    {
     "name": "stdout",
     "output_type": "stream",
     "text": [
      "<class 'pandas.core.frame.DataFrame'>\n",
      "RangeIndex: 1338 entries, 0 to 1337\n",
      "Data columns (total 7 columns):\n",
      " #   Column    Non-Null Count  Dtype  \n",
      "---  ------    --------------  -----  \n",
      " 0   age       1338 non-null   int64  \n",
      " 1   sex       1338 non-null   object \n",
      " 2   bmi       1338 non-null   float64\n",
      " 3   children  1338 non-null   int64  \n",
      " 4   smoker    1338 non-null   object \n",
      " 5   region    1338 non-null   object \n",
      " 6   charges   1338 non-null   float64\n",
      "dtypes: float64(2), int64(2), object(3)\n",
      "memory usage: 73.3+ KB\n"
     ]
    }
   ],
   "source": [
    "data.info()"
   ]
  },
  {
   "cell_type": "code",
   "execution_count": 4,
   "id": "d7ee6a7d",
   "metadata": {},
   "outputs": [
    {
     "data": {
      "text/plain": [
       "age         False\n",
       "sex         False\n",
       "bmi         False\n",
       "children    False\n",
       "smoker      False\n",
       "region      False\n",
       "charges     False\n",
       "dtype: bool"
      ]
     },
     "execution_count": 4,
     "metadata": {},
     "output_type": "execute_result"
    }
   ],
   "source": [
    "data.isna().any()"
   ]
  },
  {
   "cell_type": "code",
   "execution_count": 5,
   "id": "220bf67c",
   "metadata": {},
   "outputs": [
    {
     "data": {
      "text/html": [
       "<div>\n",
       "<style scoped>\n",
       "    .dataframe tbody tr th:only-of-type {\n",
       "        vertical-align: middle;\n",
       "    }\n",
       "\n",
       "    .dataframe tbody tr th {\n",
       "        vertical-align: top;\n",
       "    }\n",
       "\n",
       "    .dataframe thead th {\n",
       "        text-align: right;\n",
       "    }\n",
       "</style>\n",
       "<table border=\"1\" class=\"dataframe\">\n",
       "  <thead>\n",
       "    <tr style=\"text-align: right;\">\n",
       "      <th></th>\n",
       "      <th>age</th>\n",
       "      <th>bmi</th>\n",
       "      <th>children</th>\n",
       "      <th>charges</th>\n",
       "    </tr>\n",
       "  </thead>\n",
       "  <tbody>\n",
       "    <tr>\n",
       "      <th>count</th>\n",
       "      <td>1338.000000</td>\n",
       "      <td>1338.000000</td>\n",
       "      <td>1338.000000</td>\n",
       "      <td>1338.000000</td>\n",
       "    </tr>\n",
       "    <tr>\n",
       "      <th>mean</th>\n",
       "      <td>39.207025</td>\n",
       "      <td>30.663397</td>\n",
       "      <td>1.094918</td>\n",
       "      <td>13270.422265</td>\n",
       "    </tr>\n",
       "    <tr>\n",
       "      <th>std</th>\n",
       "      <td>14.049960</td>\n",
       "      <td>6.098187</td>\n",
       "      <td>1.205493</td>\n",
       "      <td>12110.011237</td>\n",
       "    </tr>\n",
       "    <tr>\n",
       "      <th>min</th>\n",
       "      <td>18.000000</td>\n",
       "      <td>15.960000</td>\n",
       "      <td>0.000000</td>\n",
       "      <td>1121.873900</td>\n",
       "    </tr>\n",
       "    <tr>\n",
       "      <th>25%</th>\n",
       "      <td>27.000000</td>\n",
       "      <td>26.296250</td>\n",
       "      <td>0.000000</td>\n",
       "      <td>4740.287150</td>\n",
       "    </tr>\n",
       "    <tr>\n",
       "      <th>50%</th>\n",
       "      <td>39.000000</td>\n",
       "      <td>30.400000</td>\n",
       "      <td>1.000000</td>\n",
       "      <td>9382.033000</td>\n",
       "    </tr>\n",
       "    <tr>\n",
       "      <th>75%</th>\n",
       "      <td>51.000000</td>\n",
       "      <td>34.693750</td>\n",
       "      <td>2.000000</td>\n",
       "      <td>16639.912515</td>\n",
       "    </tr>\n",
       "    <tr>\n",
       "      <th>max</th>\n",
       "      <td>64.000000</td>\n",
       "      <td>53.130000</td>\n",
       "      <td>5.000000</td>\n",
       "      <td>63770.428010</td>\n",
       "    </tr>\n",
       "  </tbody>\n",
       "</table>\n",
       "</div>"
      ],
      "text/plain": [
       "               age          bmi     children       charges\n",
       "count  1338.000000  1338.000000  1338.000000   1338.000000\n",
       "mean     39.207025    30.663397     1.094918  13270.422265\n",
       "std      14.049960     6.098187     1.205493  12110.011237\n",
       "min      18.000000    15.960000     0.000000   1121.873900\n",
       "25%      27.000000    26.296250     0.000000   4740.287150\n",
       "50%      39.000000    30.400000     1.000000   9382.033000\n",
       "75%      51.000000    34.693750     2.000000  16639.912515\n",
       "max      64.000000    53.130000     5.000000  63770.428010"
      ]
     },
     "execution_count": 5,
     "metadata": {},
     "output_type": "execute_result"
    }
   ],
   "source": [
    "data.describe()"
   ]
  },
  {
   "cell_type": "code",
   "execution_count": 6,
   "id": "977ab76b",
   "metadata": {},
   "outputs": [
    {
     "data": {
      "text/plain": [
       "array(['southwest', 'southeast', 'northwest', 'northeast'], dtype=object)"
      ]
     },
     "execution_count": 6,
     "metadata": {},
     "output_type": "execute_result"
    }
   ],
   "source": [
    "regions = data.region.unique()\n",
    "regions"
   ]
  },
  {
   "cell_type": "markdown",
   "id": "210e7b49",
   "metadata": {},
   "source": [
    "---"
   ]
  },
  {
   "cell_type": "code",
   "execution_count": 7,
   "id": "33a5a9c6",
   "metadata": {},
   "outputs": [
    {
     "data": {
      "text/plain": [
       "F_onewayResult(statistic=39.49505720170283, pvalue=1.881838913929143e-24)"
      ]
     },
     "execution_count": 7,
     "metadata": {},
     "output_type": "execute_result"
    }
   ],
   "source": [
    "from scipy.stats import f_oneway\n",
    "\n",
    "\n",
    "df = data[['region', 'bmi']]\n",
    "\n",
    "groups = df.groupby('region').groups\n",
    "\n",
    "sw = df.bmi[groups['southwest']]\n",
    "se = df.bmi[groups['southeast']]\n",
    "nw = df.bmi[groups['northwest']]\n",
    "ne = df.bmi[groups['northeast']]\n",
    "\n",
    "f_oneway(sw, se, nw, ne)"
   ]
  },
  {
   "cell_type": "markdown",
   "id": "d7f6a997",
   "metadata": {},
   "source": [
    "---"
   ]
  },
  {
   "cell_type": "code",
   "execution_count": 8,
   "id": "9e2187ed",
   "metadata": {},
   "outputs": [],
   "source": [
    "import statsmodels.api as sm\n",
    "from scipy import stats\n",
    "from statsmodels.formula.api import ols"
   ]
  },
  {
   "cell_type": "code",
   "execution_count": 9,
   "id": "0ea74ede",
   "metadata": {},
   "outputs": [
    {
     "data": {
      "text/html": [
       "<div>\n",
       "<style scoped>\n",
       "    .dataframe tbody tr th:only-of-type {\n",
       "        vertical-align: middle;\n",
       "    }\n",
       "\n",
       "    .dataframe tbody tr th {\n",
       "        vertical-align: top;\n",
       "    }\n",
       "\n",
       "    .dataframe thead th {\n",
       "        text-align: right;\n",
       "    }\n",
       "</style>\n",
       "<table border=\"1\" class=\"dataframe\">\n",
       "  <thead>\n",
       "    <tr style=\"text-align: right;\">\n",
       "      <th></th>\n",
       "      <th>sum_sq</th>\n",
       "      <th>df</th>\n",
       "      <th>F</th>\n",
       "      <th>PR(&gt;F)</th>\n",
       "    </tr>\n",
       "  </thead>\n",
       "  <tbody>\n",
       "    <tr>\n",
       "      <th>region</th>\n",
       "      <td>4055.880631</td>\n",
       "      <td>3.0</td>\n",
       "      <td>39.495057</td>\n",
       "      <td>1.881839e-24</td>\n",
       "    </tr>\n",
       "    <tr>\n",
       "      <th>Residual</th>\n",
       "      <td>45664.319755</td>\n",
       "      <td>1334.0</td>\n",
       "      <td>NaN</td>\n",
       "      <td>NaN</td>\n",
       "    </tr>\n",
       "  </tbody>\n",
       "</table>\n",
       "</div>"
      ],
      "text/plain": [
       "                sum_sq      df          F        PR(>F)\n",
       "region     4055.880631     3.0  39.495057  1.881839e-24\n",
       "Residual  45664.319755  1334.0        NaN           NaN"
      ]
     },
     "execution_count": 9,
     "metadata": {},
     "output_type": "execute_result"
    }
   ],
   "source": [
    "model = ols('bmi ~ region', data=df).fit()\n",
    "sm.stats.anova_lm(model, typ=2)"
   ]
  },
  {
   "cell_type": "code",
   "execution_count": 10,
   "id": "491567ad",
   "metadata": {},
   "outputs": [
    {
     "data": {
      "text/plain": [
       "1.881838913929143e-24"
      ]
     },
     "execution_count": 10,
     "metadata": {},
     "output_type": "execute_result"
    }
   ],
   "source": [
    "model.f_pvalue"
   ]
  },
  {
   "cell_type": "markdown",
   "id": "7e432f2d",
   "metadata": {},
   "source": [
    "---"
   ]
  },
  {
   "cell_type": "code",
   "execution_count": 11,
   "id": "14a27110",
   "metadata": {},
   "outputs": [
    {
     "name": "stdout",
     "output_type": "stream",
     "text": [
      "southwest southeast\n",
      "Ttest_indResult(statistic=-5.908373821545118, pvalue=5.4374009639680636e-09)\n",
      "Decline\n",
      "southwest northwest\n",
      "Ttest_indResult(statistic=3.2844171500398582, pvalue=0.001076958496307695)\n",
      "Decline\n",
      "southwest northeast\n",
      "Ttest_indResult(statistic=3.1169000930045923, pvalue=0.0019086161671573074)\n",
      "Decline\n",
      "southeast northwest\n",
      "Ttest_indResult(statistic=9.25649013552548, pvalue=2.643571405230106e-19)\n",
      "Decline\n",
      "southeast northeast\n",
      "Ttest_indResult(statistic=8.790905562598699, pvalue=1.186014937424813e-17)\n",
      "Decline\n",
      "northwest northeast\n",
      "Ttest_indResult(statistic=0.060307727183293185, pvalue=0.951929170821864)\n",
      "Accept\n"
     ]
    }
   ],
   "source": [
    "reg_pairs = []\n",
    "\n",
    "for reg1 in range(0, 3):\n",
    "    for reg2 in range(reg1 + 1, 4):\n",
    "        reg_pairs.append([regions[reg1], regions[reg2]])\n",
    "        \n",
    "for reg1, reg2 in reg_pairs:\n",
    "    print(reg1, reg2)\n",
    "    result = stats.ttest_ind(df.bmi[groups[reg1]], df.bmi[groups[reg2]])\n",
    "    print(result)\n",
    "    alfa = 0.05 / 6\n",
    "    print('Accept' if result[1] > alfa else 'Decline')"
   ]
  },
  {
   "cell_type": "markdown",
   "id": "3aca4d30",
   "metadata": {},
   "source": [
    "Вес различается везде, кроме северо-запада и северо-востока\n",
    "\n",
    "---"
   ]
  },
  {
   "cell_type": "code",
   "execution_count": 12,
   "id": "1e39ef19",
   "metadata": {},
   "outputs": [],
   "source": [
    "from statsmodels.stats.multicomp import pairwise_tukeyhsd"
   ]
  },
  {
   "cell_type": "code",
   "execution_count": 13,
   "id": "2bc8a640",
   "metadata": {},
   "outputs": [
    {
     "data": {
      "text/html": [
       "<table class=\"simpletable\">\n",
       "<caption>Multiple Comparison of Means - Tukey HSD, FWER=0.05</caption>\n",
       "<tr>\n",
       "   <th>group1</th>    <th>group2</th>   <th>meandiff</th>  <th>p-adj</th>  <th>lower</th>   <th>upper</th>  <th>reject</th>\n",
       "</tr>\n",
       "<tr>\n",
       "  <td>northeast</td> <td>northwest</td>  <td>0.0263</td>  <td>0.9999</td> <td>-1.1552</td> <td>1.2078</td>   <td>False</td>\n",
       "</tr>\n",
       "<tr>\n",
       "  <td>northeast</td> <td>southeast</td>  <td>4.1825</td>   <td>-0.0</td>   <td>3.033</td>   <td>5.332</td>   <td>True</td> \n",
       "</tr>\n",
       "<tr>\n",
       "  <td>northeast</td> <td>southwest</td>  <td>1.4231</td>  <td>0.0107</td> <td>0.2416</td>  <td>2.6046</td>   <td>True</td> \n",
       "</tr>\n",
       "<tr>\n",
       "  <td>northwest</td> <td>southeast</td>  <td>4.1562</td>   <td>-0.0</td>  <td>3.0077</td>  <td>5.3047</td>   <td>True</td> \n",
       "</tr>\n",
       "<tr>\n",
       "  <td>northwest</td> <td>southwest</td>  <td>1.3968</td>  <td>0.0127</td> <td>0.2162</td>  <td>2.5774</td>   <td>True</td> \n",
       "</tr>\n",
       "<tr>\n",
       "  <td>southeast</td> <td>southwest</td>  <td>-2.7594</td>   <td>0.0</td>  <td>-3.9079</td> <td>-1.6108</td>  <td>True</td> \n",
       "</tr>\n",
       "</table>"
      ],
      "text/plain": [
       "<class 'statsmodels.iolib.table.SimpleTable'>"
      ]
     },
     "execution_count": 13,
     "metadata": {},
     "output_type": "execute_result"
    },
    {
     "data": {
      "image/png": "[encoded data removed]",
      "text/plain": [
       "<Figure size 720x432 with 1 Axes>"
      ]
     },
     "metadata": {
      "needs_background": "light"
     },
     "output_type": "display_data"
    }
   ],
   "source": [
    "tukey = pairwise_tukeyhsd(endog=df.bmi, groups = df.region, alpha=0.05)\n",
    "tukey.plot_simultaneous()\n",
    "tukey.summary()"
   ]
  },
  {
   "cell_type": "markdown",
   "id": "579de8ac",
   "metadata": {},
   "source": [
    "---"
   ]
  },
  {
   "cell_type": "code",
   "execution_count": 14,
   "id": "acd6e31b",
   "metadata": {},
   "outputs": [
    {
     "data": {
      "text/html": [
       "<div>\n",
       "<style scoped>\n",
       "    .dataframe tbody tr th:only-of-type {\n",
       "        vertical-align: middle;\n",
       "    }\n",
       "\n",
       "    .dataframe tbody tr th {\n",
       "        vertical-align: top;\n",
       "    }\n",
       "\n",
       "    .dataframe thead th {\n",
       "        text-align: right;\n",
       "    }\n",
       "</style>\n",
       "<table border=\"1\" class=\"dataframe\">\n",
       "  <thead>\n",
       "    <tr style=\"text-align: right;\">\n",
       "      <th></th>\n",
       "      <th>region</th>\n",
       "      <th>sex</th>\n",
       "      <th>bmi</th>\n",
       "    </tr>\n",
       "  </thead>\n",
       "  <tbody>\n",
       "    <tr>\n",
       "      <th>0</th>\n",
       "      <td>southwest</td>\n",
       "      <td>female</td>\n",
       "      <td>27.900</td>\n",
       "    </tr>\n",
       "    <tr>\n",
       "      <th>1</th>\n",
       "      <td>southeast</td>\n",
       "      <td>male</td>\n",
       "      <td>33.770</td>\n",
       "    </tr>\n",
       "    <tr>\n",
       "      <th>2</th>\n",
       "      <td>southeast</td>\n",
       "      <td>male</td>\n",
       "      <td>33.000</td>\n",
       "    </tr>\n",
       "    <tr>\n",
       "      <th>3</th>\n",
       "      <td>northwest</td>\n",
       "      <td>male</td>\n",
       "      <td>22.705</td>\n",
       "    </tr>\n",
       "    <tr>\n",
       "      <th>4</th>\n",
       "      <td>northwest</td>\n",
       "      <td>male</td>\n",
       "      <td>28.880</td>\n",
       "    </tr>\n",
       "  </tbody>\n",
       "</table>\n",
       "</div>"
      ],
      "text/plain": [
       "      region     sex     bmi\n",
       "0  southwest  female  27.900\n",
       "1  southeast    male  33.770\n",
       "2  southeast    male  33.000\n",
       "3  northwest    male  22.705\n",
       "4  northwest    male  28.880"
      ]
     },
     "execution_count": 14,
     "metadata": {},
     "output_type": "execute_result"
    }
   ],
   "source": [
    "df_1 = data[['region', 'sex', 'bmi']]\n",
    "df_1.head()"
   ]
  },
  {
   "cell_type": "code",
   "execution_count": 15,
   "id": "dea7187b",
   "metadata": {},
   "outputs": [
    {
     "data": {
      "text/html": [
       "<div>\n",
       "<style scoped>\n",
       "    .dataframe tbody tr th:only-of-type {\n",
       "        vertical-align: middle;\n",
       "    }\n",
       "\n",
       "    .dataframe tbody tr th {\n",
       "        vertical-align: top;\n",
       "    }\n",
       "\n",
       "    .dataframe thead th {\n",
       "        text-align: right;\n",
       "    }\n",
       "</style>\n",
       "<table border=\"1\" class=\"dataframe\">\n",
       "  <thead>\n",
       "    <tr style=\"text-align: right;\">\n",
       "      <th></th>\n",
       "      <th>sum_sq</th>\n",
       "      <th>df</th>\n",
       "      <th>F</th>\n",
       "      <th>PR(&gt;F)</th>\n",
       "    </tr>\n",
       "  </thead>\n",
       "  <tbody>\n",
       "    <tr>\n",
       "      <th>C(region)</th>\n",
       "      <td>4034.975135</td>\n",
       "      <td>3.0</td>\n",
       "      <td>39.398134</td>\n",
       "      <td>2.163195e-24</td>\n",
       "    </tr>\n",
       "    <tr>\n",
       "      <th>C(sex)</th>\n",
       "      <td>86.007035</td>\n",
       "      <td>1.0</td>\n",
       "      <td>2.519359</td>\n",
       "      <td>1.126940e-01</td>\n",
       "    </tr>\n",
       "    <tr>\n",
       "      <th>C(region):C(sex)</th>\n",
       "      <td>174.157808</td>\n",
       "      <td>3.0</td>\n",
       "      <td>1.700504</td>\n",
       "      <td>1.650655e-01</td>\n",
       "    </tr>\n",
       "    <tr>\n",
       "      <th>Residual</th>\n",
       "      <td>45404.154911</td>\n",
       "      <td>1330.0</td>\n",
       "      <td>NaN</td>\n",
       "      <td>NaN</td>\n",
       "    </tr>\n",
       "  </tbody>\n",
       "</table>\n",
       "</div>"
      ],
      "text/plain": [
       "                        sum_sq      df          F        PR(>F)\n",
       "C(region)          4034.975135     3.0  39.398134  2.163195e-24\n",
       "C(sex)               86.007035     1.0   2.519359  1.126940e-01\n",
       "C(region):C(sex)    174.157808     3.0   1.700504  1.650655e-01\n",
       "Residual          45404.154911  1330.0        NaN           NaN"
      ]
     },
     "execution_count": 15,
     "metadata": {},
     "output_type": "execute_result"
    }
   ],
   "source": [
    "model = ols('bmi ~ C(region) + C(sex) + C(region):C(sex)', data=df_1).fit()\n",
    "sm.stats.anova_lm(model, typ=2)"
   ]
  },
  {
   "cell_type": "markdown",
   "id": "e4b8cd69",
   "metadata": {},
   "source": [
    "---"
   ]
  },
  {
   "cell_type": "code",
   "execution_count": 16,
   "id": "6891ff06",
   "metadata": {},
   "outputs": [
    {
     "name": "stderr",
     "output_type": "stream",
     "text": [
      "C:\\Temp\\ipykernel_11376\\2013580510.py:1: SettingWithCopyWarning: \n",
      "A value is trying to be set on a copy of a slice from a DataFrame.\n",
      "Try using .loc[row_indexer,col_indexer] = value instead\n",
      "\n",
      "See the caveats in the documentation: https://pandas.pydata.org/pandas-docs/stable/user_guide/indexing.html#returning-a-view-versus-a-copy\n",
      "  df_1['combination'] = df_1.region + \" / \" + df_1.sex\n"
     ]
    },
    {
     "data": {
      "text/html": [
       "<table class=\"simpletable\">\n",
       "<caption>Multiple Comparison of Means - Tukey HSD, FWER=0.05</caption>\n",
       "<tr>\n",
       "        <th>group1</th>             <th>group2</th>       <th>meandiff</th>  <th>p-adj</th>  <th>lower</th>   <th>upper</th>  <th>reject</th>\n",
       "</tr>\n",
       "<tr>\n",
       "  <td>northeast / female</td>  <td>northeast / male</td>   <td>-0.2998</td> <td>0.9998</td> <td>-2.2706</td> <td>1.6711</td>   <td>False</td>\n",
       "</tr>\n",
       "<tr>\n",
       "  <td>northeast / female</td> <td>northwest / female</td>  <td>-0.0464</td>   <td>1.0</td>  <td>-2.0142</td> <td>1.9215</td>   <td>False</td>\n",
       "</tr>\n",
       "<tr>\n",
       "  <td>northeast / female</td>  <td>northwest / male</td>   <td>-0.2042</td>   <td>1.0</td>  <td>-2.1811</td> <td>1.7728</td>   <td>False</td>\n",
       "</tr>\n",
       "<tr>\n",
       "  <td>northeast / female</td> <td>southeast / female</td>  <td>3.3469</td>    <td>0.0</td>   <td>1.41</td>   <td>5.2839</td>   <td>True</td> \n",
       "</tr>\n",
       "<tr>\n",
       "  <td>northeast / female</td>  <td>southeast / male</td>   <td>4.6657</td>    <td>0.0</td>  <td>2.7634</td>   <td>6.568</td>   <td>True</td> \n",
       "</tr>\n",
       "<tr>\n",
       "  <td>northeast / female</td> <td>southwest / female</td>  <td>0.7362</td>  <td>0.9497</td> <td>-1.2377</td>  <td>2.71</td>    <td>False</td>\n",
       "</tr>\n",
       "<tr>\n",
       "  <td>northeast / female</td>  <td>southwest / male</td>   <td>1.8051</td>  <td>0.1007</td> <td>-0.1657</td>  <td>3.776</td>   <td>False</td>\n",
       "</tr>\n",
       "<tr>\n",
       "   <td>northeast / male</td>  <td>northwest / female</td>  <td>0.2534</td>  <td>0.9999</td> <td>-1.7083</td> <td>2.2152</td>   <td>False</td>\n",
       "</tr>\n",
       "<tr>\n",
       "   <td>northeast / male</td>   <td>northwest / male</td>   <td>0.0956</td>    <td>1.0</td>  <td>-1.8752</td> <td>2.0665</td>   <td>False</td>\n",
       "</tr>\n",
       "<tr>\n",
       "   <td>northeast / male</td>  <td>southeast / female</td>  <td>3.6467</td>    <td>0.0</td>  <td>1.7159</td>  <td>5.5775</td>   <td>True</td> \n",
       "</tr>\n",
       "<tr>\n",
       "   <td>northeast / male</td>   <td>southeast / male</td>   <td>4.9655</td>    <td>0.0</td>  <td>3.0695</td>  <td>6.8614</td>   <td>True</td> \n",
       "</tr>\n",
       "<tr>\n",
       "   <td>northeast / male</td>  <td>southwest / female</td>   <td>1.036</td>  <td>0.7515</td> <td>-0.9318</td> <td>3.0037</td>   <td>False</td>\n",
       "</tr>\n",
       "<tr>\n",
       "   <td>northeast / male</td>   <td>southwest / male</td>   <td>2.1049</td>  <td>0.0258</td> <td>0.1402</td>  <td>4.0697</td>   <td>True</td> \n",
       "</tr>\n",
       "<tr>\n",
       "  <td>northwest / female</td>  <td>northwest / male</td>   <td>-0.1578</td>   <td>1.0</td>  <td>-2.1257</td>  <td>1.81</td>    <td>False</td>\n",
       "</tr>\n",
       "<tr>\n",
       "  <td>northwest / female</td> <td>southeast / female</td>  <td>3.3933</td>    <td>0.0</td>  <td>1.4656</td>   <td>5.321</td>   <td>True</td> \n",
       "</tr>\n",
       "<tr>\n",
       "  <td>northwest / female</td>  <td>southeast / male</td>    <td>4.712</td>    <td>0.0</td>  <td>2.8192</td>  <td>6.6049</td>   <td>True</td> \n",
       "</tr>\n",
       "<tr>\n",
       "  <td>northwest / female</td> <td>southwest / female</td>  <td>0.7825</td>  <td>0.9294</td> <td>-1.1822</td> <td>2.7473</td>   <td>False</td>\n",
       "</tr>\n",
       "<tr>\n",
       "  <td>northwest / female</td>  <td>southwest / male</td>   <td>1.8515</td>  <td>0.0806</td> <td>-0.1103</td> <td>3.8132</td>   <td>False</td>\n",
       "</tr>\n",
       "<tr>\n",
       "   <td>northwest / male</td>  <td>southeast / female</td>  <td>3.5511</td>    <td>0.0</td>  <td>1.6141</td>  <td>5.4881</td>   <td>True</td> \n",
       "</tr>\n",
       "<tr>\n",
       "   <td>northwest / male</td>   <td>southeast / male</td>   <td>4.8698</td>    <td>0.0</td>  <td>2.9676</td>  <td>6.7721</td>   <td>True</td> \n",
       "</tr>\n",
       "<tr>\n",
       "   <td>northwest / male</td>  <td>southwest / female</td>  <td>0.9403</td>  <td>0.8354</td> <td>-1.0335</td> <td>2.9142</td>   <td>False</td>\n",
       "</tr>\n",
       "<tr>\n",
       "   <td>northwest / male</td>   <td>southwest / male</td>   <td>2.0093</td>   <td>0.042</td> <td>0.0385</td>  <td>3.9801</td>   <td>True</td> \n",
       "</tr>\n",
       "<tr>\n",
       "  <td>southeast / female</td>  <td>southeast / male</td>   <td>1.3187</td>  <td>0.3823</td> <td>-0.542</td>  <td>3.1795</td>   <td>False</td>\n",
       "</tr>\n",
       "<tr>\n",
       "  <td>southeast / female</td> <td>southwest / female</td>  <td>-2.6108</td> <td>0.0011</td> <td>-4.5446</td> <td>-0.6769</td>  <td>True</td> \n",
       "</tr>\n",
       "<tr>\n",
       "  <td>southeast / female</td>  <td>southwest / male</td>   <td>-1.5418</td> <td>0.2304</td> <td>-3.4726</td>  <td>0.389</td>   <td>False</td>\n",
       "</tr>\n",
       "<tr>\n",
       "   <td>southeast / male</td>  <td>southwest / female</td>  <td>-3.9295</td>   <td>0.0</td>  <td>-5.8286</td> <td>-2.0304</td>  <td>True</td> \n",
       "</tr>\n",
       "<tr>\n",
       "   <td>southeast / male</td>   <td>southwest / male</td>   <td>-2.8606</td> <td>0.0001</td> <td>-4.7565</td> <td>-0.9646</td>  <td>True</td> \n",
       "</tr>\n",
       "<tr>\n",
       "  <td>southwest / female</td>  <td>southwest / male</td>    <td>1.069</td>  <td>0.7201</td> <td>-0.8988</td> <td>3.0367</td>   <td>False</td>\n",
       "</tr>\n",
       "</table>"
      ],
      "text/plain": [
       "<class 'statsmodels.iolib.table.SimpleTable'>"
      ]
     },
     "execution_count": 16,
     "metadata": {},
     "output_type": "execute_result"
    },
    {
     "data": {
      "image/png": "[encoded data removed]",
      "text/plain": [
       "<Figure size 720x432 with 1 Axes>"
      ]
     },
     "metadata": {
      "needs_background": "light"
     },
     "output_type": "display_data"
    }
   ],
   "source": [
    "df_1['combination'] = df_1.region + \" / \" + df_1.sex\n",
    "tukey = pairwise_tukeyhsd(endog=df_1.bmi, groups = df_1.combination, alpha=0.05)\n",
    "tukey.plot_simultaneous()\n",
    "tukey.summary()"
   ]
  },
  {
   "cell_type": "code",
   "execution_count": null,
   "id": "6aa4f8e2",
   "metadata": {},
   "outputs": [],
   "source": []
  }
 ],
 "metadata": {
  "kernelspec": {
   "display_name": "Python 3 (ipykernel)",
   "language": "python",
   "name": "python3"
  },
  "language_info": {
   "codemirror_mode": {
    "name": "ipython",
    "version": 3
   },
   "file_extension": ".py",
   "mimetype": "text/x-python",
   "name": "python",
   "nbconvert_exporter": "python",
   "pygments_lexer": "ipython3",
   "version": "3.10.4"
  }
 },
 "nbformat": 4,
 "nbformat_minor": 5
}
