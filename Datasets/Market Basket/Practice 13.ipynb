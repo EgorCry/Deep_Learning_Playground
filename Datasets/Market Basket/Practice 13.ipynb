{
 "cells": [
  {
   "cell_type": "code",
   "execution_count": 1,
   "id": "cc58cd82",
   "metadata": {},
   "outputs": [],
   "source": [
    "import pandas as pd\n",
    "import numpy as np\n",
    "import matplotlib.pyplot as plt"
   ]
  },
  {
   "cell_type": "code",
   "execution_count": 2,
   "id": "4fb79bbb",
   "metadata": {},
   "outputs": [
    {
     "data": {
      "text/html": [
       "<div>\n",
       "<style scoped>\n",
       "    .dataframe tbody tr th:only-of-type {\n",
       "        vertical-align: middle;\n",
       "    }\n",
       "\n",
       "    .dataframe tbody tr th {\n",
       "        vertical-align: top;\n",
       "    }\n",
       "\n",
       "    .dataframe thead th {\n",
       "        text-align: right;\n",
       "    }\n",
       "</style>\n",
       "<table border=\"1\" class=\"dataframe\">\n",
       "  <thead>\n",
       "    <tr style=\"text-align: right;\">\n",
       "      <th></th>\n",
       "      <th>shrimp</th>\n",
       "      <th>almonds</th>\n",
       "      <th>avocado</th>\n",
       "      <th>vegetables mix</th>\n",
       "      <th>green grapes</th>\n",
       "      <th>whole weat flour</th>\n",
       "      <th>yams</th>\n",
       "      <th>cottage cheese</th>\n",
       "      <th>energy drink</th>\n",
       "      <th>tomato juice</th>\n",
       "      <th>low fat yogurt</th>\n",
       "      <th>green tea</th>\n",
       "      <th>honey</th>\n",
       "      <th>salad</th>\n",
       "      <th>mineral water</th>\n",
       "      <th>salmon</th>\n",
       "      <th>antioxydant juice</th>\n",
       "      <th>frozen smoothie</th>\n",
       "      <th>spinach</th>\n",
       "      <th>olive oil</th>\n",
       "    </tr>\n",
       "  </thead>\n",
       "  <tbody>\n",
       "    <tr>\n",
       "      <th>0</th>\n",
       "      <td>burgers</td>\n",
       "      <td>meatballs</td>\n",
       "      <td>eggs</td>\n",
       "      <td>NaN</td>\n",
       "      <td>NaN</td>\n",
       "      <td>NaN</td>\n",
       "      <td>NaN</td>\n",
       "      <td>NaN</td>\n",
       "      <td>NaN</td>\n",
       "      <td>NaN</td>\n",
       "      <td>NaN</td>\n",
       "      <td>NaN</td>\n",
       "      <td>NaN</td>\n",
       "      <td>NaN</td>\n",
       "      <td>NaN</td>\n",
       "      <td>NaN</td>\n",
       "      <td>NaN</td>\n",
       "      <td>NaN</td>\n",
       "      <td>NaN</td>\n",
       "      <td>NaN</td>\n",
       "    </tr>\n",
       "    <tr>\n",
       "      <th>1</th>\n",
       "      <td>chutney</td>\n",
       "      <td>NaN</td>\n",
       "      <td>NaN</td>\n",
       "      <td>NaN</td>\n",
       "      <td>NaN</td>\n",
       "      <td>NaN</td>\n",
       "      <td>NaN</td>\n",
       "      <td>NaN</td>\n",
       "      <td>NaN</td>\n",
       "      <td>NaN</td>\n",
       "      <td>NaN</td>\n",
       "      <td>NaN</td>\n",
       "      <td>NaN</td>\n",
       "      <td>NaN</td>\n",
       "      <td>NaN</td>\n",
       "      <td>NaN</td>\n",
       "      <td>NaN</td>\n",
       "      <td>NaN</td>\n",
       "      <td>NaN</td>\n",
       "      <td>NaN</td>\n",
       "    </tr>\n",
       "    <tr>\n",
       "      <th>2</th>\n",
       "      <td>turkey</td>\n",
       "      <td>avocado</td>\n",
       "      <td>NaN</td>\n",
       "      <td>NaN</td>\n",
       "      <td>NaN</td>\n",
       "      <td>NaN</td>\n",
       "      <td>NaN</td>\n",
       "      <td>NaN</td>\n",
       "      <td>NaN</td>\n",
       "      <td>NaN</td>\n",
       "      <td>NaN</td>\n",
       "      <td>NaN</td>\n",
       "      <td>NaN</td>\n",
       "      <td>NaN</td>\n",
       "      <td>NaN</td>\n",
       "      <td>NaN</td>\n",
       "      <td>NaN</td>\n",
       "      <td>NaN</td>\n",
       "      <td>NaN</td>\n",
       "      <td>NaN</td>\n",
       "    </tr>\n",
       "    <tr>\n",
       "      <th>3</th>\n",
       "      <td>mineral water</td>\n",
       "      <td>milk</td>\n",
       "      <td>energy bar</td>\n",
       "      <td>whole wheat rice</td>\n",
       "      <td>green tea</td>\n",
       "      <td>NaN</td>\n",
       "      <td>NaN</td>\n",
       "      <td>NaN</td>\n",
       "      <td>NaN</td>\n",
       "      <td>NaN</td>\n",
       "      <td>NaN</td>\n",
       "      <td>NaN</td>\n",
       "      <td>NaN</td>\n",
       "      <td>NaN</td>\n",
       "      <td>NaN</td>\n",
       "      <td>NaN</td>\n",
       "      <td>NaN</td>\n",
       "      <td>NaN</td>\n",
       "      <td>NaN</td>\n",
       "      <td>NaN</td>\n",
       "    </tr>\n",
       "    <tr>\n",
       "      <th>4</th>\n",
       "      <td>low fat yogurt</td>\n",
       "      <td>NaN</td>\n",
       "      <td>NaN</td>\n",
       "      <td>NaN</td>\n",
       "      <td>NaN</td>\n",
       "      <td>NaN</td>\n",
       "      <td>NaN</td>\n",
       "      <td>NaN</td>\n",
       "      <td>NaN</td>\n",
       "      <td>NaN</td>\n",
       "      <td>NaN</td>\n",
       "      <td>NaN</td>\n",
       "      <td>NaN</td>\n",
       "      <td>NaN</td>\n",
       "      <td>NaN</td>\n",
       "      <td>NaN</td>\n",
       "      <td>NaN</td>\n",
       "      <td>NaN</td>\n",
       "      <td>NaN</td>\n",
       "      <td>NaN</td>\n",
       "    </tr>\n",
       "  </tbody>\n",
       "</table>\n",
       "</div>"
      ],
      "text/plain": [
       "           shrimp    almonds     avocado    vegetables mix green grapes  \\\n",
       "0         burgers  meatballs        eggs               NaN          NaN   \n",
       "1         chutney        NaN         NaN               NaN          NaN   \n",
       "2          turkey    avocado         NaN               NaN          NaN   \n",
       "3   mineral water       milk  energy bar  whole wheat rice    green tea   \n",
       "4  low fat yogurt        NaN         NaN               NaN          NaN   \n",
       "\n",
       "  whole weat flour yams cottage cheese energy drink tomato juice  \\\n",
       "0              NaN  NaN            NaN          NaN          NaN   \n",
       "1              NaN  NaN            NaN          NaN          NaN   \n",
       "2              NaN  NaN            NaN          NaN          NaN   \n",
       "3              NaN  NaN            NaN          NaN          NaN   \n",
       "4              NaN  NaN            NaN          NaN          NaN   \n",
       "\n",
       "  low fat yogurt green tea honey salad mineral water salmon antioxydant juice  \\\n",
       "0            NaN       NaN   NaN   NaN           NaN    NaN               NaN   \n",
       "1            NaN       NaN   NaN   NaN           NaN    NaN               NaN   \n",
       "2            NaN       NaN   NaN   NaN           NaN    NaN               NaN   \n",
       "3            NaN       NaN   NaN   NaN           NaN    NaN               NaN   \n",
       "4            NaN       NaN   NaN   NaN           NaN    NaN               NaN   \n",
       "\n",
       "  frozen smoothie spinach  olive oil  \n",
       "0             NaN     NaN        NaN  \n",
       "1             NaN     NaN        NaN  \n",
       "2             NaN     NaN        NaN  \n",
       "3             NaN     NaN        NaN  \n",
       "4             NaN     NaN        NaN  "
      ]
     },
     "execution_count": 2,
     "metadata": {},
     "output_type": "execute_result"
    }
   ],
   "source": [
    "data = pd.read_csv('Market_Basket_Optimisation.csv')\n",
    "\n",
    "data.head()"
   ]
  },
  {
   "cell_type": "code",
   "execution_count": 3,
   "id": "2e2a93c4",
   "metadata": {},
   "outputs": [
    {
     "name": "stdout",
     "output_type": "stream",
     "text": [
      "<class 'pandas.core.frame.DataFrame'>\n",
      "RangeIndex: 7500 entries, 0 to 7499\n",
      "Data columns (total 20 columns):\n",
      " #   Column             Non-Null Count  Dtype  \n",
      "---  ------             --------------  -----  \n",
      " 0   shrimp             7500 non-null   object \n",
      " 1   almonds            5746 non-null   object \n",
      " 2   avocado            4388 non-null   object \n",
      " 3   vegetables mix     3344 non-null   object \n",
      " 4   green grapes       2528 non-null   object \n",
      " 5   whole weat flour   1863 non-null   object \n",
      " 6   yams               1368 non-null   object \n",
      " 7   cottage cheese     980 non-null    object \n",
      " 8   energy drink       653 non-null    object \n",
      " 9   tomato juice       394 non-null    object \n",
      " 10  low fat yogurt     255 non-null    object \n",
      " 11  green tea          153 non-null    object \n",
      " 12  honey              86 non-null     object \n",
      " 13  salad              46 non-null     object \n",
      " 14  mineral water      24 non-null     object \n",
      " 15  salmon             7 non-null      object \n",
      " 16  antioxydant juice  3 non-null      object \n",
      " 17  frozen smoothie    3 non-null      object \n",
      " 18  spinach            2 non-null      object \n",
      " 19  olive oil          0 non-null      float64\n",
      "dtypes: float64(1), object(19)\n",
      "memory usage: 1.1+ MB\n"
     ]
    }
   ],
   "source": [
    "data.info()"
   ]
  },
  {
   "cell_type": "code",
   "execution_count": 4,
   "id": "6c4313a1",
   "metadata": {},
   "outputs": [
    {
     "data": {
      "text/plain": [
       "mineral water    1787\n",
       "eggs             1348\n",
       "spaghetti        1306\n",
       "french fries     1282\n",
       "chocolate        1230\n",
       "                 ... \n",
       "bramble            14\n",
       "cream               7\n",
       "napkins             5\n",
       "water spray         3\n",
       " asparagus          1\n",
       "Length: 120, dtype: int64"
      ]
     },
     "execution_count": 4,
     "metadata": {},
     "output_type": "execute_result"
    }
   ],
   "source": [
    "data.stack().value_counts()"
   ]
  },
  {
   "cell_type": "code",
   "execution_count": 5,
   "id": "1d688aca",
   "metadata": {},
   "outputs": [
    {
     "data": {
      "text/plain": [
       "mineral water    0.060900\n",
       "eggs             0.045939\n",
       "spaghetti        0.044508\n",
       "french fries     0.043690\n",
       "chocolate        0.041918\n",
       "                   ...   \n",
       "bramble          0.000477\n",
       "cream            0.000239\n",
       "napkins          0.000170\n",
       "water spray      0.000102\n",
       " asparagus       0.000034\n",
       "Length: 120, dtype: float64"
      ]
     },
     "execution_count": 5,
     "metadata": {},
     "output_type": "execute_result"
    }
   ],
   "source": [
    "data.stack().value_counts(normalize=True)"
   ]
  },
  {
   "cell_type": "code",
   "execution_count": 6,
   "id": "45718e5c",
   "metadata": {},
   "outputs": [
    {
     "data": {
      "text/plain": [
       "<AxesSubplot: >"
      ]
     },
     "execution_count": 6,
     "metadata": {},
     "output_type": "execute_result"
    },
    {
     "data": {
      "image/png": "[encoded data removed]",
      "text/plain": [
       "<Figure size 432x288 with 1 Axes>"
      ]
     },
     "metadata": {
      "needs_background": "light"
     },
     "output_type": "display_data"
    }
   ],
   "source": [
    "data.stack().value_counts().apply(lambda x: x / data.shape[0])[:20].plot(kind='bar')"
   ]
  },
  {
   "cell_type": "code",
   "execution_count": 7,
   "id": "f804db71",
   "metadata": {},
   "outputs": [
    {
     "data": {
      "text/plain": [
       "<AxesSubplot: >"
      ]
     },
     "execution_count": 7,
     "metadata": {},
     "output_type": "execute_result"
    },
    {
     "data": {
      "image/png": "[encoded data removed]",
      "text/plain": [
       "<Figure size 432x288 with 1 Axes>"
      ]
     },
     "metadata": {
      "needs_background": "light"
     },
     "output_type": "display_data"
    }
   ],
   "source": [
    "data.stack().value_counts(normalize=True).apply(lambda x: x / data.shape[0])[:20].plot(kind='bar')"
   ]
  },
  {
   "cell_type": "code",
   "execution_count": 8,
   "id": "fdaa4f92",
   "metadata": {},
   "outputs": [],
   "source": [
    "import time"
   ]
  },
  {
   "cell_type": "code",
   "execution_count": 9,
   "id": "4c5585c4",
   "metadata": {},
   "outputs": [
    {
     "data": {
      "text/plain": [
       "['burgers', 'meatballs', 'eggs']"
      ]
     },
     "execution_count": 9,
     "metadata": {},
     "output_type": "execute_result"
    }
   ],
   "source": [
    "transactions = []\n",
    "for i in range(data.shape[0]):\n",
    "    row = data.iloc[i].dropna().tolist()\n",
    "    transactions.append(row)\n",
    "\n",
    "transactions[0]"
   ]
  },
  {
   "cell_type": "code",
   "execution_count": 10,
   "id": "18d3b9d9",
   "metadata": {},
   "outputs": [],
   "source": [
    "from apriori_python import apriori\n",
    "\n",
    "t = []\n",
    "start = time.perf_counter()\n",
    "t1, rules = apriori(transactions, minSup=0.006, minConf=0.5)\n",
    "t1 = time.perf_counter()-start\n",
    "t.append(t1)"
   ]
  },
  {
   "cell_type": "code",
   "execution_count": 11,
   "id": "e601e30f",
   "metadata": {},
   "outputs": [
    {
     "data": {
      "text/plain": [
       "[[{'ground beef', 'milk'}, {'mineral water'}, 0.503030303030303],\n",
       " [{'chocolate', 'olive oil'}, {'mineral water'}, 0.5040650406504065],\n",
       " [{'salmon', 'spaghetti'}, {'mineral water'}, 0.504950495049505],\n",
       " [{'eggs', 'ground beef'}, {'mineral water'}, 0.5066666666666667],\n",
       " [{'frozen vegetables', 'ground beef'}, {'spaghetti'}, 0.5118110236220472],\n",
       " [{'ground beef', 'pancakes'}, {'mineral water'}, 0.5137614678899083],\n",
       " [{'chicken', 'chocolate'}, {'mineral water'}, 0.5181818181818182],\n",
       " [{'ground beef', 'shrimp'}, {'spaghetti'}, 0.5232558139534884],\n",
       " [{'soup', 'spaghetti'}, {'mineral water'}, 0.5233644859813084],\n",
       " [{'milk', 'turkey'}, {'mineral water'}, 0.5411764705882353],\n",
       " [{'frozen vegetables', 'ground beef'}, {'mineral water'}, 0.5433070866141733],\n",
       " [{'cooking oil', 'eggs'}, {'mineral water'}, 0.5454545454545454],\n",
       " [{'milk', 'soup'}, {'mineral water'}, 0.5614035087719298],\n",
       " [{'frozen vegetables', 'olive oil'}, {'mineral water'}, 0.5764705882352941]]"
      ]
     },
     "execution_count": 11,
     "metadata": {},
     "output_type": "execute_result"
    }
   ],
   "source": [
    "rules"
   ]
  },
  {
   "cell_type": "code",
   "execution_count": 12,
   "id": "37a4f6a0",
   "metadata": {},
   "outputs": [],
   "source": [
    "from apyori import apriori\n",
    "\n",
    "start = time.perf_counter()\n",
    "rules = apriori(transactions=transactions,\n",
    "               min_support=0.006,\n",
    "               min_confidence=0.5,\n",
    "               min_lift=1.001)\n",
    "\n",
    "results = list(rules)\n",
    "t2 = time.perf_counter() - start\n",
    "t.append(t2)"
   ]
  },
  {
   "cell_type": "code",
   "execution_count": 13,
   "id": "c06cd268",
   "metadata": {},
   "outputs": [
    {
     "data": {
      "text/plain": [
       "[RelationRecord(items=frozenset({'chocolate', 'chicken', 'mineral water'}), support=0.0076, ordered_statistics=[OrderedStatistic(items_base=frozenset({'chocolate', 'chicken'}), items_add=frozenset({'mineral water'}), confidence=0.5181818181818182, lift=2.174797781960625)]),\n",
       " RelationRecord(items=frozenset({'chocolate', 'mineral water', 'olive oil'}), support=0.008266666666666667, ordered_statistics=[OrderedStatistic(items_base=frozenset({'chocolate', 'olive oil'}), items_add=frozenset({'mineral water'}), confidence=0.5040650406504065, lift=2.115549974749887)]),\n",
       " RelationRecord(items=frozenset({'cooking oil', 'mineral water', 'eggs'}), support=0.0064, ordered_statistics=[OrderedStatistic(items_base=frozenset({'cooking oil', 'eggs'}), items_add=frozenset({'mineral water'}), confidence=0.5454545454545455, lift=2.2892608231164475)]),\n",
       " RelationRecord(items=frozenset({'eggs', 'mineral water', 'ground beef'}), support=0.010133333333333333, ordered_statistics=[OrderedStatistic(items_base=frozenset({'eggs', 'ground beef'}), items_add=frozenset({'mineral water'}), confidence=0.5066666666666666, lift=2.1264689423614995)]),\n",
       " RelationRecord(items=frozenset({'frozen vegetables', 'mineral water', 'ground beef'}), support=0.0092, ordered_statistics=[OrderedStatistic(items_base=frozenset({'frozen vegetables', 'ground beef'}), items_add=frozenset({'mineral water'}), confidence=0.5433070866141732, lift=2.2802479852301616)]),\n",
       " RelationRecord(items=frozenset({'frozen vegetables', 'spaghetti', 'ground beef'}), support=0.008666666666666666, ordered_statistics=[OrderedStatistic(items_base=frozenset({'frozen vegetables', 'ground beef'}), items_add=frozenset({'spaghetti'}), confidence=0.5118110236220472, lift=2.939190411305784)]),\n",
       " RelationRecord(items=frozenset({'frozen vegetables', 'mineral water', 'olive oil'}), support=0.006533333333333334, ordered_statistics=[OrderedStatistic(items_base=frozenset({'frozen vegetables', 'olive oil'}), items_add=frozenset({'mineral water'}), confidence=0.5764705882352941, lift=2.419434477764245)]),\n",
       " RelationRecord(items=frozenset({'mineral water', 'milk', 'ground beef'}), support=0.011066666666666667, ordered_statistics=[OrderedStatistic(items_base=frozenset({'milk', 'ground beef'}), items_add=frozenset({'mineral water'}), confidence=0.503030303030303, lift=2.1112072035407237)]),\n",
       " RelationRecord(items=frozenset({'mineral water', 'pancakes', 'ground beef'}), support=0.007466666666666667, ordered_statistics=[OrderedStatistic(items_base=frozenset({'pancakes', 'ground beef'}), items_add=frozenset({'mineral water'}), confidence=0.5137614678899083, lift=2.1562456682564703)]),\n",
       " RelationRecord(items=frozenset({'shrimp', 'spaghetti', 'ground beef'}), support=0.006, ordered_statistics=[OrderedStatistic(items_base=frozenset({'shrimp', 'ground beef'}), items_add=frozenset({'spaghetti'}), confidence=0.5232558139534884, lift=3.004914704939635)]),\n",
       " RelationRecord(items=frozenset({'mineral water', 'milk', 'olive oil'}), support=0.008533333333333334, ordered_statistics=[OrderedStatistic(items_base=frozenset({'milk', 'olive oil'}), items_add=frozenset({'mineral water'}), confidence=0.5, lift=2.098489087856743)]),\n",
       " RelationRecord(items=frozenset({'mineral water', 'milk', 'soup'}), support=0.008533333333333334, ordered_statistics=[OrderedStatistic(items_base=frozenset({'milk', 'soup'}), items_add=frozenset({'mineral water'}), confidence=0.5614035087719299, lift=2.3561982740847647)]),\n",
       " RelationRecord(items=frozenset({'mineral water', 'milk', 'turkey'}), support=0.0061333333333333335, ordered_statistics=[OrderedStatistic(items_base=frozenset({'milk', 'turkey'}), items_add=frozenset({'mineral water'}), confidence=0.5411764705882353, lift=2.271305836268475)]),\n",
       " RelationRecord(items=frozenset({'salmon', 'mineral water', 'spaghetti'}), support=0.0068, ordered_statistics=[OrderedStatistic(items_base=frozenset({'salmon', 'spaghetti'}), items_add=frozenset({'mineral water'}), confidence=0.504950495049505, lift=2.119266207538493)]),\n",
       " RelationRecord(items=frozenset({'mineral water', 'spaghetti', 'soup'}), support=0.007466666666666667, ordered_statistics=[OrderedStatistic(items_base=frozenset({'spaghetti', 'soup'}), items_add=frozenset({'mineral water'}), confidence=0.5233644859813084, lift=2.1965493256070583)])]"
      ]
     },
     "execution_count": 13,
     "metadata": {},
     "output_type": "execute_result"
    }
   ],
   "source": [
    "results"
   ]
  },
  {
   "cell_type": "code",
   "execution_count": 14,
   "id": "5571465b",
   "metadata": {},
   "outputs": [
    {
     "name": "stdout",
     "output_type": "stream",
     "text": [
      "frozenset({'chocolate', 'chicken'}) frozenset({'mineral water'})\n",
      "Support: 0.0076, Confidence: 0.5181818181818182, Lift: 2.174797781960625\n",
      "\n",
      "frozenset({'chocolate', 'olive oil'}) frozenset({'mineral water'})\n",
      "Support: 0.008266666666666667, Confidence: 0.5040650406504065, Lift: 2.115549974749887\n",
      "\n",
      "frozenset({'cooking oil', 'eggs'}) frozenset({'mineral water'})\n",
      "Support: 0.0064, Confidence: 0.5454545454545455, Lift: 2.2892608231164475\n",
      "\n",
      "frozenset({'eggs', 'ground beef'}) frozenset({'mineral water'})\n",
      "Support: 0.010133333333333333, Confidence: 0.5066666666666666, Lift: 2.1264689423614995\n",
      "\n",
      "frozenset({'frozen vegetables', 'ground beef'}) frozenset({'mineral water'})\n",
      "Support: 0.0092, Confidence: 0.5433070866141732, Lift: 2.2802479852301616\n",
      "\n",
      "frozenset({'frozen vegetables', 'ground beef'}) frozenset({'spaghetti'})\n",
      "Support: 0.008666666666666666, Confidence: 0.5118110236220472, Lift: 2.939190411305784\n",
      "\n",
      "frozenset({'frozen vegetables', 'olive oil'}) frozenset({'mineral water'})\n",
      "Support: 0.006533333333333334, Confidence: 0.5764705882352941, Lift: 2.419434477764245\n",
      "\n",
      "frozenset({'milk', 'ground beef'}) frozenset({'mineral water'})\n",
      "Support: 0.011066666666666667, Confidence: 0.503030303030303, Lift: 2.1112072035407237\n",
      "\n",
      "frozenset({'pancakes', 'ground beef'}) frozenset({'mineral water'})\n",
      "Support: 0.007466666666666667, Confidence: 0.5137614678899083, Lift: 2.1562456682564703\n",
      "\n",
      "frozenset({'shrimp', 'ground beef'}) frozenset({'spaghetti'})\n",
      "Support: 0.006, Confidence: 0.5232558139534884, Lift: 3.004914704939635\n",
      "\n",
      "frozenset({'milk', 'olive oil'}) frozenset({'mineral water'})\n",
      "Support: 0.008533333333333334, Confidence: 0.5, Lift: 2.098489087856743\n",
      "\n",
      "frozenset({'milk', 'soup'}) frozenset({'mineral water'})\n",
      "Support: 0.008533333333333334, Confidence: 0.5614035087719299, Lift: 2.3561982740847647\n",
      "\n",
      "frozenset({'milk', 'turkey'}) frozenset({'mineral water'})\n",
      "Support: 0.0061333333333333335, Confidence: 0.5411764705882353, Lift: 2.271305836268475\n",
      "\n",
      "frozenset({'salmon', 'spaghetti'}) frozenset({'mineral water'})\n",
      "Support: 0.0068, Confidence: 0.504950495049505, Lift: 2.119266207538493\n",
      "\n",
      "frozenset({'spaghetti', 'soup'}) frozenset({'mineral water'})\n",
      "Support: 0.007466666666666667, Confidence: 0.5233644859813084, Lift: 2.1965493256070583\n",
      "\n"
     ]
    }
   ],
   "source": [
    "for result in results:\n",
    "    for subset in result[2]:\n",
    "        print(subset[0], subset[1])\n",
    "        print(f'Support: {result[1]}, Confidence: {subset[2]}, Lift: {subset[3]}')\n",
    "        print()"
   ]
  },
  {
   "cell_type": "code",
   "execution_count": 15,
   "id": "f3c1bcfa",
   "metadata": {},
   "outputs": [
    {
     "name": "stdout",
     "output_type": "stream",
     "text": [
      "{chicken, chocolate} -> {mineral water} (conf: 0.518, supp: 0.008, lift: 2.175, conv: 1.581)\n",
      "{chocolate, olive oil} -> {mineral water} (conf: 0.504, supp: 0.008, lift: 2.116, conv: 1.536)\n",
      "{cooking oil, eggs} -> {mineral water} (conf: 0.545, supp: 0.006, lift: 2.289, conv: 1.676)\n",
      "{eggs, ground beef} -> {mineral water} (conf: 0.507, supp: 0.010, lift: 2.126, conv: 1.544)\n",
      "{frozen vegetables, ground beef} -> {mineral water} (conf: 0.543, supp: 0.009, lift: 2.280, conv: 1.668)\n",
      "{frozen vegetables, ground beef} -> {spaghetti} (conf: 0.512, supp: 0.009, lift: 2.939, conv: 1.692)\n",
      "{frozen vegetables, olive oil} -> {mineral water} (conf: 0.576, supp: 0.007, lift: 2.419, conv: 1.799)\n",
      "{ground beef, milk} -> {mineral water} (conf: 0.503, supp: 0.011, lift: 2.111, conv: 1.533)\n",
      "{ground beef, pancakes} -> {mineral water} (conf: 0.514, supp: 0.007, lift: 2.156, conv: 1.567)\n",
      "{ground beef, shrimp} -> {spaghetti} (conf: 0.523, supp: 0.006, lift: 3.005, conv: 1.732)\n",
      "{milk, olive oil} -> {mineral water} (conf: 0.500, supp: 0.009, lift: 2.098, conv: 1.523)\n",
      "{milk, soup} -> {mineral water} (conf: 0.561, supp: 0.009, lift: 2.356, conv: 1.737)\n",
      "{milk, turkey} -> {mineral water} (conf: 0.541, supp: 0.006, lift: 2.271, conv: 1.660)\n",
      "{salmon, spaghetti} -> {mineral water} (conf: 0.505, supp: 0.007, lift: 2.119, conv: 1.539)\n",
      "{soup, spaghetti} -> {mineral water} (conf: 0.523, supp: 0.007, lift: 2.197, conv: 1.598)\n"
     ]
    }
   ],
   "source": [
    "from efficient_apriori import apriori\n",
    "\n",
    "start = time.perf_counter()\n",
    "itemsets, rules = apriori(transactions, min_support=0.006, min_confidence=0.5)\n",
    "t3 = time.perf_counter() - start\n",
    "t.append(t3)\n",
    "\n",
    "for i in range(len(rules)):\n",
    "    print(rules[i])"
   ]
  },
  {
   "cell_type": "code",
   "execution_count": 16,
   "id": "22c209b7",
   "metadata": {},
   "outputs": [
    {
     "name": "stdout",
     "output_type": "stream",
     "text": [
      "[{'salmon', 'spaghetti'}, {'mineral water'}, 0.504950495049505]\n",
      "[{'spaghetti', 'soup'}, {'mineral water'}, 0.5233644859813084]\n",
      "[{'milk', 'soup'}, {'mineral water'}, 0.5614035087719298]\n",
      "[{'cooking oil', 'eggs'}, {'mineral water'}, 0.5454545454545454]\n",
      "[{'chocolate', 'chicken'}, {'mineral water'}, 0.5181818181818182]\n",
      "[{'milk', 'turkey'}, {'mineral water'}, 0.5411764705882353]\n",
      "[{'frozen vegetables', 'olive oil'}, {'mineral water'}, 0.5764705882352941]\n",
      "[{'chocolate', 'olive oil'}, {'mineral water'}, 0.5040650406504065]\n",
      "[{'shrimp', 'ground beef'}, {'spaghetti'}, 0.5232558139534884]\n",
      "[{'pancakes', 'ground beef'}, {'mineral water'}, 0.5137614678899083]\n",
      "[{'frozen vegetables', 'ground beef'}, {'spaghetti'}, 0.5118110236220472]\n",
      "[{'frozen vegetables', 'ground beef'}, {'mineral water'}, 0.5433070866141733]\n",
      "[{'eggs', 'ground beef'}, {'mineral water'}, 0.5066666666666667]\n",
      "[{'milk', 'ground beef'}, {'mineral water'}, 0.503030303030303]\n"
     ]
    }
   ],
   "source": [
    "from fpgrowth_py import fpgrowth\n",
    "\n",
    "start = time.perf_counter()\n",
    "itemsets, rules = fpgrowth(transactions, minSupRatio=0.006, minConf=0.5)\n",
    "t4 = time.perf_counter() - start\n",
    "t.append(t4)\n",
    "\n",
    "for i in range(len(rules)):\n",
    "    print(rules[i])"
   ]
  },
  {
   "cell_type": "code",
   "execution_count": 17,
   "id": "881fc7be",
   "metadata": {},
   "outputs": [
    {
     "name": "stdout",
     "output_type": "stream",
     "text": [
      "apriori_python: 12.364667499998177\n",
      "apyori: 0.1453825999997207\n",
      "efficient_apriori: 0.08386780000000726\n",
      "fpgrowth_py: 5.359959500005061\n"
     ]
    },
    {
     "data": {
      "text/plain": [
       "<BarContainer object of 4 artists>"
      ]
     },
     "execution_count": 17,
     "metadata": {},
     "output_type": "execute_result"
    },
    {
     "data": {
      "image/png": "[encoded data removed]",
      "text/plain": [
       "<Figure size 432x288 with 1 Axes>"
      ]
     },
     "metadata": {
      "needs_background": "light"
     },
     "output_type": "display_data"
    }
   ],
   "source": [
    "print(f'apriori_python: {t[0]}')\n",
    "print(f'apyori: {t[1]}')\n",
    "print(f'efficient_apriori: {t[2]}')\n",
    "print(f'fpgrowth_py: {t[3]}')\n",
    "plt.bar(['apriori', 'apriori 2', 'efficient_apriori', 'fpgrowth'], t)"
   ]
  },
  {
   "cell_type": "code",
   "execution_count": 18,
   "id": "d86b4d56",
   "metadata": {},
   "outputs": [
    {
     "data": {
      "text/html": [
       "<div>\n",
       "<style scoped>\n",
       "    .dataframe tbody tr th:only-of-type {\n",
       "        vertical-align: middle;\n",
       "    }\n",
       "\n",
       "    .dataframe tbody tr th {\n",
       "        vertical-align: top;\n",
       "    }\n",
       "\n",
       "    .dataframe thead th {\n",
       "        text-align: right;\n",
       "    }\n",
       "</style>\n",
       "<table border=\"1\" class=\"dataframe\">\n",
       "  <thead>\n",
       "    <tr style=\"text-align: right;\">\n",
       "      <th></th>\n",
       "      <th>Bread</th>\n",
       "      <th>Unnamed: 1</th>\n",
       "      <th>Unnamed: 2</th>\n",
       "      <th>Unnamed: 3</th>\n",
       "      <th>Unnamed: 4</th>\n",
       "      <th>Unnamed: 5</th>\n",
       "      <th>Unnamed: 6</th>\n",
       "      <th>Unnamed: 7</th>\n",
       "      <th>Unnamed: 8</th>\n",
       "      <th>Unnamed: 9</th>\n",
       "      <th>Unnamed: 10</th>\n",
       "      <th>Unnamed: 11</th>\n",
       "    </tr>\n",
       "  </thead>\n",
       "  <tbody>\n",
       "    <tr>\n",
       "      <th>0</th>\n",
       "      <td>Scandinavian</td>\n",
       "      <td>Scandinavian</td>\n",
       "      <td>NaN</td>\n",
       "      <td>NaN</td>\n",
       "      <td>NaN</td>\n",
       "      <td>NaN</td>\n",
       "      <td>NaN</td>\n",
       "      <td>NaN</td>\n",
       "      <td>NaN</td>\n",
       "      <td>NaN</td>\n",
       "      <td>NaN</td>\n",
       "      <td>NaN</td>\n",
       "    </tr>\n",
       "    <tr>\n",
       "      <th>1</th>\n",
       "      <td>Hot chocolate</td>\n",
       "      <td>Jam</td>\n",
       "      <td>Cookies</td>\n",
       "      <td>NaN</td>\n",
       "      <td>NaN</td>\n",
       "      <td>NaN</td>\n",
       "      <td>NaN</td>\n",
       "      <td>NaN</td>\n",
       "      <td>NaN</td>\n",
       "      <td>NaN</td>\n",
       "      <td>NaN</td>\n",
       "      <td>NaN</td>\n",
       "    </tr>\n",
       "    <tr>\n",
       "      <th>2</th>\n",
       "      <td>Muffin</td>\n",
       "      <td>NaN</td>\n",
       "      <td>NaN</td>\n",
       "      <td>NaN</td>\n",
       "      <td>NaN</td>\n",
       "      <td>NaN</td>\n",
       "      <td>NaN</td>\n",
       "      <td>NaN</td>\n",
       "      <td>NaN</td>\n",
       "      <td>NaN</td>\n",
       "      <td>NaN</td>\n",
       "      <td>NaN</td>\n",
       "    </tr>\n",
       "    <tr>\n",
       "      <th>3</th>\n",
       "      <td>Coffee</td>\n",
       "      <td>Pastry</td>\n",
       "      <td>Bread</td>\n",
       "      <td>NaN</td>\n",
       "      <td>NaN</td>\n",
       "      <td>NaN</td>\n",
       "      <td>NaN</td>\n",
       "      <td>NaN</td>\n",
       "      <td>NaN</td>\n",
       "      <td>NaN</td>\n",
       "      <td>NaN</td>\n",
       "      <td>NaN</td>\n",
       "    </tr>\n",
       "    <tr>\n",
       "      <th>4</th>\n",
       "      <td>Medialuna</td>\n",
       "      <td>Pastry</td>\n",
       "      <td>Muffin</td>\n",
       "      <td>NaN</td>\n",
       "      <td>NaN</td>\n",
       "      <td>NaN</td>\n",
       "      <td>NaN</td>\n",
       "      <td>NaN</td>\n",
       "      <td>NaN</td>\n",
       "      <td>NaN</td>\n",
       "      <td>NaN</td>\n",
       "      <td>NaN</td>\n",
       "    </tr>\n",
       "  </tbody>\n",
       "</table>\n",
       "</div>"
      ],
      "text/plain": [
       "           Bread    Unnamed: 1 Unnamed: 2 Unnamed: 3 Unnamed: 4 Unnamed: 5  \\\n",
       "0   Scandinavian  Scandinavian        NaN        NaN        NaN        NaN   \n",
       "1  Hot chocolate           Jam    Cookies        NaN        NaN        NaN   \n",
       "2         Muffin           NaN        NaN        NaN        NaN        NaN   \n",
       "3         Coffee        Pastry      Bread        NaN        NaN        NaN   \n",
       "4      Medialuna        Pastry     Muffin        NaN        NaN        NaN   \n",
       "\n",
       "  Unnamed: 6 Unnamed: 7 Unnamed: 8 Unnamed: 9 Unnamed: 10 Unnamed: 11  \n",
       "0        NaN        NaN        NaN        NaN         NaN         NaN  \n",
       "1        NaN        NaN        NaN        NaN         NaN         NaN  \n",
       "2        NaN        NaN        NaN        NaN         NaN         NaN  \n",
       "3        NaN        NaN        NaN        NaN         NaN         NaN  \n",
       "4        NaN        NaN        NaN        NaN         NaN         NaN  "
      ]
     },
     "execution_count": 18,
     "metadata": {},
     "output_type": "execute_result"
    }
   ],
   "source": [
    "data = pd.read_csv('data.csv')\n",
    "\n",
    "data.head()"
   ]
  },
  {
   "cell_type": "code",
   "execution_count": 19,
   "id": "bbdf8467",
   "metadata": {},
   "outputs": [
    {
     "name": "stdout",
     "output_type": "stream",
     "text": [
      "<class 'pandas.core.frame.DataFrame'>\n",
      "RangeIndex: 9530 entries, 0 to 9529\n",
      "Data columns (total 12 columns):\n",
      " #   Column       Non-Null Count  Dtype \n",
      "---  ------       --------------  ----- \n",
      " 0   Bread        9207 non-null   object\n",
      " 1   Unnamed: 1   5840 non-null   object\n",
      " 2   Unnamed: 2   2959 non-null   object\n",
      " 3   Unnamed: 3   1505 non-null   object\n",
      " 4   Unnamed: 4   596 non-null    object\n",
      " 5   Unnamed: 5   245 non-null    object\n",
      " 6   Unnamed: 6   91 non-null     object\n",
      " 7   Unnamed: 7   36 non-null     object\n",
      " 8   Unnamed: 8   13 non-null     object\n",
      " 9   Unnamed: 9   9 non-null      object\n",
      " 10  Unnamed: 10  4 non-null      object\n",
      " 11  Unnamed: 11  1 non-null      object\n",
      "dtypes: object(12)\n",
      "memory usage: 893.6+ KB\n"
     ]
    }
   ],
   "source": [
    "data.info()"
   ]
  },
  {
   "cell_type": "code",
   "execution_count": 20,
   "id": "41e083d4",
   "metadata": {},
   "outputs": [
    {
     "data": {
      "text/plain": [
       "Coffee              5471\n",
       "Bread               3324\n",
       "Tea                 1435\n",
       "Cake                1025\n",
       "Pastry               856\n",
       "                    ... \n",
       "Olum & polenta         1\n",
       "Gift voucher           1\n",
       "Coffee granules        1\n",
       "Raw bars               1\n",
       "Chicken sand           1\n",
       "Length: 102, dtype: int64"
      ]
     },
     "execution_count": 20,
     "metadata": {},
     "output_type": "execute_result"
    }
   ],
   "source": [
    "data.stack().value_counts()"
   ]
  },
  {
   "cell_type": "code",
   "execution_count": 21,
   "id": "f87d2f28",
   "metadata": {},
   "outputs": [
    {
     "data": {
      "text/plain": [
       "Coffee              0.266800\n",
       "Bread               0.162099\n",
       "Tea                 0.069980\n",
       "Cake                0.049985\n",
       "Pastry              0.041744\n",
       "                      ...   \n",
       "Olum & polenta      0.000049\n",
       "Gift voucher        0.000049\n",
       "Coffee granules     0.000049\n",
       "Raw bars            0.000049\n",
       "Chicken sand        0.000049\n",
       "Length: 102, dtype: float64"
      ]
     },
     "execution_count": 21,
     "metadata": {},
     "output_type": "execute_result"
    }
   ],
   "source": [
    "data.stack().value_counts(normalize=True)"
   ]
  },
  {
   "cell_type": "code",
   "execution_count": 22,
   "id": "4ee5db2d",
   "metadata": {},
   "outputs": [
    {
     "data": {
      "text/plain": [
       "<AxesSubplot: >"
      ]
     },
     "execution_count": 22,
     "metadata": {},
     "output_type": "execute_result"
    },
    {
     "data": {
      "image/png": "[encoded data removed]",
      "text/plain": [
       "<Figure size 432x288 with 1 Axes>"
      ]
     },
     "metadata": {
      "needs_background": "light"
     },
     "output_type": "display_data"
    }
   ],
   "source": [
    "data.stack().value_counts().apply(lambda x: x / data.shape[0])[:20].plot(kind='bar')"
   ]
  },
  {
   "cell_type": "code",
   "execution_count": 23,
   "id": "598262cf",
   "metadata": {},
   "outputs": [
    {
     "data": {
      "text/plain": [
       "<AxesSubplot: >"
      ]
     },
     "execution_count": 23,
     "metadata": {},
     "output_type": "execute_result"
    },
    {
     "data": {
      "image/png": "[encoded data removed]",
      "text/plain": [
       "<Figure size 432x288 with 1 Axes>"
      ]
     },
     "metadata": {
      "needs_background": "light"
     },
     "output_type": "display_data"
    }
   ],
   "source": [
    "data.stack().value_counts(normalize=True).apply(lambda x: x / data.shape[0])[:20].plot(kind='bar')"
   ]
  },
  {
   "cell_type": "code",
   "execution_count": 24,
   "id": "1952e35c",
   "metadata": {},
   "outputs": [
    {
     "data": {
      "text/plain": [
       "['Scandinavian', 'Scandinavian']"
      ]
     },
     "execution_count": 24,
     "metadata": {},
     "output_type": "execute_result"
    }
   ],
   "source": [
    "transactions = []\n",
    "for i in range(data.shape[0]):\n",
    "    row = data.iloc[i].dropna().tolist()\n",
    "    transactions.append(row)\n",
    "\n",
    "transactions[0]"
   ]
  },
  {
   "cell_type": "code",
   "execution_count": 25,
   "id": "d1915726",
   "metadata": {},
   "outputs": [],
   "source": [
    "from apriori_python import apriori\n",
    "\n",
    "t = []\n",
    "start = time.perf_counter()\n",
    "t1, rules = apriori(transactions, minSup=0.02, minConf=0.5)\n",
    "t1 = time.perf_counter()-start\n",
    "t.append(t1)"
   ]
  },
  {
   "cell_type": "code",
   "execution_count": 26,
   "id": "9d876f64",
   "metadata": {},
   "outputs": [
    {
     "data": {
      "text/plain": [
       "[[{'Hot chocolate'}, {'Coffee'}, 0.5072463768115942],\n",
       " [{'Cookies'}, {'Coffee'}, 0.5184466019417475],\n",
       " [{'Cake'}, {'Coffee'}, 0.5269582909460834],\n",
       " [{'Sandwich'}, {'Coffee'}, 0.5323529411764706],\n",
       " [{'Juice'}, {'Coffee'}, 0.5342465753424658],\n",
       " [{'Pastry'}, {'Coffee'}, 0.5521472392638037],\n",
       " [{'Medialuna'}, {'Coffee'}, 0.5692307692307692],\n",
       " [{'Toast'}, {'Coffee'}, 0.7044025157232704]]"
      ]
     },
     "execution_count": 26,
     "metadata": {},
     "output_type": "execute_result"
    }
   ],
   "source": [
    "rules"
   ]
  },
  {
   "cell_type": "code",
   "execution_count": 27,
   "id": "f3e8c39e",
   "metadata": {},
   "outputs": [],
   "source": [
    "from apyori import apriori\n",
    "\n",
    "start = time.perf_counter()\n",
    "rules = apriori(transactions=transactions,\n",
    "               min_support=0.02,\n",
    "               min_confidence=0.5,\n",
    "               min_lift=1.001)\n",
    "\n",
    "results = list(rules)\n",
    "t2 = time.perf_counter() - start\n",
    "t.append(t2)"
   ]
  },
  {
   "cell_type": "code",
   "execution_count": 28,
   "id": "21de47e9",
   "metadata": {},
   "outputs": [
    {
     "data": {
      "text/plain": [
       "[RelationRecord(items=frozenset({'Cake', 'Coffee'}), support=0.05435466946484785, ordered_statistics=[OrderedStatistic(items_base=frozenset({'Cake'}), items_add=frozenset({'Coffee'}), confidence=0.5269582909460834, lift=1.109079618532724)]),\n",
       " RelationRecord(items=frozenset({'Cookies', 'Coffee'}), support=0.02801678908709339, ordered_statistics=[OrderedStatistic(items_base=frozenset({'Cookies'}), items_add=frozenset({'Coffee'}), confidence=0.5184466019417475, lift=1.0911652200761603)]),\n",
       " RelationRecord(items=frozenset({'Hot chocolate', 'Coffee'}), support=0.02938090241343127, ordered_statistics=[OrderedStatistic(items_base=frozenset({'Hot chocolate'}), items_add=frozenset({'Coffee'}), confidence=0.5072463768115942, lift=1.0675923080862397)]),\n",
       " RelationRecord(items=frozenset({'Juice', 'Coffee'}), support=0.020461699895068207, ordered_statistics=[OrderedStatistic(items_base=frozenset({'Juice'}), items_add=frozenset({'Coffee'}), confidence=0.5342465753424658, lift=1.124419139358149)]),\n",
       " RelationRecord(items=frozenset({'Coffee', 'Medialuna'}), support=0.034942287513116475, ordered_statistics=[OrderedStatistic(items_base=frozenset({'Medialuna'}), items_add=frozenset({'Coffee'}), confidence=0.5692307692307693, lift=1.1980497417776572)]),\n",
       " RelationRecord(items=frozenset({'Pastry', 'Coffee'}), support=0.0472193074501574, ordered_statistics=[OrderedStatistic(items_base=frozenset({'Pastry'}), items_add=frozenset({'Coffee'}), confidence=0.5521472392638037, lift=1.162094344121919)]),\n",
       " RelationRecord(items=frozenset({'Sandwich', 'Coffee'}), support=0.037985309548793283, ordered_statistics=[OrderedStatistic(items_base=frozenset({'Sandwich'}), items_add=frozenset({'Coffee'}), confidence=0.5323529411764706, lift=1.1204336416545417)]),\n",
       " RelationRecord(items=frozenset({'Coffee', 'Toast'}), support=0.023504721930745015, ordered_statistics=[OrderedStatistic(items_base=frozenset({'Toast'}), items_add=frozenset({'Coffee'}), confidence=0.7044025157232705, lift=1.4825432806631553)])]"
      ]
     },
     "execution_count": 28,
     "metadata": {},
     "output_type": "execute_result"
    }
   ],
   "source": [
    "results"
   ]
  },
  {
   "cell_type": "code",
   "execution_count": 29,
   "id": "1cb1a04f",
   "metadata": {},
   "outputs": [
    {
     "name": "stdout",
     "output_type": "stream",
     "text": [
      "frozenset({'Cake'}) frozenset({'Coffee'})\n",
      "Support: 0.05435466946484785, Confidence: 0.5269582909460834, Lift: 1.109079618532724\n",
      "\n",
      "frozenset({'Cookies'}) frozenset({'Coffee'})\n",
      "Support: 0.02801678908709339, Confidence: 0.5184466019417475, Lift: 1.0911652200761603\n",
      "\n",
      "frozenset({'Hot chocolate'}) frozenset({'Coffee'})\n",
      "Support: 0.02938090241343127, Confidence: 0.5072463768115942, Lift: 1.0675923080862397\n",
      "\n",
      "frozenset({'Juice'}) frozenset({'Coffee'})\n",
      "Support: 0.020461699895068207, Confidence: 0.5342465753424658, Lift: 1.124419139358149\n",
      "\n",
      "frozenset({'Medialuna'}) frozenset({'Coffee'})\n",
      "Support: 0.034942287513116475, Confidence: 0.5692307692307693, Lift: 1.1980497417776572\n",
      "\n",
      "frozenset({'Pastry'}) frozenset({'Coffee'})\n",
      "Support: 0.0472193074501574, Confidence: 0.5521472392638037, Lift: 1.162094344121919\n",
      "\n",
      "frozenset({'Sandwich'}) frozenset({'Coffee'})\n",
      "Support: 0.037985309548793283, Confidence: 0.5323529411764706, Lift: 1.1204336416545417\n",
      "\n",
      "frozenset({'Toast'}) frozenset({'Coffee'})\n",
      "Support: 0.023504721930745015, Confidence: 0.7044025157232705, Lift: 1.4825432806631553\n",
      "\n"
     ]
    }
   ],
   "source": [
    "for result in results:\n",
    "    for subset in result[2]:\n",
    "        print(subset[0], subset[1])\n",
    "        print(f'Support: {result[1]}, Confidence: {subset[2]}, Lift: {subset[3]}')\n",
    "        print()"
   ]
  },
  {
   "cell_type": "code",
   "execution_count": 30,
   "id": "e03103bb",
   "metadata": {},
   "outputs": [
    {
     "name": "stdout",
     "output_type": "stream",
     "text": [
      "{Cake} -> {Coffee} (conf: 0.527, supp: 0.054, lift: 1.109, conv: 1.110)\n",
      "{Cookies} -> {Coffee} (conf: 0.518, supp: 0.028, lift: 1.091, conv: 1.090)\n",
      "{Hot chocolate} -> {Coffee} (conf: 0.507, supp: 0.029, lift: 1.068, conv: 1.065)\n",
      "{Juice} -> {Coffee} (conf: 0.534, supp: 0.020, lift: 1.124, conv: 1.127)\n",
      "{Medialuna} -> {Coffee} (conf: 0.569, supp: 0.035, lift: 1.198, conv: 1.218)\n",
      "{Pastry} -> {Coffee} (conf: 0.552, supp: 0.047, lift: 1.162, conv: 1.172)\n",
      "{Sandwich} -> {Coffee} (conf: 0.532, supp: 0.038, lift: 1.120, conv: 1.122)\n",
      "{Toast} -> {Coffee} (conf: 0.704, supp: 0.024, lift: 1.483, conv: 1.776)\n"
     ]
    }
   ],
   "source": [
    "from efficient_apriori import apriori\n",
    "\n",
    "start = time.perf_counter()\n",
    "itemsets, rules = apriori(transactions, min_support=0.02, min_confidence=0.5)\n",
    "t3 = time.perf_counter() - start\n",
    "t.append(t3)\n",
    "\n",
    "for i in range(len(rules)):\n",
    "    print(rules[i])"
   ]
  },
  {
   "cell_type": "code",
   "execution_count": 31,
   "id": "f8a2ba83",
   "metadata": {},
   "outputs": [
    {
     "name": "stdout",
     "output_type": "stream",
     "text": [
      "[{'Toast'}, {'Coffee'}, 0.7044025157232704]\n",
      "[{'Scone'}, {'Coffee'}, 0.5229357798165137]\n",
      "[{'Juice'}, {'Coffee'}, 0.5342465753424658]\n",
      "[{'Alfajores'}, {'Coffee'}, 0.5406976744186046]\n",
      "[{'Cookies'}, {'Coffee'}, 0.5184466019417475]\n",
      "[{'Hot chocolate'}, {'Coffee'}, 0.5072463768115942]\n",
      "[{'Medialuna'}, {'Coffee'}, 0.5692307692307692]\n",
      "[{'Sandwich'}, {'Coffee'}, 0.5323529411764706]\n",
      "[{'Pastry'}, {'Coffee'}, 0.5521472392638037]\n",
      "[{'Cake'}, {'Coffee'}, 0.5269582909460834]\n",
      "[{'Cake'}, {'Coffee'}, 0.5269582909460834]\n"
     ]
    }
   ],
   "source": [
    "from fpgrowth_py import fpgrowth\n",
    "\n",
    "start = time.perf_counter()\n",
    "itemsets, rules = fpgrowth(transactions, minSupRatio=0.02, minConf=0.5)\n",
    "t4 = time.perf_counter() - start\n",
    "t.append(t4)\n",
    "\n",
    "for i in range(len(rules)):\n",
    "    print(rules[i])"
   ]
  },
  {
   "cell_type": "code",
   "execution_count": 32,
   "id": "19e1d748",
   "metadata": {},
   "outputs": [
    {
     "name": "stdout",
     "output_type": "stream",
     "text": [
      "apriori_python: 0.4894012000004295\n",
      "apyori: 0.008538699999917299\n",
      "efficient_apriori: 0.0075626999969244935\n",
      "fpgrowth_py: 0.25517089999630116\n"
     ]
    },
    {
     "data": {
      "text/plain": [
       "<BarContainer object of 4 artists>"
      ]
     },
     "execution_count": 32,
     "metadata": {},
     "output_type": "execute_result"
    },
    {
     "data": {
      "image/png": "[encoded data removed]",
      "text/plain": [
       "<Figure size 432x288 with 1 Axes>"
      ]
     },
     "metadata": {
      "needs_background": "light"
     },
     "output_type": "display_data"
    }
   ],
   "source": [
    "print(f'apriori_python: {t[0]}')\n",
    "print(f'apyori: {t[1]}')\n",
    "print(f'efficient_apriori: {t[2]}')\n",
    "print(f'fpgrowth_py: {t[3]}')\n",
    "plt.bar(['apriori', 'apriori 2', 'efficient_apriori', 'fpgrowth'], t)"
   ]
  },
  {
   "cell_type": "code",
   "execution_count": null,
   "id": "d9269b1d",
   "metadata": {},
   "outputs": [],
   "source": []
  }
 ],
 "metadata": {
  "kernelspec": {
   "display_name": "Python 3 (ipykernel)",
   "language": "python",
   "name": "python3"
  },
  "language_info": {
   "codemirror_mode": {
    "name": "ipython",
    "version": 3
   },
   "file_extension": ".py",
   "mimetype": "text/x-python",
   "name": "python",
   "nbconvert_exporter": "python",
   "pygments_lexer": "ipython3",
   "version": "3.10.4"
  }
 },
 "nbformat": 4,
 "nbformat_minor": 5
}
