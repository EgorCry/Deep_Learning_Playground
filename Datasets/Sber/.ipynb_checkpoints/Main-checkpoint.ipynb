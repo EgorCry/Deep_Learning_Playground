{
 "cells": [
  {
   "cell_type": "code",
   "execution_count": 1,
   "id": "92cb96b3",
   "metadata": {},
   "outputs": [],
   "source": [
    "import pandas as pd\n",
    "import numpy as np\n",
    "import matplotlib.pyplot as plt\n",
    "%matplotlib inline"
   ]
  },
  {
   "cell_type": "code",
   "execution_count": 106,
   "id": "e7ed8e41",
   "metadata": {},
   "outputs": [],
   "source": [
    "file = pd.read_csv('DS_Sber.csv')"
   ]
  },
  {
   "cell_type": "code",
   "execution_count": 107,
   "id": "7cc57e89",
   "metadata": {},
   "outputs": [
    {
     "data": {
      "text/html": [
       "<div>\n",
       "<style scoped>\n",
       "    .dataframe tbody tr th:only-of-type {\n",
       "        vertical-align: middle;\n",
       "    }\n",
       "\n",
       "    .dataframe tbody tr th {\n",
       "        vertical-align: top;\n",
       "    }\n",
       "\n",
       "    .dataframe thead th {\n",
       "        text-align: right;\n",
       "    }\n",
       "</style>\n",
       "<table border=\"1\" class=\"dataframe\">\n",
       "  <thead>\n",
       "    <tr style=\"text-align: right;\">\n",
       "      <th></th>\n",
       "      <th>REPORTDATE;VALUE</th>\n",
       "    </tr>\n",
       "  </thead>\n",
       "  <tbody>\n",
       "    <tr>\n",
       "      <th>0</th>\n",
       "      <td>30.12.2013;3457625638</td>\n",
       "    </tr>\n",
       "    <tr>\n",
       "      <th>1</th>\n",
       "      <td>31.12.2013;3417092149</td>\n",
       "    </tr>\n",
       "    <tr>\n",
       "      <th>2</th>\n",
       "      <td>01.01.2014;3417092149</td>\n",
       "    </tr>\n",
       "    <tr>\n",
       "      <th>3</th>\n",
       "      <td>02.01.2014;3417092149</td>\n",
       "    </tr>\n",
       "    <tr>\n",
       "      <th>4</th>\n",
       "      <td>03.01.2014;3417092149</td>\n",
       "    </tr>\n",
       "    <tr>\n",
       "      <th>...</th>\n",
       "      <td>...</td>\n",
       "    </tr>\n",
       "    <tr>\n",
       "      <th>2106</th>\n",
       "      <td>06.10.2019;64630140507</td>\n",
       "    </tr>\n",
       "    <tr>\n",
       "      <th>2107</th>\n",
       "      <td>07.10.2019;66115288637</td>\n",
       "    </tr>\n",
       "    <tr>\n",
       "      <th>2108</th>\n",
       "      <td>08.10.2019;68424049766</td>\n",
       "    </tr>\n",
       "    <tr>\n",
       "      <th>2109</th>\n",
       "      <td>09.10.2019;72492897583</td>\n",
       "    </tr>\n",
       "    <tr>\n",
       "      <th>2110</th>\n",
       "      <td>10.10.2019;72307860851</td>\n",
       "    </tr>\n",
       "  </tbody>\n",
       "</table>\n",
       "<p>2111 rows × 1 columns</p>\n",
       "</div>"
      ],
      "text/plain": [
       "            REPORTDATE;VALUE\n",
       "0      30.12.2013;3457625638\n",
       "1      31.12.2013;3417092149\n",
       "2      01.01.2014;3417092149\n",
       "3      02.01.2014;3417092149\n",
       "4      03.01.2014;3417092149\n",
       "...                      ...\n",
       "2106  06.10.2019;64630140507\n",
       "2107  07.10.2019;66115288637\n",
       "2108  08.10.2019;68424049766\n",
       "2109  09.10.2019;72492897583\n",
       "2110  10.10.2019;72307860851\n",
       "\n",
       "[2111 rows x 1 columns]"
      ]
     },
     "execution_count": 107,
     "metadata": {},
     "output_type": "execute_result"
    }
   ],
   "source": [
    "file"
   ]
  },
  {
   "cell_type": "code",
   "execution_count": 66,
   "id": "d69e81cf",
   "metadata": {},
   "outputs": [
    {
     "name": "stdout",
     "output_type": "stream",
     "text": [
      "<class 'pandas.core.frame.DataFrame'>\n",
      "RangeIndex: 2111 entries, 0 to 2110\n",
      "Data columns (total 1 columns):\n",
      " #   Column            Non-Null Count  Dtype \n",
      "---  ------            --------------  ----- \n",
      " 0   REPORTDATE;VALUE  2111 non-null   object\n",
      "dtypes: object(1)\n",
      "memory usage: 16.6+ KB\n"
     ]
    }
   ],
   "source": [
    "file.info()"
   ]
  },
  {
   "cell_type": "code",
   "execution_count": 108,
   "id": "8f119d08",
   "metadata": {},
   "outputs": [],
   "source": [
    "temp = file['REPORTDATE;VALUE'].str[:10]\n",
    "file['REPORTDATE'] = temp.str[3:5] + '/' + temp.str[:2] + '/' + temp.str[6:]\n",
    "file['REPORTDATE'] = pd.to_datetime(file['REPORTDATE'])\n",
    "file['VALUE'] = file['REPORTDATE;VALUE'].str[11:]\n",
    "file['VALUE'] = pd.to_numeric(file['VALUE'])\n",
    "file = file.drop(['REPORTDATE;VALUE'], axis=1)"
   ]
  },
  {
   "cell_type": "code",
   "execution_count": 109,
   "id": "84e0b016",
   "metadata": {},
   "outputs": [
    {
     "data": {
      "text/html": [
       "<div>\n",
       "<style scoped>\n",
       "    .dataframe tbody tr th:only-of-type {\n",
       "        vertical-align: middle;\n",
       "    }\n",
       "\n",
       "    .dataframe tbody tr th {\n",
       "        vertical-align: top;\n",
       "    }\n",
       "\n",
       "    .dataframe thead th {\n",
       "        text-align: right;\n",
       "    }\n",
       "</style>\n",
       "<table border=\"1\" class=\"dataframe\">\n",
       "  <thead>\n",
       "    <tr style=\"text-align: right;\">\n",
       "      <th></th>\n",
       "      <th>REPORTDATE</th>\n",
       "      <th>VALUE</th>\n",
       "    </tr>\n",
       "  </thead>\n",
       "  <tbody>\n",
       "    <tr>\n",
       "      <th>0</th>\n",
       "      <td>2013-12-30</td>\n",
       "      <td>3457625638</td>\n",
       "    </tr>\n",
       "    <tr>\n",
       "      <th>1</th>\n",
       "      <td>2013-12-31</td>\n",
       "      <td>3417092149</td>\n",
       "    </tr>\n",
       "    <tr>\n",
       "      <th>2</th>\n",
       "      <td>2014-01-01</td>\n",
       "      <td>3417092149</td>\n",
       "    </tr>\n",
       "    <tr>\n",
       "      <th>3</th>\n",
       "      <td>2014-01-02</td>\n",
       "      <td>3417092149</td>\n",
       "    </tr>\n",
       "    <tr>\n",
       "      <th>4</th>\n",
       "      <td>2014-01-03</td>\n",
       "      <td>3417092149</td>\n",
       "    </tr>\n",
       "    <tr>\n",
       "      <th>...</th>\n",
       "      <td>...</td>\n",
       "      <td>...</td>\n",
       "    </tr>\n",
       "    <tr>\n",
       "      <th>2106</th>\n",
       "      <td>2019-10-06</td>\n",
       "      <td>64630140507</td>\n",
       "    </tr>\n",
       "    <tr>\n",
       "      <th>2107</th>\n",
       "      <td>2019-10-07</td>\n",
       "      <td>66115288637</td>\n",
       "    </tr>\n",
       "    <tr>\n",
       "      <th>2108</th>\n",
       "      <td>2019-10-08</td>\n",
       "      <td>68424049766</td>\n",
       "    </tr>\n",
       "    <tr>\n",
       "      <th>2109</th>\n",
       "      <td>2019-10-09</td>\n",
       "      <td>72492897583</td>\n",
       "    </tr>\n",
       "    <tr>\n",
       "      <th>2110</th>\n",
       "      <td>2019-10-10</td>\n",
       "      <td>72307860851</td>\n",
       "    </tr>\n",
       "  </tbody>\n",
       "</table>\n",
       "<p>2111 rows × 2 columns</p>\n",
       "</div>"
      ],
      "text/plain": [
       "     REPORTDATE        VALUE\n",
       "0    2013-12-30   3457625638\n",
       "1    2013-12-31   3417092149\n",
       "2    2014-01-01   3417092149\n",
       "3    2014-01-02   3417092149\n",
       "4    2014-01-03   3417092149\n",
       "...         ...          ...\n",
       "2106 2019-10-06  64630140507\n",
       "2107 2019-10-07  66115288637\n",
       "2108 2019-10-08  68424049766\n",
       "2109 2019-10-09  72492897583\n",
       "2110 2019-10-10  72307860851\n",
       "\n",
       "[2111 rows x 2 columns]"
      ]
     },
     "execution_count": 109,
     "metadata": {},
     "output_type": "execute_result"
    }
   ],
   "source": [
    "file"
   ]
  },
  {
   "cell_type": "code",
   "execution_count": 69,
   "id": "7ce7e257",
   "metadata": {},
   "outputs": [
    {
     "name": "stdout",
     "output_type": "stream",
     "text": [
      "<class 'pandas.core.frame.DataFrame'>\n",
      "RangeIndex: 2111 entries, 0 to 2110\n",
      "Data columns (total 2 columns):\n",
      " #   Column      Non-Null Count  Dtype         \n",
      "---  ------      --------------  -----         \n",
      " 0   REPORTDATE  2111 non-null   datetime64[ns]\n",
      " 1   VALUE       2111 non-null   int64         \n",
      "dtypes: datetime64[ns](1), int64(1)\n",
      "memory usage: 33.1 KB\n"
     ]
    }
   ],
   "source": [
    "file.info()"
   ]
  },
  {
   "cell_type": "code",
   "execution_count": 70,
   "id": "752fe8df",
   "metadata": {
    "scrolled": false
   },
   "outputs": [
    {
     "data": {
      "image/png": "[encoded data removed]",
      "text/plain": [
       "<Figure size 1080x576 with 1 Axes>"
      ]
     },
     "metadata": {
      "needs_background": "light"
     },
     "output_type": "display_data"
    }
   ],
   "source": [
    "y = file['VALUE']\n",
    "x = file['REPORTDATE']\n",
    "fig, ax = plt.subplots(figsize=(15, 8))\n",
    "ax.plot(x, y)\n",
    "plt.show()"
   ]
  },
  {
   "cell_type": "code",
   "execution_count": 160,
   "id": "c17224ea",
   "metadata": {},
   "outputs": [
    {
     "data": {
      "text/plain": [
       "array([[ 3457625638],\n",
       "       [ 3417092149],\n",
       "       [ 3417092149],\n",
       "       ...,\n",
       "       [68424049766],\n",
       "       [72492897583],\n",
       "       [72307860851]], dtype=int64)"
      ]
     },
     "execution_count": 160,
     "metadata": {},
     "output_type": "execute_result"
    }
   ],
   "source": [
    "sber_data = file['VALUE'].values.reshape(-1, 1)\n",
    "sber_data"
   ]
  },
  {
   "cell_type": "code",
   "execution_count": 72,
   "id": "c3223456",
   "metadata": {},
   "outputs": [
    {
     "data": {
      "image/png": "[encoded data removed]",
      "text/plain": [
       "<Figure size 1008x360 with 1 Axes>"
      ]
     },
     "metadata": {
      "needs_background": "light"
     },
     "output_type": "display_data"
    }
   ],
   "source": [
    "plt.figure(figsize=[14, 5])\n",
    "plt.plot(sber_data)\n",
    "plt.show()"
   ]
  },
  {
   "cell_type": "code",
   "execution_count": 73,
   "id": "a09885fa",
   "metadata": {},
   "outputs": [
    {
     "data": {
      "text/plain": [
       "1583"
      ]
     },
     "execution_count": 73,
     "metadata": {},
     "output_type": "execute_result"
    }
   ],
   "source": [
    "train_recs = int(len(sber_data) * 0.75)\n",
    "train_recs"
   ]
  },
  {
   "cell_type": "code",
   "execution_count": 75,
   "id": "101308c5",
   "metadata": {},
   "outputs": [],
   "source": [
    "# train_data = sber_data[:train_recs]\n",
    "train_data = sber_data\n",
    "test_data = sber_data[train_recs:]"
   ]
  },
  {
   "cell_type": "code",
   "execution_count": 76,
   "id": "90dfed25",
   "metadata": {},
   "outputs": [
    {
     "data": {
      "text/plain": [
       "(2111, 528)"
      ]
     },
     "execution_count": 76,
     "metadata": {},
     "output_type": "execute_result"
    }
   ],
   "source": [
    "len(train_data), len(test_data)"
   ]
  },
  {
   "cell_type": "code",
   "execution_count": 77,
   "id": "0261752f",
   "metadata": {},
   "outputs": [
    {
     "data": {
      "text/plain": [
       "array([[0.00233256],\n",
       "       [0.00179173],\n",
       "       [0.00179173],\n",
       "       ...,\n",
       "       [0.86917812],\n",
       "       [0.92346867],\n",
       "       [0.92099973]])"
      ]
     },
     "execution_count": 77,
     "metadata": {},
     "output_type": "execute_result"
    }
   ],
   "source": [
    "from sklearn.preprocessing import MinMaxScaler\n",
    "scaler = MinMaxScaler()\n",
    "train_scaled = scaler.fit_transform(train_data)\n",
    "test_scaled = scaler.transform(test_data)\n",
    "train_scaled"
   ]
  },
  {
   "cell_type": "code",
   "execution_count": 201,
   "id": "6ca8707a",
   "metadata": {},
   "outputs": [],
   "source": [
    "look_back = 30\n",
    "\n",
    "def get_lookback(inp, look_back):\n",
    "    y = pd.DataFrame(inp)\n",
    "    x = [y.shift(i) for i in range(1, look_back + 1)]\n",
    "    dataX = pd.concat(x, axis=1)\n",
    "    dataX.fillna(0, inplace=True)\n",
    "    return dataX.values, y.values"
   ]
  },
  {
   "cell_type": "code",
   "execution_count": 202,
   "id": "b5838429",
   "metadata": {},
   "outputs": [
    {
     "data": {
      "text/plain": [
       "((2111, 120), (528, 120))"
      ]
     },
     "execution_count": 202,
     "metadata": {},
     "output_type": "execute_result"
    }
   ],
   "source": [
    "trainX, trainY = get_lookback(train_scaled, look_back=look_back)\n",
    "testX, testY = get_lookback(test_scaled, look_back=look_back)\n",
    "trainX.shape, testX.shape"
   ]
  },
  {
   "cell_type": "code",
   "execution_count": 203,
   "id": "1acebb5e",
   "metadata": {},
   "outputs": [],
   "source": [
    "from tensorflow.keras.layers import LSTM, SimpleRNN, Activation, Dropout, Dense, Reshape, Conv1D, GRU\n",
    "from tensorflow.keras.models import Sequential\n",
    "import tensorflow as tf\n",
    "from sklearn.metrics import mean_squared_error"
   ]
  },
  {
   "cell_type": "code",
   "execution_count": 204,
   "id": "8ec0b7bb",
   "metadata": {},
   "outputs": [],
   "source": [
    "model = Sequential(name='SBER_MODEL')\n",
    "model.add(Reshape((look_back, 1), input_shape=(look_back,)))\n",
    "model.add(Conv1D(look_back, look_back // 2, activation='relu'))\n",
    "model.add(SimpleRNN(1024))\n",
    "model.add(Dropout(0.5))\n",
    "model.add(Dense(1, activation='linear'))"
   ]
  },
  {
   "cell_type": "code",
   "execution_count": 205,
   "id": "7a4303ac",
   "metadata": {},
   "outputs": [
    {
     "name": "stdout",
     "output_type": "stream",
     "text": [
      "Model: \"SBER_MODEL\"\n",
      "_________________________________________________________________\n",
      " Layer (type)                Output Shape              Param #   \n",
      "=================================================================\n",
      " reshape_6 (Reshape)         (None, 120, 1)            0         \n",
      "                                                                 \n",
      " conv1d_6 (Conv1D)           (None, 61, 120)           7320      \n",
      "                                                                 \n",
      " simple_rnn_6 (SimpleRNN)    (None, 1024)              1172480   \n",
      "                                                                 \n",
      " dropout_6 (Dropout)         (None, 1024)              0         \n",
      "                                                                 \n",
      " dense_6 (Dense)             (None, 1)                 1025      \n",
      "                                                                 \n",
      "=================================================================\n",
      "Total params: 1,180,825\n",
      "Trainable params: 1,180,825\n",
      "Non-trainable params: 0\n",
      "_________________________________________________________________\n"
     ]
    }
   ],
   "source": [
    "model.summary()"
   ]
  },
  {
   "cell_type": "code",
   "execution_count": 206,
   "id": "9869d071",
   "metadata": {},
   "outputs": [],
   "source": [
    "model.compile(loss='mean_squared_error', optimizer='adam', metrics=['acc'])"
   ]
  },
  {
   "cell_type": "code",
   "execution_count": 207,
   "id": "58583edc",
   "metadata": {},
   "outputs": [
    {
     "name": "stdout",
     "output_type": "stream",
     "text": [
      "Epoch 1/10\n",
      "211/211 [==============================] - 29s 136ms/step - loss: 1.9433 - acc: 0.0000e+00 - val_loss: 0.7172 - val_acc: 0.0000e+00\n",
      "Epoch 2/10\n",
      "211/211 [==============================] - 28s 133ms/step - loss: 1.0470 - acc: 0.0000e+00 - val_loss: 0.4569 - val_acc: 0.0000e+00\n",
      "Epoch 3/10\n",
      "211/211 [==============================] - 28s 134ms/step - loss: 0.6466 - acc: 5.9242e-04 - val_loss: 0.0966 - val_acc: 0.0071\n",
      "Epoch 4/10\n",
      "211/211 [==============================] - 28s 133ms/step - loss: 0.3357 - acc: 5.9242e-04 - val_loss: 0.1334 - val_acc: 0.0000e+00\n",
      "Epoch 5/10\n",
      "211/211 [==============================] - 28s 132ms/step - loss: 0.1825 - acc: 5.9242e-04 - val_loss: 0.0053 - val_acc: 0.0071\n",
      "Epoch 6/10\n",
      "211/211 [==============================] - 28s 132ms/step - loss: 0.0866 - acc: 5.9242e-04 - val_loss: 0.0398 - val_acc: 0.0071\n",
      "Epoch 7/10\n",
      "211/211 [==============================] - 28s 132ms/step - loss: 0.0392 - acc: 5.9242e-04 - val_loss: 0.0211 - val_acc: 0.0071\n",
      "Epoch 8/10\n",
      "211/211 [==============================] - 28s 133ms/step - loss: 0.0180 - acc: 5.9242e-04 - val_loss: 0.0108 - val_acc: 0.0071\n",
      "Epoch 9/10\n",
      "211/211 [==============================] - 28s 133ms/step - loss: 0.0106 - acc: 5.9242e-04 - val_loss: 0.0115 - val_acc: 0.0071\n",
      "Epoch 10/10\n",
      "211/211 [==============================] - 28s 133ms/step - loss: 0.0092 - acc: 5.9242e-04 - val_loss: 0.0224 - val_acc: 0.0071\n"
     ]
    }
   ],
   "source": [
    "history = model.fit(trainX, trainY, epochs=10, validation_split=0.2, batch_size=8, verbose=1)"
   ]
  },
  {
   "cell_type": "code",
   "execution_count": 22,
   "id": "9a18f643",
   "metadata": {},
   "outputs": [],
   "source": [
    "import math"
   ]
  },
  {
   "cell_type": "code",
   "execution_count": 23,
   "id": "642b5225",
   "metadata": {},
   "outputs": [],
   "source": [
    "def act_model_pref(model_obj):\n",
    "    score_train = model_obj.evaluate(trainX, trainY, verbose=0)[0]\n",
    "    print(f'Train RMS: {round(math.sqrt(score_train), 2)} RMS')\n",
    "    score_test = model_obj.evaluate(testX, testY, verbose=0)[0]\n",
    "    print(f'Test RMS: {round(math.sqrt(score_test), 2)} RMS')"
   ]
  },
  {
   "cell_type": "code",
   "execution_count": 208,
   "id": "cc62ea5c",
   "metadata": {},
   "outputs": [
    {
     "name": "stdout",
     "output_type": "stream",
     "text": [
      "Train RMS: 0.08 RMS\n",
      "Test RMS: 0.26 RMS\n"
     ]
    }
   ],
   "source": [
    "act_model_pref(model)"
   ]
  },
  {
   "cell_type": "code",
   "execution_count": 25,
   "id": "d1eba120",
   "metadata": {},
   "outputs": [
    {
     "name": "stdout",
     "output_type": "stream",
     "text": [
      "INFO:tensorflow:Assets written to: Sber_Model\\assets\n"
     ]
    }
   ],
   "source": [
    "model.save('Sber_Model')"
   ]
  },
  {
   "cell_type": "code",
   "execution_count": 86,
   "id": "cb3d79a1",
   "metadata": {},
   "outputs": [],
   "source": [
    "def act_plot_pred(model_obj):\n",
    "    test_pred = scaler.inverse_transform(model_obj.predict(testX))\n",
    "    \n",
    "    pred_test_plot = sber_data.copy()\n",
    "    pred_test_plot[:train_recs+look_back,:] = 0.0\n",
    "    pred_test_plot[train_recs+look_back:, :] = test_pred[look_back:]\n",
    "    \n",
    "    plt.plot(sber_data)\n",
    "    plt.plot(pred_test_plot, '--')"
   ]
  },
  {
   "cell_type": "code",
   "execution_count": 128,
   "id": "40fea797",
   "metadata": {
    "scrolled": true
   },
   "outputs": [
    {
     "ename": "ValueError",
     "evalue": "could not broadcast input array from shape (498,1) into shape (528,1)",
     "output_type": "error",
     "traceback": [
      "\u001b[1;31m---------------------------------------------------------------------------\u001b[0m",
      "\u001b[1;31mValueError\u001b[0m                                Traceback (most recent call last)",
      "Input \u001b[1;32mIn [128]\u001b[0m, in \u001b[0;36m<cell line: 2>\u001b[1;34m()\u001b[0m\n\u001b[0;32m      1\u001b[0m get_ipython()\u001b[38;5;241m.\u001b[39mrun_line_magic(\u001b[38;5;124m'\u001b[39m\u001b[38;5;124mmatplotlib\u001b[39m\u001b[38;5;124m'\u001b[39m, \u001b[38;5;124m'\u001b[39m\u001b[38;5;124mnotebook\u001b[39m\u001b[38;5;124m'\u001b[39m)\n\u001b[1;32m----> 2\u001b[0m \u001b[43mact_plot_pred\u001b[49m\u001b[43m(\u001b[49m\u001b[43mmodel\u001b[49m\u001b[43m)\u001b[49m\n\u001b[0;32m      3\u001b[0m plt\u001b[38;5;241m.\u001b[39mshow()\n",
      "Input \u001b[1;32mIn [86]\u001b[0m, in \u001b[0;36mact_plot_pred\u001b[1;34m(model_obj)\u001b[0m\n\u001b[0;32m      4\u001b[0m pred_test_plot \u001b[38;5;241m=\u001b[39m sber_data\u001b[38;5;241m.\u001b[39mcopy()\n\u001b[0;32m      5\u001b[0m pred_test_plot[:train_recs\u001b[38;5;241m+\u001b[39mlook_back,:] \u001b[38;5;241m=\u001b[39m \u001b[38;5;241m0.0\u001b[39m\n\u001b[1;32m----> 6\u001b[0m pred_test_plot[train_recs\u001b[38;5;241m+\u001b[39mlook_back:, :] \u001b[38;5;241m=\u001b[39m test_pred[look_back:]\n\u001b[0;32m      8\u001b[0m plt\u001b[38;5;241m.\u001b[39mplot(sber_data)\n\u001b[0;32m      9\u001b[0m plt\u001b[38;5;241m.\u001b[39mplot(pred_test_plot, \u001b[38;5;124m'\u001b[39m\u001b[38;5;124m--\u001b[39m\u001b[38;5;124m'\u001b[39m)\n",
      "\u001b[1;31mValueError\u001b[0m: could not broadcast input array from shape (498,1) into shape (528,1)"
     ]
    }
   ],
   "source": [
    "%matplotlib notebook\n",
    "act_plot_pred(model)\n",
    "plt.show()"
   ]
  },
  {
   "cell_type": "code",
   "execution_count": 28,
   "id": "7c66018c",
   "metadata": {
    "scrolled": true
   },
   "outputs": [
    {
     "data": {
      "text/plain": [
       "array([[6.2752527e+09],\n",
       "       [1.7585492e+10],\n",
       "       [2.3423222e+10],\n",
       "       [2.5866609e+10],\n",
       "       [3.6834406e+10],\n",
       "       [4.0615576e+10],\n",
       "       [4.0819941e+10],\n",
       "       [4.0617202e+10],\n",
       "       [4.3185422e+10],\n",
       "       [4.5380522e+10],\n",
       "       [4.6052876e+10],\n",
       "       [4.7107318e+10],\n",
       "       [4.6137061e+10],\n",
       "       [4.7879950e+10],\n",
       "       [4.6510244e+10],\n",
       "       [4.7103824e+10],\n",
       "       [4.6761964e+10],\n",
       "       [4.6797935e+10],\n",
       "       [4.6631703e+10],\n",
       "       [4.6538920e+10],\n",
       "       [4.6508790e+10],\n",
       "       [4.6448165e+10],\n",
       "       [4.6289633e+10],\n",
       "       [4.6249046e+10],\n",
       "       [4.6356791e+10],\n",
       "       [4.6417351e+10],\n",
       "       [4.6652211e+10],\n",
       "       [4.6728651e+10],\n",
       "       [4.6593692e+10],\n",
       "       [4.6556905e+10],\n",
       "       [4.6646706e+10],\n",
       "       [4.6838706e+10],\n",
       "       [4.6968459e+10],\n",
       "       [4.6647816e+10],\n",
       "       [4.6726898e+10],\n",
       "       [4.7038145e+10],\n",
       "       [4.7011422e+10],\n",
       "       [4.7080813e+10],\n",
       "       [4.7112872e+10],\n",
       "       [4.7225459e+10],\n",
       "       [4.7608742e+10],\n",
       "       [4.7636201e+10],\n",
       "       [4.7705657e+10],\n",
       "       [4.7836115e+10],\n",
       "       [4.7827894e+10],\n",
       "       [4.7892902e+10],\n",
       "       [4.8099283e+10],\n",
       "       [4.8133267e+10],\n",
       "       [4.8283316e+10],\n",
       "       [4.8205402e+10],\n",
       "       [4.8164364e+10],\n",
       "       [4.8206770e+10],\n",
       "       [4.8111788e+10],\n",
       "       [4.8000545e+10],\n",
       "       [4.7880704e+10],\n",
       "       [4.7789609e+10],\n",
       "       [4.7723401e+10],\n",
       "       [4.7683539e+10],\n",
       "       [4.7594373e+10],\n",
       "       [4.7614259e+10],\n",
       "       [4.7535174e+10],\n",
       "       [4.7546896e+10],\n",
       "       [4.7678693e+10],\n",
       "       [4.7524418e+10],\n",
       "       [4.7508476e+10],\n",
       "       [4.7534510e+10],\n",
       "       [4.7487001e+10],\n",
       "       [4.7625699e+10],\n",
       "       [4.7585124e+10],\n",
       "       [4.7719023e+10],\n",
       "       [4.7615484e+10],\n",
       "       [4.7793209e+10],\n",
       "       [4.7796322e+10],\n",
       "       [4.8174703e+10],\n",
       "       [4.8107270e+10],\n",
       "       [4.8306000e+10],\n",
       "       [4.8262902e+10],\n",
       "       [4.8318296e+10],\n",
       "       [4.8230392e+10],\n",
       "       [4.8449663e+10],\n",
       "       [4.8382730e+10],\n",
       "       [4.8279990e+10],\n",
       "       [4.8263279e+10],\n",
       "       [4.8324833e+10],\n",
       "       [4.8304587e+10],\n",
       "       [4.8026837e+10],\n",
       "       [4.8010396e+10],\n",
       "       [4.8041030e+10],\n",
       "       [4.7929590e+10],\n",
       "       [4.7746335e+10],\n",
       "       [4.7773786e+10],\n",
       "       [4.7792005e+10],\n",
       "       [4.7739089e+10],\n",
       "       [4.7682306e+10],\n",
       "       [4.7778341e+10],\n",
       "       [4.7692022e+10],\n",
       "       [4.7847719e+10],\n",
       "       [4.7783404e+10],\n",
       "       [4.7758344e+10],\n",
       "       [4.7733064e+10],\n",
       "       [4.7845138e+10],\n",
       "       [4.7965651e+10],\n",
       "       [4.8088465e+10],\n",
       "       [4.8153743e+10],\n",
       "       [4.8240697e+10],\n",
       "       [4.8292573e+10],\n",
       "       [4.8231694e+10],\n",
       "       [4.8348430e+10],\n",
       "       [4.8456126e+10],\n",
       "       [4.8402252e+10],\n",
       "       [4.8262791e+10],\n",
       "       [4.8185053e+10],\n",
       "       [4.8255746e+10],\n",
       "       [4.8256496e+10],\n",
       "       [4.8100372e+10],\n",
       "       [4.7946555e+10],\n",
       "       [4.7821533e+10],\n",
       "       [4.7819190e+10],\n",
       "       [4.7754678e+10],\n",
       "       [4.7659033e+10],\n",
       "       [4.7591080e+10],\n",
       "       [4.7496282e+10],\n",
       "       [4.7462834e+10],\n",
       "       [4.7432294e+10],\n",
       "       [4.7446065e+10],\n",
       "       [4.7504052e+10],\n",
       "       [4.7338041e+10],\n",
       "       [4.7315919e+10],\n",
       "       [4.7276446e+10],\n",
       "       [4.7303438e+10],\n",
       "       [4.7325745e+10],\n",
       "       [4.7332983e+10],\n",
       "       [4.7471731e+10],\n",
       "       [4.7567634e+10],\n",
       "       [4.7559873e+10],\n",
       "       [4.7709536e+10],\n",
       "       [4.7641850e+10],\n",
       "       [4.7965618e+10],\n",
       "       [4.8001933e+10],\n",
       "       [4.7962980e+10],\n",
       "       [4.7973515e+10],\n",
       "       [4.8031470e+10],\n",
       "       [4.8219099e+10],\n",
       "       [4.8043540e+10],\n",
       "       [4.7826964e+10],\n",
       "       [4.7824269e+10],\n",
       "       [4.7963918e+10],\n",
       "       [4.7775486e+10],\n",
       "       [4.7646110e+10],\n",
       "       [4.7569900e+10],\n",
       "       [4.7537005e+10],\n",
       "       [4.7488831e+10],\n",
       "       [4.7405609e+10],\n",
       "       [4.7435350e+10],\n",
       "       [4.7475913e+10],\n",
       "       [4.7390753e+10],\n",
       "       [4.7385309e+10],\n",
       "       [4.7435567e+10],\n",
       "       [4.7550005e+10],\n",
       "       [4.7606194e+10],\n",
       "       [4.7688159e+10],\n",
       "       [4.7739433e+10],\n",
       "       [4.7858815e+10],\n",
       "       [4.7865750e+10],\n",
       "       [4.8045765e+10],\n",
       "       [4.8129888e+10],\n",
       "       [4.8411820e+10],\n",
       "       [4.8303960e+10],\n",
       "       [4.8633094e+10],\n",
       "       [4.8529195e+10],\n",
       "       [4.8714646e+10],\n",
       "       [4.8407155e+10],\n",
       "       [4.8528409e+10],\n",
       "       [4.8728699e+10],\n",
       "       [4.8789553e+10],\n",
       "       [4.8727634e+10],\n",
       "       [4.8532181e+10],\n",
       "       [4.8535929e+10],\n",
       "       [4.8426369e+10],\n",
       "       [4.8453612e+10],\n",
       "       [4.8405352e+10],\n",
       "       [4.8459178e+10],\n",
       "       [4.8335335e+10],\n",
       "       [4.8314999e+10],\n",
       "       [4.8336564e+10],\n",
       "       [4.8347410e+10],\n",
       "       [4.8389927e+10],\n",
       "       [4.8370827e+10],\n",
       "       [4.8474993e+10],\n",
       "       [4.8522187e+10],\n",
       "       [4.8335262e+10],\n",
       "       [4.8546824e+10],\n",
       "       [4.8510018e+10],\n",
       "       [4.8685371e+10],\n",
       "       [4.8894153e+10],\n",
       "       [4.8929944e+10],\n",
       "       [4.9117393e+10],\n",
       "       [4.9070092e+10],\n",
       "       [4.9183359e+10],\n",
       "       [4.9176150e+10],\n",
       "       [4.9219903e+10],\n",
       "       [4.9298649e+10],\n",
       "       [4.9280504e+10],\n",
       "       [4.9248018e+10],\n",
       "       [4.9166062e+10],\n",
       "       [4.9236509e+10],\n",
       "       [4.9066078e+10],\n",
       "       [4.8924373e+10],\n",
       "       [4.8842805e+10],\n",
       "       [4.8942629e+10],\n",
       "       [4.8889184e+10],\n",
       "       [4.8636994e+10],\n",
       "       [4.8557101e+10],\n",
       "       [4.8516452e+10],\n",
       "       [4.8536687e+10],\n",
       "       [4.8539943e+10],\n",
       "       [4.8574661e+10],\n",
       "       [4.8616063e+10],\n",
       "       [4.8495501e+10],\n",
       "       [4.8414671e+10],\n",
       "       [4.8445030e+10],\n",
       "       [4.8523702e+10],\n",
       "       [4.8586301e+10],\n",
       "       [4.8639812e+10],\n",
       "       [4.8786473e+10],\n",
       "       [4.8826724e+10],\n",
       "       [4.8996999e+10],\n",
       "       [4.8977936e+10],\n",
       "       [4.9391784e+10],\n",
       "       [4.9398583e+10],\n",
       "       [4.9483829e+10],\n",
       "       [4.9548210e+10],\n",
       "       [4.9746682e+10],\n",
       "       [4.9919791e+10],\n",
       "       [4.9749127e+10],\n",
       "       [4.9737990e+10],\n",
       "       [4.9610265e+10],\n",
       "       [4.9597334e+10],\n",
       "       [4.9514795e+10],\n",
       "       [4.9632719e+10],\n",
       "       [4.9611293e+10],\n",
       "       [4.9469362e+10],\n",
       "       [4.9444409e+10],\n",
       "       [4.9609372e+10],\n",
       "       [4.9679696e+10],\n",
       "       [4.9609273e+10],\n",
       "       [4.9719693e+10],\n",
       "       [4.9639801e+10],\n",
       "       [4.9715474e+10],\n",
       "       [4.9696944e+10],\n",
       "       [4.9924559e+10],\n",
       "       [4.9790685e+10],\n",
       "       [4.9991631e+10],\n",
       "       [4.9853297e+10],\n",
       "       [4.9973502e+10],\n",
       "       [4.9955156e+10],\n",
       "       [4.9934451e+10],\n",
       "       [4.9961943e+10],\n",
       "       [4.9922294e+10],\n",
       "       [5.0187543e+10],\n",
       "       [4.9866977e+10],\n",
       "       [4.9835872e+10],\n",
       "       [4.9583346e+10],\n",
       "       [4.9565684e+10],\n",
       "       [4.9738912e+10],\n",
       "       [4.9797071e+10],\n",
       "       [4.9682096e+10],\n",
       "       [4.9506771e+10],\n",
       "       [4.9441305e+10],\n",
       "       [4.9273823e+10],\n",
       "       [4.9206862e+10],\n",
       "       [4.9091461e+10],\n",
       "       [4.9055085e+10],\n",
       "       [4.8975192e+10],\n",
       "       [4.8797864e+10],\n",
       "       [4.8760590e+10],\n",
       "       [4.8825090e+10],\n",
       "       [4.8859283e+10],\n",
       "       [4.8829039e+10],\n",
       "       [4.8853381e+10],\n",
       "       [4.9060413e+10],\n",
       "       [4.9093976e+10],\n",
       "       [4.9019113e+10],\n",
       "       [4.9035018e+10],\n",
       "       [4.9123893e+10],\n",
       "       [4.9335529e+10],\n",
       "       [4.9385951e+10],\n",
       "       [4.9671623e+10],\n",
       "       [4.9694876e+10],\n",
       "       [4.9914274e+10],\n",
       "       [4.9755161e+10],\n",
       "       [4.9909821e+10],\n",
       "       [4.9942045e+10],\n",
       "       [4.9858535e+10],\n",
       "       [4.9934279e+10],\n",
       "       [4.9977938e+10],\n",
       "       [4.9998320e+10],\n",
       "       [4.9868333e+10],\n",
       "       [4.9807749e+10],\n",
       "       [4.9730511e+10],\n",
       "       [4.9599021e+10],\n",
       "       [4.9660404e+10],\n",
       "       [4.9647809e+10],\n",
       "       [4.9468543e+10],\n",
       "       [4.9348280e+10],\n",
       "       [4.9342202e+10],\n",
       "       [4.9482744e+10],\n",
       "       [4.9493987e+10],\n",
       "       [4.9445970e+10],\n",
       "       [4.9455133e+10],\n",
       "       [4.9357697e+10],\n",
       "       [4.9377509e+10],\n",
       "       [4.9650811e+10],\n",
       "       [4.9590243e+10],\n",
       "       [5.0014155e+10],\n",
       "       [4.9909879e+10],\n",
       "       [4.9947390e+10],\n",
       "       [4.9876693e+10],\n",
       "       [5.0116088e+10],\n",
       "       [5.0111799e+10],\n",
       "       [5.0195534e+10],\n",
       "       [5.0135966e+10],\n",
       "       [5.0137260e+10],\n",
       "       [5.0165715e+10],\n",
       "       [5.0028835e+10],\n",
       "       [5.0011521e+10],\n",
       "       [4.9941869e+10],\n",
       "       [4.9864917e+10],\n",
       "       [4.9814995e+10],\n",
       "       [4.9858191e+10],\n",
       "       [4.9679983e+10],\n",
       "       [4.9548575e+10],\n",
       "       [4.9525219e+10],\n",
       "       [4.9463456e+10],\n",
       "       [4.9365807e+10],\n",
       "       [4.9439711e+10],\n",
       "       [4.9528779e+10],\n",
       "       [4.9513107e+10],\n",
       "       [4.9347027e+10],\n",
       "       [4.9248207e+10],\n",
       "       [4.9309200e+10],\n",
       "       [4.9408365e+10],\n",
       "       [4.9326096e+10],\n",
       "       [4.9492935e+10],\n",
       "       [4.9465209e+10],\n",
       "       [4.9564979e+10],\n",
       "       [4.9600852e+10],\n",
       "       [4.9882780e+10],\n",
       "       [4.9968214e+10],\n",
       "       [5.0232091e+10],\n",
       "       [5.0197393e+10],\n",
       "       [5.0145391e+10],\n",
       "       [5.0288955e+10],\n",
       "       [5.0218144e+10],\n",
       "       [5.0315395e+10],\n",
       "       [5.0286559e+10],\n",
       "       [5.0265227e+10],\n",
       "       [5.0300576e+10],\n",
       "       [5.0235507e+10],\n",
       "       [5.0043421e+10],\n",
       "       [4.9975878e+10],\n",
       "       [4.9839469e+10],\n",
       "       [4.9760104e+10],\n",
       "       [4.9798164e+10],\n",
       "       [4.9666879e+10],\n",
       "       [4.9572045e+10],\n",
       "       [4.9566454e+10],\n",
       "       [4.9550971e+10],\n",
       "       [4.9549672e+10],\n",
       "       [4.9541480e+10],\n",
       "       [4.9586233e+10],\n",
       "       [4.9577161e+10],\n",
       "       [4.9648697e+10],\n",
       "       [4.9551839e+10],\n",
       "       [4.9807217e+10],\n",
       "       [4.9700954e+10],\n",
       "       [4.9976840e+10],\n",
       "       [4.9982411e+10],\n",
       "       [5.0095919e+10],\n",
       "       [5.0106544e+10],\n",
       "       [5.0199355e+10],\n",
       "       [5.0327237e+10],\n",
       "       [5.0187166e+10],\n",
       "       [5.0203742e+10],\n",
       "       [5.0144899e+10],\n",
       "       [5.0270015e+10],\n",
       "       [5.0090754e+10],\n",
       "       [4.9956311e+10],\n",
       "       [4.9791971e+10],\n",
       "       [4.9748345e+10],\n",
       "       [4.9821987e+10],\n",
       "       [4.9849299e+10],\n",
       "       [4.9754395e+10],\n",
       "       [4.9609785e+10],\n",
       "       [4.9453613e+10],\n",
       "       [4.9420685e+10],\n",
       "       [4.9422623e+10],\n",
       "       [4.9472856e+10],\n",
       "       [4.9587073e+10],\n",
       "       [4.9498587e+10],\n",
       "       [4.9385935e+10],\n",
       "       [4.9544282e+10],\n",
       "       [4.9303171e+10],\n",
       "       [4.9810571e+10],\n",
       "       [4.9421947e+10],\n",
       "       [4.9655886e+10],\n",
       "       [4.9644351e+10],\n",
       "       [4.9893532e+10],\n",
       "       [4.9984360e+10],\n",
       "       [4.9959801e+10],\n",
       "       [5.0221322e+10],\n",
       "       [5.0142978e+10],\n",
       "       [5.0543354e+10],\n",
       "       [5.0103935e+10],\n",
       "       [5.0524738e+10],\n",
       "       [5.0417705e+10],\n",
       "       [5.0265870e+10],\n",
       "       [5.0125623e+10],\n",
       "       [5.0115748e+10],\n",
       "       [5.0223329e+10],\n",
       "       [5.0102673e+10],\n",
       "       [4.9947230e+10],\n",
       "       [4.9899225e+10],\n",
       "       [4.9842905e+10],\n",
       "       [4.9810428e+10],\n",
       "       [4.9683669e+10],\n",
       "       [4.9745326e+10],\n",
       "       [4.9816531e+10],\n",
       "       [4.9695384e+10],\n",
       "       [4.9664791e+10],\n",
       "       [4.9710621e+10],\n",
       "       [4.9706230e+10],\n",
       "       [4.9850774e+10],\n",
       "       [4.9739194e+10],\n",
       "       [4.9963373e+10],\n",
       "       [4.9848721e+10],\n",
       "       [5.0047259e+10],\n",
       "       [4.9959158e+10],\n",
       "       [5.0300731e+10],\n",
       "       [5.0321506e+10],\n",
       "       [5.0516627e+10],\n",
       "       [5.0559468e+10],\n",
       "       [5.0426675e+10],\n",
       "       [5.0537943e+10],\n",
       "       [5.0350076e+10],\n",
       "       [5.0384605e+10],\n",
       "       [5.0432414e+10],\n",
       "       [5.0540159e+10],\n",
       "       [5.0377146e+10],\n",
       "       [5.0253693e+10],\n",
       "       [5.0093036e+10],\n",
       "       [5.0095981e+10],\n",
       "       [4.9991029e+10],\n",
       "       [4.9813393e+10],\n",
       "       [4.9911226e+10],\n",
       "       [4.9874215e+10],\n",
       "       [4.9720766e+10],\n",
       "       [4.9710809e+10],\n",
       "       [4.9726018e+10],\n",
       "       [4.9744314e+10],\n",
       "       [4.9691738e+10],\n",
       "       [4.9732907e+10],\n",
       "       [4.9749635e+10],\n",
       "       [4.9645793e+10],\n",
       "       [4.9693188e+10],\n",
       "       [4.9695785e+10],\n",
       "       [4.9814856e+10],\n",
       "       [5.0005139e+10],\n",
       "       [5.0004480e+10],\n",
       "       [5.0190688e+10],\n",
       "       [5.0230845e+10],\n",
       "       [5.0222023e+10],\n",
       "       [5.0361168e+10],\n",
       "       [5.0270826e+10],\n",
       "       [5.0484711e+10],\n",
       "       [5.0355954e+10],\n",
       "       [5.0557690e+10],\n",
       "       [5.0502267e+10],\n",
       "       [5.0462421e+10],\n",
       "       [5.0164003e+10],\n",
       "       [5.0027065e+10],\n",
       "       [4.9983295e+10],\n",
       "       [5.0011779e+10],\n",
       "       [4.9980432e+10],\n",
       "       [4.9726870e+10],\n",
       "       [4.9669005e+10],\n",
       "       [4.9520407e+10],\n",
       "       [4.9529819e+10],\n",
       "       [4.9537331e+10],\n",
       "       [4.9513423e+10],\n",
       "       [4.9528648e+10],\n",
       "       [4.9339900e+10],\n",
       "       [4.9290334e+10],\n",
       "       [4.9360790e+10],\n",
       "       [4.9340346e+10],\n",
       "       [4.9419448e+10],\n",
       "       [4.9418465e+10],\n",
       "       [4.9637999e+10],\n",
       "       [4.9561379e+10],\n",
       "       [4.9626948e+10],\n",
       "       [4.9778123e+10],\n",
       "       [4.9808437e+10],\n",
       "       [5.0149741e+10],\n",
       "       [5.0018099e+10],\n",
       "       [5.0212692e+10],\n",
       "       [4.9949741e+10],\n",
       "       [5.0158363e+10],\n",
       "       [5.0080592e+10],\n",
       "       [4.9968357e+10],\n",
       "       [4.9891095e+10],\n",
       "       [5.0000646e+10],\n",
       "       [5.0021401e+10],\n",
       "       [4.9695703e+10],\n",
       "       [4.9583292e+10],\n",
       "       [4.9605329e+10],\n",
       "       [4.9500901e+10],\n",
       "       [4.9331483e+10],\n",
       "       [4.9393119e+10],\n",
       "       [4.9488617e+10],\n",
       "       [4.9436303e+10],\n",
       "       [4.9319031e+10],\n",
       "       [4.9367671e+10],\n",
       "       [4.9363620e+10],\n",
       "       [4.9486361e+10],\n",
       "       [4.9383764e+10],\n",
       "       [4.9417654e+10],\n",
       "       [4.9487913e+10],\n",
       "       [4.9527861e+10]], dtype=float32)"
      ]
     },
     "execution_count": 28,
     "metadata": {},
     "output_type": "execute_result"
    }
   ],
   "source": [
    "scaler.inverse_transform(model.predict(testX))"
   ]
  },
  {
   "cell_type": "code",
   "execution_count": 29,
   "id": "ac6d7750",
   "metadata": {},
   "outputs": [
    {
     "data": {
      "image/png": "[encoded data removed]",
      "text/plain": [
       "<Figure size 432x288 with 1 Axes>"
      ]
     },
     "metadata": {
      "needs_background": "light"
     },
     "output_type": "display_data"
    }
   ],
   "source": [
    "%matplotlib inline\n",
    "\n",
    "look_back_1 = 30\n",
    "\n",
    "def get_lookback_1(inp, look_back):\n",
    "    y = pd.DataFrame(inp)\n",
    "    x = [y.shift(i) for i in range(1, look_back + 1)]\n",
    "    dataX = pd.concat(x, axis=1)\n",
    "    dataX.fillna(0, inplace=True)\n",
    "    return dataX.values, y.values\n",
    "\n",
    "testXX = get_lookback_1(scaler.transform(sber_data), look_back_1)\n",
    "\n",
    "test_pred = scaler.inverse_transform(model.predict(testXX[0][:]))\n",
    "\n",
    "plt.plot(test_pred, '--')\n",
    "plt.show()"
   ]
  },
  {
   "cell_type": "code",
   "execution_count": 134,
   "id": "51f3ff02",
   "metadata": {},
   "outputs": [],
   "source": [
    "look_back_2 = 30\n",
    "\n",
    "test_pred = scaler.inverse_transform(model.predict(get_lookback_1(scaler.transform(sber_data), look_back_2)[0])[-30:])\n",
    "\n",
    "sber_data = np.append(sber_data, test_pred).reshape(-1, 1)\n",
    "\n",
    "\n",
    "# for i in range(60):\n",
    "#     test_pred = scaler.inverse_transform(model.predict(get_lookback_1(scaler.transform(sber_data), look_back_2)[0]))[-59+i]\n",
    "    \n",
    "#     sber_data = np.append(sber_data, test_pred).reshape(-1, 1)\n",
    "    \n",
    "#     print(i+1)"
   ]
  },
  {
   "cell_type": "code",
   "execution_count": 139,
   "id": "4cd45f36",
   "metadata": {},
   "outputs": [
    {
     "data": {
      "text/plain": [
       "(2111, 1)"
      ]
     },
     "execution_count": 139,
     "metadata": {},
     "output_type": "execute_result"
    }
   ],
   "source": [
    "sber_data.shape"
   ]
  },
  {
   "cell_type": "code",
   "execution_count": 136,
   "id": "ad651bc5",
   "metadata": {},
   "outputs": [
    {
     "data": {
      "text/plain": [
       "array([[6.37133496e+10],\n",
       "       [6.64174592e+10],\n",
       "       [6.84243395e+10],\n",
       "       [6.83867791e+10],\n",
       "       [6.91511869e+10],\n",
       "       [7.19959900e+10],\n",
       "       [7.42961480e+10],\n",
       "       [7.37893663e+10],\n",
       "       [7.46100081e+10],\n",
       "       [7.60423137e+10]])"
      ]
     },
     "execution_count": 136,
     "metadata": {},
     "output_type": "execute_result"
    }
   ],
   "source": [
    "sber_data[-10:]"
   ]
  },
  {
   "cell_type": "code",
   "execution_count": 209,
   "id": "4f1e685f",
   "metadata": {},
   "outputs": [
    {
     "data": {
      "image/png": "[encoded data removed]",
      "text/plain": [
       "<Figure size 432x288 with 1 Axes>"
      ]
     },
     "metadata": {
      "needs_background": "light"
     },
     "output_type": "display_data"
    }
   ],
   "source": [
    "%matplotlib inline\n",
    "\n",
    "plt.plot(sber_data, '--')\n",
    "plt.show()"
   ]
  },
  {
   "cell_type": "code",
   "execution_count": 166,
   "id": "579ec153",
   "metadata": {},
   "outputs": [
    {
     "data": {
      "image/png": "[encoded data removed]",
      "text/plain": [
       "<Figure size 432x288 with 1 Axes>"
      ]
     },
     "metadata": {
      "needs_background": "light"
     },
     "output_type": "display_data"
    }
   ],
   "source": [
    "%matplotlib inline\n",
    "\n",
    "plt.plot(sber_data, '--')\n",
    "plt.show()"
   ]
  },
  {
   "cell_type": "code",
   "execution_count": 213,
   "id": "cb50f7ee",
   "metadata": {},
   "outputs": [
    {
     "data": {
      "image/png": "[encoded data removed]",
      "text/plain": [
       "<Figure size 432x288 with 1 Axes>"
      ]
     },
     "metadata": {
      "needs_background": "light"
     },
     "output_type": "display_data"
    }
   ],
   "source": [
    "%matplotlib inline\n",
    "\n",
    "plt.plot(np.append(sber_data, prediction).reshape(-1, 1), '--')\n",
    "plt.show()"
   ]
  },
  {
   "cell_type": "code",
   "execution_count": 121,
   "id": "d9d30589",
   "metadata": {},
   "outputs": [
    {
     "data": {
      "text/plain": [
       "array([[7.1589814e+10],\n",
       "       [7.5097956e+10],\n",
       "       [7.5847885e+10],\n",
       "       [7.5472396e+10],\n",
       "       [7.3797255e+10],\n",
       "       [7.3671229e+10],\n",
       "       [6.9380465e+10],\n",
       "       [6.7327238e+10],\n",
       "       [6.5688601e+10],\n",
       "       [6.4961180e+10],\n",
       "       [6.4455401e+10],\n",
       "       [6.3578079e+10],\n",
       "       [6.4213586e+10],\n",
       "       [6.3459930e+10],\n",
       "       [6.2187889e+10],\n",
       "       [6.0003512e+10],\n",
       "       [6.0792189e+10],\n",
       "       [6.1904880e+10],\n",
       "       [6.2012531e+10],\n",
       "       [6.2140883e+10],\n",
       "       [6.2620496e+10],\n",
       "       [6.4422797e+10],\n",
       "       [6.5377030e+10],\n",
       "       [6.5291473e+10],\n",
       "       [6.6755355e+10],\n",
       "       [6.8516508e+10],\n",
       "       [6.7762450e+10],\n",
       "       [6.7879219e+10],\n",
       "       [7.0605685e+10],\n",
       "       [7.3882829e+10]], dtype=float32)"
      ]
     },
     "execution_count": 121,
     "metadata": {},
     "output_type": "execute_result"
    }
   ],
   "source": [
    "scaler.inverse_transform(model.predict(get_lookback_1(scaler.transform(sber_data), look_back_2)[0])[-30:])"
   ]
  },
  {
   "cell_type": "code",
   "execution_count": 161,
   "id": "4a0511b8",
   "metadata": {},
   "outputs": [
    {
     "data": {
      "text/plain": [
       "array([[75448010881],\n",
       "       [74105978838],\n",
       "       [72925242456],\n",
       "       [72925242456],\n",
       "       [72925242456],\n",
       "       [67450164599],\n",
       "       [65343174889],\n",
       "       [64765111798],\n",
       "       [64789505445],\n",
       "       [63202473102],\n",
       "       [63202473102],\n",
       "       [63202473102],\n",
       "       [62665870546],\n",
       "       [60601644954],\n",
       "       [58806294388],\n",
       "       [60453311555],\n",
       "       [61043421719],\n",
       "       [61043421719],\n",
       "       [61043421719],\n",
       "       [61317378665],\n",
       "       [61596050079],\n",
       "       [63591376431],\n",
       "       [63239094079],\n",
       "       [64630140507],\n",
       "       [64630140507],\n",
       "       [64630140507],\n",
       "       [66115288637],\n",
       "       [68424049766],\n",
       "       [72492897583],\n",
       "       [72307860851]], dtype=int64)"
      ]
     },
     "execution_count": 161,
     "metadata": {},
     "output_type": "execute_result"
    }
   ],
   "source": [
    "sber_data[-30:]"
   ]
  },
  {
   "cell_type": "code",
   "execution_count": 142,
   "id": "1bd6f7c2",
   "metadata": {},
   "outputs": [],
   "source": [
    "for i in range(12):\n",
    "    look_back_2 = 30\n",
    "\n",
    "    test_pred = scaler.inverse_transform(model.predict(get_lookback_1(scaler.transform(sber_data), look_back_2)[0])[-30:])\n",
    "\n",
    "    sber_data = np.append(sber_data, test_pred).reshape(-1, 1)"
   ]
  },
  {
   "cell_type": "code",
   "execution_count": 212,
   "id": "7886b4fd",
   "metadata": {},
   "outputs": [
    {
     "data": {
      "text/plain": [
       "array([[5.5803458e+10],\n",
       "       [5.5844028e+10],\n",
       "       [5.5864488e+10],\n",
       "       [5.5883379e+10],\n",
       "       [5.5910978e+10],\n",
       "       [5.5909028e+10],\n",
       "       [5.5883592e+10],\n",
       "       [5.5872475e+10],\n",
       "       [5.5890801e+10],\n",
       "       [5.5899337e+10],\n",
       "       [5.5897465e+10],\n",
       "       [5.5887208e+10],\n",
       "       [5.5865889e+10],\n",
       "       [5.5841980e+10],\n",
       "       [5.5834739e+10],\n",
       "       [5.5849202e+10],\n",
       "       [5.5841616e+10],\n",
       "       [5.5818629e+10],\n",
       "       [5.5821812e+10],\n",
       "       [5.5821070e+10],\n",
       "       [5.5830815e+10],\n",
       "       [5.5879926e+10],\n",
       "       [5.5903736e+10],\n",
       "       [5.5880626e+10],\n",
       "       [5.5860146e+10],\n",
       "       [5.5876997e+10],\n",
       "       [5.5887335e+10],\n",
       "       [5.5903871e+10],\n",
       "       [5.5936074e+10],\n",
       "       [5.5964316e+10],\n",
       "       [5.5994782e+10],\n",
       "       [5.6032469e+10],\n",
       "       [5.6030212e+10],\n",
       "       [5.6022798e+10],\n",
       "       [5.6028639e+10],\n",
       "       [5.6041144e+10],\n",
       "       [5.6038117e+10],\n",
       "       [5.6028766e+10],\n",
       "       [5.5997256e+10],\n",
       "       [5.5970169e+10],\n",
       "       [5.5941599e+10],\n",
       "       [5.5913542e+10],\n",
       "       [5.5907168e+10],\n",
       "       [5.5914263e+10],\n",
       "       [5.5916241e+10],\n",
       "       [5.5900561e+10],\n",
       "       [5.5886008e+10],\n",
       "       [5.5881527e+10],\n",
       "       [5.5883391e+10],\n",
       "       [5.5883158e+10],\n",
       "       [5.5894843e+10],\n",
       "       [5.5896752e+10],\n",
       "       [5.5936897e+10],\n",
       "       [5.5960031e+10],\n",
       "       [5.5981777e+10],\n",
       "       [5.6009511e+10],\n",
       "       [5.6047305e+10],\n",
       "       [5.6058241e+10],\n",
       "       [5.6052040e+10],\n",
       "       [5.6065188e+10],\n",
       "       [5.6068055e+10],\n",
       "       [5.6040837e+10],\n",
       "       [5.6063873e+10],\n",
       "       [5.6086082e+10],\n",
       "       [5.6123961e+10],\n",
       "       [5.6136548e+10],\n",
       "       [5.6126190e+10],\n",
       "       [5.6106897e+10],\n",
       "       [5.6067883e+10],\n",
       "       [5.6056812e+10],\n",
       "       [5.6037376e+10],\n",
       "       [5.6023134e+10],\n",
       "       [5.6016191e+10],\n",
       "       [5.5989592e+10],\n",
       "       [5.5976997e+10],\n",
       "       [5.5977976e+10],\n",
       "       [5.5978152e+10],\n",
       "       [5.5983837e+10],\n",
       "       [5.5999013e+10],\n",
       "       [5.6026870e+10],\n",
       "       [5.6039969e+10],\n",
       "       [5.6072344e+10],\n",
       "       [5.6093331e+10],\n",
       "       [5.6117326e+10],\n",
       "       [5.6143675e+10],\n",
       "       [5.6140677e+10],\n",
       "       [5.6131326e+10],\n",
       "       [5.6143942e+10],\n",
       "       [5.6163701e+10],\n",
       "       [5.6209342e+10],\n",
       "       [5.6236945e+10],\n",
       "       [5.6283685e+10],\n",
       "       [5.6335536e+10],\n",
       "       [5.6370684e+10],\n",
       "       [5.6385597e+10],\n",
       "       [5.6379560e+10],\n",
       "       [5.6369889e+10],\n",
       "       [5.6374907e+10],\n",
       "       [5.6384578e+10],\n",
       "       [5.6390992e+10],\n",
       "       [5.6387899e+10],\n",
       "       [5.6387396e+10],\n",
       "       [5.6355140e+10],\n",
       "       [5.6323101e+10],\n",
       "       [5.6331735e+10],\n",
       "       [5.6341287e+10],\n",
       "       [5.6349635e+10],\n",
       "       [5.6351592e+10],\n",
       "       [5.6352006e+10],\n",
       "       [5.6351044e+10],\n",
       "       [5.6371302e+10],\n",
       "       [5.6396202e+10],\n",
       "       [5.6382996e+10],\n",
       "       [5.6403788e+10],\n",
       "       [5.6408596e+10],\n",
       "       [5.6402633e+10],\n",
       "       [5.6417546e+10],\n",
       "       [5.6435913e+10],\n",
       "       [5.6485777e+10],\n",
       "       [5.6510042e+10]], dtype=float32)"
      ]
     },
     "execution_count": 212,
     "metadata": {},
     "output_type": "execute_result"
    }
   ],
   "source": [
    "test_pred = sber_data[-30:]\n",
    "prediction = scaler.inverse_transform(model.predict(get_lookback_1(scaler.transform(sber_data), look_back_2)[0])[-30:])\n",
    "prediction"
   ]
  },
  {
   "cell_type": "code",
   "execution_count": 177,
   "id": "053732b5",
   "metadata": {},
   "outputs": [
    {
     "data": {
      "text/plain": [
       "array([[75448010881],\n",
       "       [74105978838],\n",
       "       [72925242456],\n",
       "       [72925242456],\n",
       "       [72925242456],\n",
       "       [67450164599],\n",
       "       [65343174889],\n",
       "       [64765111798],\n",
       "       [64789505445],\n",
       "       [63202473102],\n",
       "       [63202473102],\n",
       "       [63202473102],\n",
       "       [62665870546],\n",
       "       [60601644954],\n",
       "       [58806294388],\n",
       "       [60453311555],\n",
       "       [61043421719],\n",
       "       [61043421719],\n",
       "       [61043421719],\n",
       "       [61317378665],\n",
       "       [61596050079],\n",
       "       [63591376431],\n",
       "       [63239094079],\n",
       "       [64630140507],\n",
       "       [64630140507],\n",
       "       [64630140507],\n",
       "       [66115288637],\n",
       "       [68424049766],\n",
       "       [72492897583],\n",
       "       [72307860851]], dtype=int64)"
      ]
     },
     "execution_count": 177,
     "metadata": {},
     "output_type": "execute_result"
    }
   ],
   "source": [
    "sber_data[-30:]"
   ]
  },
  {
   "cell_type": "code",
   "execution_count": null,
   "id": "08553f16",
   "metadata": {},
   "outputs": [],
   "source": []
  }
 ],
 "metadata": {
  "kernelspec": {
   "display_name": "Python 3 (ipykernel)",
   "language": "python",
   "name": "python3"
  },
  "language_info": {
   "codemirror_mode": {
    "name": "ipython",
    "version": 3
   },
   "file_extension": ".py",
   "mimetype": "text/x-python",
   "name": "python",
   "nbconvert_exporter": "python",
   "pygments_lexer": "ipython3",
   "version": "3.10.4"
  }
 },
 "nbformat": 4,
 "nbformat_minor": 5
}
