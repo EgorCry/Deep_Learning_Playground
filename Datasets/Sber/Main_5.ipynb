{
 "cells": [
  {
   "cell_type": "code",
   "execution_count": 1,
   "id": "5cbea0c7",
   "metadata": {},
   "outputs": [],
   "source": [
    "import pandas as pd\n",
    "import matplotlib.pyplot as plt\n",
    "import numpy as np"
   ]
  },
  {
   "cell_type": "code",
   "execution_count": 2,
   "id": "4b48b26e",
   "metadata": {},
   "outputs": [
    {
     "name": "stderr",
     "output_type": "stream",
     "text": [
      "C:\\Temp\\ipykernel_4692\\4256145899.py:3: FutureWarning: The default value of regex will change from True to False in a future version. In addition, single character regular expressions will *not* be treated as literal strings when regex=True.\n",
      "  data['reportdate'] = data['reportdate'].str.replace('.', '/')\n"
     ]
    },
    {
     "data": {
      "text/html": [
       "<div>\n",
       "<style scoped>\n",
       "    .dataframe tbody tr th:only-of-type {\n",
       "        vertical-align: middle;\n",
       "    }\n",
       "\n",
       "    .dataframe tbody tr th {\n",
       "        vertical-align: top;\n",
       "    }\n",
       "\n",
       "    .dataframe thead th {\n",
       "        text-align: right;\n",
       "    }\n",
       "</style>\n",
       "<table border=\"1\" class=\"dataframe\">\n",
       "  <thead>\n",
       "    <tr style=\"text-align: right;\">\n",
       "      <th></th>\n",
       "      <th>reportdate</th>\n",
       "      <th>value</th>\n",
       "    </tr>\n",
       "  </thead>\n",
       "  <tbody>\n",
       "    <tr>\n",
       "      <th>0</th>\n",
       "      <td>2013-12-30</td>\n",
       "      <td>3457625638</td>\n",
       "    </tr>\n",
       "    <tr>\n",
       "      <th>1</th>\n",
       "      <td>2013-12-31</td>\n",
       "      <td>3417092149</td>\n",
       "    </tr>\n",
       "    <tr>\n",
       "      <th>2</th>\n",
       "      <td>2014-01-01</td>\n",
       "      <td>3417092149</td>\n",
       "    </tr>\n",
       "    <tr>\n",
       "      <th>3</th>\n",
       "      <td>2014-01-02</td>\n",
       "      <td>3417092149</td>\n",
       "    </tr>\n",
       "    <tr>\n",
       "      <th>4</th>\n",
       "      <td>2014-01-03</td>\n",
       "      <td>3417092149</td>\n",
       "    </tr>\n",
       "    <tr>\n",
       "      <th>5</th>\n",
       "      <td>2014-01-04</td>\n",
       "      <td>3417092149</td>\n",
       "    </tr>\n",
       "    <tr>\n",
       "      <th>6</th>\n",
       "      <td>2014-01-05</td>\n",
       "      <td>3417092149</td>\n",
       "    </tr>\n",
       "    <tr>\n",
       "      <th>7</th>\n",
       "      <td>2014-01-06</td>\n",
       "      <td>3320846785</td>\n",
       "    </tr>\n",
       "    <tr>\n",
       "      <th>8</th>\n",
       "      <td>2014-01-07</td>\n",
       "      <td>3320846785</td>\n",
       "    </tr>\n",
       "    <tr>\n",
       "      <th>9</th>\n",
       "      <td>2014-01-08</td>\n",
       "      <td>3630283744</td>\n",
       "    </tr>\n",
       "  </tbody>\n",
       "</table>\n",
       "</div>"
      ],
      "text/plain": [
       "  reportdate       value\n",
       "0 2013-12-30  3457625638\n",
       "1 2013-12-31  3417092149\n",
       "2 2014-01-01  3417092149\n",
       "3 2014-01-02  3417092149\n",
       "4 2014-01-03  3417092149\n",
       "5 2014-01-04  3417092149\n",
       "6 2014-01-05  3417092149\n",
       "7 2014-01-06  3320846785\n",
       "8 2014-01-07  3320846785\n",
       "9 2014-01-08  3630283744"
      ]
     },
     "execution_count": 2,
     "metadata": {},
     "output_type": "execute_result"
    }
   ],
   "source": [
    "data = pd.read_csv('DS_Sber.csv', sep=';')\n",
    "data.columns = data.columns.str.lower()\n",
    "data['reportdate'] = data['reportdate'].str.replace('.', '/')\n",
    "data[\"reportdate\"] = pd.to_datetime(data[\"reportdate\"], infer_datetime_format=True)\n",
    "\n",
    "data.head(10)"
   ]
  },
  {
   "cell_type": "code",
   "execution_count": 3,
   "id": "de9ad1ed",
   "metadata": {},
   "outputs": [
    {
     "name": "stdout",
     "output_type": "stream",
     "text": [
      "<class 'pandas.core.frame.DataFrame'>\n",
      "RangeIndex: 2111 entries, 0 to 2110\n",
      "Data columns (total 2 columns):\n",
      " #   Column      Non-Null Count  Dtype         \n",
      "---  ------      --------------  -----         \n",
      " 0   reportdate  2111 non-null   datetime64[ns]\n",
      " 1   value       2111 non-null   int64         \n",
      "dtypes: datetime64[ns](1), int64(1)\n",
      "memory usage: 33.1 KB\n"
     ]
    }
   ],
   "source": [
    "data.info()"
   ]
  },
  {
   "cell_type": "code",
   "execution_count": 4,
   "id": "3edd3266",
   "metadata": {},
   "outputs": [
    {
     "data": {
      "text/html": [
       "<div>\n",
       "<style scoped>\n",
       "    .dataframe tbody tr th:only-of-type {\n",
       "        vertical-align: middle;\n",
       "    }\n",
       "\n",
       "    .dataframe tbody tr th {\n",
       "        vertical-align: top;\n",
       "    }\n",
       "\n",
       "    .dataframe thead th {\n",
       "        text-align: right;\n",
       "    }\n",
       "</style>\n",
       "<table border=\"1\" class=\"dataframe\">\n",
       "  <thead>\n",
       "    <tr style=\"text-align: right;\">\n",
       "      <th></th>\n",
       "      <th>value</th>\n",
       "    </tr>\n",
       "  </thead>\n",
       "  <tbody>\n",
       "    <tr>\n",
       "      <th>count</th>\n",
       "      <td>2.111000e+03</td>\n",
       "    </tr>\n",
       "    <tr>\n",
       "      <th>mean</th>\n",
       "      <td>3.389668e+10</td>\n",
       "    </tr>\n",
       "    <tr>\n",
       "      <th>std</th>\n",
       "      <td>1.875474e+10</td>\n",
       "    </tr>\n",
       "    <tr>\n",
       "      <th>min</th>\n",
       "      <td>3.282810e+09</td>\n",
       "    </tr>\n",
       "    <tr>\n",
       "      <th>25%</th>\n",
       "      <td>1.824160e+10</td>\n",
       "    </tr>\n",
       "    <tr>\n",
       "      <th>50%</th>\n",
       "      <td>3.021352e+10</td>\n",
       "    </tr>\n",
       "    <tr>\n",
       "      <th>75%</th>\n",
       "      <td>4.758339e+10</td>\n",
       "    </tr>\n",
       "    <tr>\n",
       "      <th>max</th>\n",
       "      <td>7.822860e+10</td>\n",
       "    </tr>\n",
       "  </tbody>\n",
       "</table>\n",
       "</div>"
      ],
      "text/plain": [
       "              value\n",
       "count  2.111000e+03\n",
       "mean   3.389668e+10\n",
       "std    1.875474e+10\n",
       "min    3.282810e+09\n",
       "25%    1.824160e+10\n",
       "50%    3.021352e+10\n",
       "75%    4.758339e+10\n",
       "max    7.822860e+10"
      ]
     },
     "execution_count": 4,
     "metadata": {},
     "output_type": "execute_result"
    }
   ],
   "source": [
    "data.describe()"
   ]
  },
  {
   "cell_type": "code",
   "execution_count": 5,
   "id": "29d801e0",
   "metadata": {},
   "outputs": [
    {
     "data": {
      "text/plain": [
       "<AxesSubplot: >"
      ]
     },
     "execution_count": 5,
     "metadata": {},
     "output_type": "execute_result"
    },
    {
     "data": {
      "image/png": "[encoded data removed]",
      "text/plain": [
       "<Figure size 432x288 with 1 Axes>"
      ]
     },
     "metadata": {
      "needs_background": "light"
     },
     "output_type": "display_data"
    }
   ],
   "source": [
    "data.boxplot(['value'])"
   ]
  },
  {
   "cell_type": "code",
   "execution_count": 133,
   "id": "4d697e06",
   "metadata": {},
   "outputs": [
    {
     "data": {
      "image/png": "[encoded data removed]",
      "text/plain": [
       "<Figure size 1000x700 with 1 Axes>"
      ]
     },
     "metadata": {},
     "output_type": "display_data"
    }
   ],
   "source": [
    "plt.figure(figsize=(10, 7))\n",
    "\n",
    "plt.grid(True)\n",
    "plt.plot(np.array([int(i) for i in range(1, len(data)+1)]), data.value)\n",
    "\n",
    "plt.show()"
   ]
  },
  {
   "cell_type": "code",
   "execution_count": 7,
   "id": "8a9f267e",
   "metadata": {},
   "outputs": [],
   "source": [
    "from sklearn.preprocessing import MinMaxScaler"
   ]
  },
  {
   "cell_type": "code",
   "execution_count": 148,
   "id": "4f74d6d6",
   "metadata": {},
   "outputs": [],
   "source": [
    "df = np.array(data.value.values)[252:]\n",
    "\n",
    "df_train = np.array(df[:int(len(data) * 0.8)])\n",
    "df_test = np.array(df[int(len(data) * 0.8):])"
   ]
  },
  {
   "cell_type": "code",
   "execution_count": 149,
   "id": "1c062690",
   "metadata": {},
   "outputs": [],
   "source": [
    "scaler = MinMaxScaler(feature_range=(0, 1))\n",
    "train_scale = scaler.fit_transform(df_train.reshape(-1, 1))\n",
    "test_scale = scaler.transform(df_test.reshape(-1, 1))"
   ]
  },
  {
   "cell_type": "code",
   "execution_count": 150,
   "id": "eb8e6b68",
   "metadata": {},
   "outputs": [],
   "source": [
    "import tensorflow as tf\n",
    "from tensorflow.keras.preprocessing.sequence import TimeseriesGenerator"
   ]
  },
  {
   "cell_type": "code",
   "execution_count": 152,
   "id": "9cc95e97",
   "metadata": {},
   "outputs": [],
   "source": [
    "window = 120\n",
    "\n",
    "train_gen = TimeseriesGenerator(train_scale, train_scale, length=window)\n",
    "test_gen = TimeseriesGenerator(test_scale, test_scale, length=window)"
   ]
  },
  {
   "cell_type": "code",
   "execution_count": 153,
   "id": "3768fe79",
   "metadata": {},
   "outputs": [],
   "source": [
    "from keras.models import Sequential\n",
    "from keras.layers import LSTM, Dense, Dropout"
   ]
  },
  {
   "cell_type": "code",
   "execution_count": 166,
   "id": "d157d1aa",
   "metadata": {},
   "outputs": [
    {
     "name": "stdout",
     "output_type": "stream",
     "text": [
      "Model: \"Sber\"\n",
      "_________________________________________________________________\n",
      " Layer (type)                Output Shape              Param #   \n",
      "=================================================================\n",
      " lstm_37 (LSTM)              (None, 120, 128)          66560     \n",
      "                                                                 \n",
      " dropout_28 (Dropout)        (None, 120, 128)          0         \n",
      "                                                                 \n",
      " lstm_38 (LSTM)              (None, 120, 128)          131584    \n",
      "                                                                 \n",
      " dropout_29 (Dropout)        (None, 120, 128)          0         \n",
      "                                                                 \n",
      " lstm_39 (LSTM)              (None, 64)                49408     \n",
      "                                                                 \n",
      " dense_11 (Dense)            (None, 1)                 65        \n",
      "                                                                 \n",
      "=================================================================\n",
      "Total params: 247,617\n",
      "Trainable params: 247,617\n",
      "Non-trainable params: 0\n",
      "_________________________________________________________________\n"
     ]
    }
   ],
   "source": [
    "model = Sequential(name='Sber')\n",
    "model.add(LSTM(128, activation='relu', return_sequences=True, input_shape=(window, 1)))\n",
    "model.add(Dropout(0.2))\n",
    "model.add(LSTM(128, activation='relu', return_sequences=True))\n",
    "model.add(Dropout(0.2))\n",
    "model.add(LSTM(64, activation='relu'))\n",
    "model.add(Dense(1, activation='sigmoid'))\n",
    "\n",
    "model.compile(loss='mean_squared_error', optimizer='adam')\n",
    "\n",
    "model.summary()"
   ]
  },
  {
   "cell_type": "code",
   "execution_count": 167,
   "id": "bda4ad3b",
   "metadata": {},
   "outputs": [
    {
     "name": "stdout",
     "output_type": "stream",
     "text": [
      "Epoch 1/50\n",
      "13/13 [==============================] - 12s 774ms/step - loss: 0.0834 - val_loss: 0.1180\n",
      "Epoch 2/50\n",
      "13/13 [==============================] - 11s 850ms/step - loss: 0.0765 - val_loss: 0.1164\n",
      "Epoch 3/50\n",
      "13/13 [==============================] - 10s 743ms/step - loss: 0.0461 - val_loss: 0.1146\n",
      "Epoch 4/50\n",
      "13/13 [==============================] - 10s 793ms/step - loss: 0.0339 - val_loss: 0.1070\n",
      "Epoch 5/50\n",
      "13/13 [==============================] - 10s 793ms/step - loss: 0.0333 - val_loss: 0.0955\n",
      "Epoch 6/50\n",
      "13/13 [==============================] - 10s 767ms/step - loss: 0.0340 - val_loss: 0.0833\n",
      "Epoch 7/50\n",
      "13/13 [==============================] - 10s 767ms/step - loss: 0.0168 - val_loss: 0.0399\n",
      "Epoch 8/50\n",
      "13/13 [==============================] - 10s 745ms/step - loss: 0.0143 - val_loss: 0.0074\n",
      "Epoch 9/50\n",
      "13/13 [==============================] - 10s 833ms/step - loss: 0.0173 - val_loss: 0.0646\n",
      "Epoch 10/50\n",
      "13/13 [==============================] - 12s 908ms/step - loss: 0.0124 - val_loss: 0.0381\n",
      "Epoch 11/50\n",
      "13/13 [==============================] - 13s 996ms/step - loss: 0.0085 - val_loss: 0.0169\n",
      "Epoch 12/50\n",
      "13/13 [==============================] - 11s 840ms/step - loss: 0.0064 - val_loss: 0.0097\n",
      "Epoch 13/50\n",
      "13/13 [==============================] - 10s 764ms/step - loss: 0.0043 - val_loss: 0.5995\n",
      "Epoch 14/50\n",
      "13/13 [==============================] - 10s 757ms/step - loss: 0.0043 - val_loss: 0.0069\n",
      "Epoch 15/50\n",
      "13/13 [==============================] - 10s 748ms/step - loss: 0.0032 - val_loss: 0.0093\n",
      "Epoch 16/50\n",
      "13/13 [==============================] - 10s 755ms/step - loss: 0.0031 - val_loss: 0.0095\n",
      "Epoch 17/50\n",
      "13/13 [==============================] - 12s 933ms/step - loss: 0.0031 - val_loss: 0.0095\n",
      "Epoch 18/50\n",
      "13/13 [==============================] - 10s 795ms/step - loss: 0.0030 - val_loss: 0.0079\n",
      "Epoch 19/50\n",
      "13/13 [==============================] - 10s 788ms/step - loss: 0.0030 - val_loss: 0.0137\n",
      "Epoch 20/50\n",
      "13/13 [==============================] - 10s 809ms/step - loss: 0.0029 - val_loss: 0.0068\n",
      "Epoch 21/50\n",
      "13/13 [==============================] - 10s 759ms/step - loss: 0.0030 - val_loss: 0.0089\n",
      "Epoch 22/50\n",
      "13/13 [==============================] - 10s 766ms/step - loss: 0.0029 - val_loss: 0.0101\n",
      "Epoch 23/50\n",
      "13/13 [==============================] - 10s 779ms/step - loss: 0.0029 - val_loss: 0.0106\n",
      "Epoch 24/50\n",
      "13/13 [==============================] - 12s 917ms/step - loss: 0.0028 - val_loss: 0.0095\n",
      "Epoch 25/50\n",
      "13/13 [==============================] - 11s 809ms/step - loss: 0.0029 - val_loss: 0.0088\n",
      "Epoch 26/50\n",
      "13/13 [==============================] - 10s 760ms/step - loss: 0.0028 - val_loss: 0.0089\n",
      "Epoch 27/50\n",
      "13/13 [==============================] - 10s 763ms/step - loss: 0.0030 - val_loss: 0.0085\n",
      "Epoch 28/50\n",
      "13/13 [==============================] - 12s 949ms/step - loss: 0.0029 - val_loss: 0.0068\n",
      "Epoch 29/50\n",
      "13/13 [==============================] - 10s 803ms/step - loss: 0.0028 - val_loss: 0.0122\n",
      "Epoch 30/50\n",
      "13/13 [==============================] - 11s 810ms/step - loss: 0.0028 - val_loss: 0.0058\n",
      "Epoch 31/50\n",
      "13/13 [==============================] - 10s 801ms/step - loss: 0.0031 - val_loss: 0.0193\n",
      "Epoch 32/50\n",
      "13/13 [==============================] - 10s 782ms/step - loss: 0.0034 - val_loss: 0.0060\n",
      "Epoch 33/50\n",
      "13/13 [==============================] - 12s 872ms/step - loss: 0.0036 - val_loss: 0.0111\n",
      "Epoch 34/50\n",
      "13/13 [==============================] - 10s 749ms/step - loss: 0.0032 - val_loss: 0.0060\n",
      "Epoch 35/50\n",
      "13/13 [==============================] - 10s 777ms/step - loss: 0.0029 - val_loss: 0.0087\n",
      "Epoch 36/50\n",
      "13/13 [==============================] - 10s 783ms/step - loss: 0.0029 - val_loss: 0.0073\n",
      "Epoch 37/50\n",
      "13/13 [==============================] - 10s 762ms/step - loss: 0.0030 - val_loss: 0.0098\n",
      "Epoch 38/50\n",
      "13/13 [==============================] - 10s 763ms/step - loss: 0.0028 - val_loss: 0.0073\n",
      "Epoch 39/50\n",
      "13/13 [==============================] - 10s 756ms/step - loss: 0.0027 - val_loss: 0.0081\n",
      "Epoch 40/50\n",
      "13/13 [==============================] - 10s 829ms/step - loss: 0.0028 - val_loss: 0.0081\n",
      "Epoch 41/50\n",
      "13/13 [==============================] - 10s 754ms/step - loss: 0.0028 - val_loss: 0.0096\n",
      "Epoch 42/50\n",
      "13/13 [==============================] - 10s 828ms/step - loss: 0.0029 - val_loss: 0.0080\n",
      "Epoch 43/50\n",
      "13/13 [==============================] - 10s 764ms/step - loss: 0.0028 - val_loss: 0.0073\n",
      "Epoch 44/50\n",
      "13/13 [==============================] - 10s 760ms/step - loss: 0.0028 - val_loss: 0.0080\n",
      "Epoch 45/50\n",
      "13/13 [==============================] - 10s 763ms/step - loss: 0.0027 - val_loss: 0.0069\n",
      "Epoch 46/50\n",
      "13/13 [==============================] - 10s 754ms/step - loss: 0.0029 - val_loss: 0.0126\n",
      "Epoch 47/50\n",
      "13/13 [==============================] - 10s 753ms/step - loss: 0.0031 - val_loss: 0.0059\n",
      "Epoch 48/50\n",
      "13/13 [==============================] - 12s 956ms/step - loss: 0.0032 - val_loss: 0.0125\n",
      "Epoch 49/50\n",
      "13/13 [==============================] - 10s 763ms/step - loss: 0.0033 - val_loss: 0.0103\n",
      "Epoch 50/50\n",
      "13/13 [==============================] - 14s 1s/step - loss: 0.0029 - val_loss: 0.0067\n"
     ]
    },
    {
     "data": {
      "text/plain": [
       "<keras.callbacks.History at 0x143b31074c0>"
      ]
     },
     "execution_count": 167,
     "metadata": {},
     "output_type": "execute_result"
    }
   ],
   "source": [
    "model.fit(train_gen, epochs=50, validation_data=test_gen)"
   ]
  },
  {
   "cell_type": "code",
   "execution_count": 175,
   "id": "4d300abc",
   "metadata": {},
   "outputs": [
    {
     "data": {
      "text/plain": [
       "[<matplotlib.lines.Line2D at 0x143b340ef50>]"
      ]
     },
     "execution_count": 175,
     "metadata": {},
     "output_type": "execute_result"
    },
    {
     "data": {
      "image/png": "[encoded data removed]",
      "text/plain": [
       "<Figure size 640x480 with 1 Axes>"
      ]
     },
     "metadata": {},
     "output_type": "display_data"
    }
   ],
   "source": [
    "train_predict = scaler.inverse_transform(model.predict(train_gen))\n",
    "test_predict = scaler.inverse_transform(model.predict(test_gen))\n",
    "plt.plot(np.append(np.array([0] * window), df), color='g')\n",
    "plt.plot(np.append(np.array([0]*window), train_predict), color='b')\n",
    "plt.plot(np.append(np.array([0] * window), np.append(train_predict * 0, test_predict)), color='r')\n",
    "\n",
    "# plt.plot(nswr*0.95, color='yellow')"
   ]
  },
  {
   "cell_type": "code",
   "execution_count": 168,
   "id": "c3273a00",
   "metadata": {},
   "outputs": [],
   "source": [
    "nswr = df.copy().reshape(-1, 1)\n",
    "\n",
    "for _ in range(window):\n",
    "    test = scaler.transform(nswr.copy()[-window:].reshape(-1, 1))\n",
    "\n",
    "    test = test.reshape(1, window, 1)\n",
    "\n",
    "    test = scaler.inverse_transform(model.predict(test))\n",
    "    \n",
    "    nswr = np.append(nswr, test)\n",
    "    \n",
    "nswr = nswr.reshape(-1, 1)"
   ]
  },
  {
   "cell_type": "code",
   "execution_count": 169,
   "id": "22f9c6be",
   "metadata": {},
   "outputs": [
    {
     "data": {
      "text/plain": [
       "array([[6.55275172e+10],\n",
       "       [6.55511347e+10],\n",
       "       [6.55813878e+10],\n",
       "       [6.56145859e+10],\n",
       "       [6.56486728e+10],\n",
       "       [6.56825590e+10],\n",
       "       [6.57156874e+10],\n",
       "       [6.57477714e+10],\n",
       "       [6.57786675e+10],\n",
       "       [6.58084168e+10],\n",
       "       [6.58371092e+10],\n",
       "       [6.58648596e+10],\n",
       "       [6.58917827e+10],\n",
       "       [6.59179766e+10],\n",
       "       [6.59435028e+10],\n",
       "       [6.59684106e+10],\n",
       "       [6.59927409e+10],\n",
       "       [6.60165550e+10],\n",
       "       [6.60398940e+10],\n",
       "       [6.60627579e+10],\n",
       "       [6.60851835e+10],\n",
       "       [6.61071790e+10],\n",
       "       [6.61287690e+10],\n",
       "       [6.61499331e+10],\n",
       "       [6.61707366e+10],\n",
       "       [6.61911921e+10],\n",
       "       [6.62112993e+10],\n",
       "       [6.62310502e+10],\n",
       "       [6.62504776e+10],\n",
       "       [6.62695526e+10],\n",
       "       [6.62883287e+10],\n",
       "       [6.63068303e+10],\n",
       "       [6.63250698e+10],\n",
       "       [6.63431086e+10],\n",
       "       [6.63609221e+10],\n",
       "       [6.63784571e+10],\n",
       "       [6.63957709e+10],\n",
       "       [6.64128430e+10],\n",
       "       [6.64296817e+10],\n",
       "       [6.64462868e+10],\n",
       "       [6.64626913e+10],\n",
       "       [6.64788992e+10],\n",
       "       [6.64948818e+10],\n",
       "       [6.65106637e+10],\n",
       "       [6.65262326e+10],\n",
       "       [6.65415967e+10],\n",
       "       [6.65567724e+10],\n",
       "       [6.65717514e+10],\n",
       "       [6.65865626e+10],\n",
       "       [6.66011566e+10],\n",
       "       [6.66155663e+10],\n",
       "       [6.66297836e+10],\n",
       "       [6.66438246e+10],\n",
       "       [6.66576937e+10],\n",
       "       [6.66713948e+10],\n",
       "       [6.66849034e+10],\n",
       "       [6.66982277e+10],\n",
       "       [6.67113636e+10],\n",
       "       [6.67243110e+10],\n",
       "       [6.67370947e+10],\n",
       "       [6.67497308e+10],\n",
       "       [6.67621908e+10],\n",
       "       [6.67745239e+10],\n",
       "       [6.67867054e+10],\n",
       "       [6.67987722e+10],\n",
       "       [6.68106670e+10],\n",
       "       [6.68224061e+10],\n",
       "       [6.68340101e+10],\n",
       "       [6.68454748e+10],\n",
       "       [6.68568576e+10],\n",
       "       [6.68681052e+10],\n",
       "       [6.68792054e+10],\n",
       "       [6.68901868e+10],\n",
       "       [6.69010248e+10],\n",
       "       [6.69117153e+10],\n",
       "       [6.69222994e+10],\n",
       "       [6.69327565e+10],\n",
       "       [6.69430743e+10],\n",
       "       [6.69532488e+10],\n",
       "       [6.69632963e+10],\n",
       "       [6.69732127e+10],\n",
       "       [6.69829980e+10],\n",
       "       [6.69926646e+10],\n",
       "       [6.70022164e+10],\n",
       "       [6.70116250e+10],\n",
       "       [6.70208942e+10],\n",
       "       [6.70300119e+10],\n",
       "       [6.70390108e+10],\n",
       "       [6.70479032e+10],\n",
       "       [6.70566687e+10],\n",
       "       [6.70653276e+10],\n",
       "       [6.70737981e+10],\n",
       "       [6.70821786e+10],\n",
       "       [6.70904689e+10],\n",
       "       [6.70986609e+10],\n",
       "       [6.71067464e+10],\n",
       "       [6.71147950e+10],\n",
       "       [6.71227658e+10],\n",
       "       [6.71306383e+10],\n",
       "       [6.71384044e+10],\n",
       "       [6.71460844e+10],\n",
       "       [6.71536783e+10],\n",
       "       [6.71611617e+10],\n",
       "       [6.71685468e+10],\n",
       "       [6.71758746e+10],\n",
       "       [6.71831163e+10],\n",
       "       [6.71902433e+10],\n",
       "       [6.71972721e+10],\n",
       "       [6.72042107e+10],\n",
       "       [6.72110551e+10],\n",
       "       [6.72178176e+10],\n",
       "       [6.72244818e+10],\n",
       "       [6.72310395e+10],\n",
       "       [6.72375235e+10],\n",
       "       [6.72439050e+10],\n",
       "       [6.72502047e+10],\n",
       "       [6.72564306e+10],\n",
       "       [6.72625541e+10],\n",
       "       [6.72685875e+10],\n",
       "       [6.72744980e+10]])"
      ]
     },
     "execution_count": 169,
     "metadata": {},
     "output_type": "execute_result"
    }
   ],
   "source": [
    "nswr[-window:]"
   ]
  },
  {
   "cell_type": "code",
   "execution_count": null,
   "id": "3774b635",
   "metadata": {},
   "outputs": [],
   "source": []
  }
 ],
 "metadata": {
  "kernelspec": {
   "display_name": "Python 3 (ipykernel)",
   "language": "python",
   "name": "python3"
  },
  "language_info": {
   "codemirror_mode": {
    "name": "ipython",
    "version": 3
   },
   "file_extension": ".py",
   "mimetype": "text/x-python",
   "name": "python",
   "nbconvert_exporter": "python",
   "pygments_lexer": "ipython3",
   "version": "3.10.4"
  }
 },
 "nbformat": 4,
 "nbformat_minor": 5
}
